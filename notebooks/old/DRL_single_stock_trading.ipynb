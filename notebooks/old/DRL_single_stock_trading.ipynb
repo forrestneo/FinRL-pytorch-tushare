{
  "nbformat": 4,
  "nbformat_minor": 0,
  "metadata": {
    "kernelspec": {
      "display_name": "Python 3",
      "language": "python",
      "name": "python3"
    },
    "language_info": {
      "codemirror_mode": {
        "name": "ipython",
        "version": 3
      },
      "file_extension": ".py",
      "mimetype": "text/x-python",
      "name": "python",
      "nbconvert_exporter": "python",
      "pygments_lexer": "ipython3",
      "version": "3.6.10"
    },
    "colab": {
      "name": "DRL_single_stock_trading.ipynb",
      "provenance": [],
      "collapsed_sections": [],
      "toc_visible": true,
      "include_colab_link": true
    }
  },
  "cells": [
    {
      "cell_type": "markdown",
      "metadata": {
        "id": "view-in-github",
        "colab_type": "text"
      },
      "source": [
        "<a href=\"https://colab.research.google.com/github/AI4Finance-LLC/FinRL-Library/blob/master/DRL_single_stock_trading.ipynb\" target=\"_parent\"><img src=\"https://colab.research.google.com/assets/colab-badge.svg\" alt=\"Open In Colab\"/></a>"
      ]
    },
    {
      "cell_type": "markdown",
      "metadata": {
        "id": "Idd1jem0TnST"
      },
      "source": [
        "# Deep Reinforcement Learning for Stock Trading from Scratch: Single Stock Trading\n",
        "\n",
        "Tutorials to use OpenAI DRL to trade single stock in one Jupyter Notebook | Presented at NeurIPS 2020: Deep RL Workshop\n",
        "\n",
        "* This blog is based on our paper: FinRL: A Deep Reinforcement Learning Library for Automated Stock Trading in Quantitative Finance, presented at NeurIPS 2020: Deep RL Workshop.\n",
        "* Check out medium blog for detailed explanations: \n",
        "* Please report any issues to our Github: https://github.com/AI4Finance-LLC/FinRL-Library/issues\n",
        "\n"
      ]
    },
    {
      "cell_type": "markdown",
      "metadata": {
        "id": "xD3f90UnTnSU"
      },
      "source": [
        "## Python Package Installation\n",
        "\n",
        "As a first step we check if the additional packages needed are present, if not install them. \n",
        "* Yahoo Finance API\n",
        "* pandas\n",
        "* matplotlib\n",
        "* stockstats\n",
        "* OpenAI gym\n",
        "* stable-baselines\n",
        "* tensorflow"
      ]
    },
    {
      "cell_type": "code",
      "metadata": {
        "id": "jeFTP-XzTnSV",
        "outputId": "3101d1db-00b8-43af-9a35-3add21c24557",
        "colab": {
          "base_uri": "https://localhost:8080/",
          "height": 1000
        }
      },
      "source": [
        "import pkg_resources\n",
        "import pip\n",
        "installedPackages = {pkg.key for pkg in pkg_resources.working_set}\n",
        "required = {'yfinance', 'pandas', 'matplotlib', 'stockstats','stable-baselines','gym','tensorflow'}\n",
        "missing = required - installedPackages\n",
        "if missing:\n",
        "    !pip install yfinance\n",
        "    !pip install pandas\n",
        "    !pip install matplotlib\n",
        "    !pip install stockstats\n",
        "    !pip install gym\n",
        "    !pip install stable-baselines[mpi]\n",
        "    !pip install tensorflow==1.15.4\n"
      ],
      "execution_count": 3,
      "outputs": [
        {
          "output_type": "stream",
          "text": [
            "Collecting yfinance\n",
            "  Downloading https://files.pythonhosted.org/packages/7a/e8/b9d7104d3a4bf39924799067592d9e59119fcfc900a425a12e80a3123ec8/yfinance-0.1.55.tar.gz\n",
            "Requirement already satisfied: pandas>=0.24 in /usr/local/lib/python3.6/dist-packages (from yfinance) (1.1.2)\n",
            "Requirement already satisfied: numpy>=1.15 in /usr/local/lib/python3.6/dist-packages (from yfinance) (1.18.5)\n",
            "Requirement already satisfied: requests>=2.20 in /usr/local/lib/python3.6/dist-packages (from yfinance) (2.23.0)\n",
            "Requirement already satisfied: multitasking>=0.0.7 in /usr/local/lib/python3.6/dist-packages (from yfinance) (0.0.9)\n",
            "Collecting lxml>=4.5.1\n",
            "\u001b[?25l  Downloading https://files.pythonhosted.org/packages/64/28/0b761b64ecbd63d272ed0e7a6ae6e4402fc37886b59181bfdf274424d693/lxml-4.6.1-cp36-cp36m-manylinux1_x86_64.whl (5.5MB)\n",
            "\u001b[K     |████████████████████████████████| 5.5MB 3.6MB/s \n",
            "\u001b[?25hRequirement already satisfied: pytz>=2017.2 in /usr/local/lib/python3.6/dist-packages (from pandas>=0.24->yfinance) (2018.9)\n",
            "Requirement already satisfied: python-dateutil>=2.7.3 in /usr/local/lib/python3.6/dist-packages (from pandas>=0.24->yfinance) (2.8.1)\n",
            "Requirement already satisfied: chardet<4,>=3.0.2 in /usr/local/lib/python3.6/dist-packages (from requests>=2.20->yfinance) (3.0.4)\n",
            "Requirement already satisfied: idna<3,>=2.5 in /usr/local/lib/python3.6/dist-packages (from requests>=2.20->yfinance) (2.10)\n",
            "Requirement already satisfied: urllib3!=1.25.0,!=1.25.1,<1.26,>=1.21.1 in /usr/local/lib/python3.6/dist-packages (from requests>=2.20->yfinance) (1.24.3)\n",
            "Requirement already satisfied: certifi>=2017.4.17 in /usr/local/lib/python3.6/dist-packages (from requests>=2.20->yfinance) (2020.6.20)\n",
            "Requirement already satisfied: six>=1.5 in /usr/local/lib/python3.6/dist-packages (from python-dateutil>=2.7.3->pandas>=0.24->yfinance) (1.15.0)\n",
            "Building wheels for collected packages: yfinance\n",
            "  Building wheel for yfinance (setup.py) ... \u001b[?25l\u001b[?25hdone\n",
            "  Created wheel for yfinance: filename=yfinance-0.1.55-py2.py3-none-any.whl size=22618 sha256=7d89f66131cbb58f2c7444aa8bc8b6b9353689d8e78f8339f3f83724acd099bd\n",
            "  Stored in directory: /root/.cache/pip/wheels/04/98/cc/2702a4242d60bdc14f48b4557c427ded1fe92aedf257d4565c\n",
            "Successfully built yfinance\n",
            "Installing collected packages: lxml, yfinance\n",
            "  Found existing installation: lxml 4.2.6\n",
            "    Uninstalling lxml-4.2.6:\n",
            "      Successfully uninstalled lxml-4.2.6\n",
            "Successfully installed lxml-4.6.1 yfinance-0.1.55\n",
            "Requirement already satisfied: pandas in /usr/local/lib/python3.6/dist-packages (1.1.2)\n",
            "Requirement already satisfied: numpy>=1.15.4 in /usr/local/lib/python3.6/dist-packages (from pandas) (1.18.5)\n",
            "Requirement already satisfied: pytz>=2017.2 in /usr/local/lib/python3.6/dist-packages (from pandas) (2018.9)\n",
            "Requirement already satisfied: python-dateutil>=2.7.3 in /usr/local/lib/python3.6/dist-packages (from pandas) (2.8.1)\n",
            "Requirement already satisfied: six>=1.5 in /usr/local/lib/python3.6/dist-packages (from python-dateutil>=2.7.3->pandas) (1.15.0)\n",
            "Requirement already satisfied: matplotlib in /usr/local/lib/python3.6/dist-packages (3.2.2)\n",
            "Requirement already satisfied: pyparsing!=2.0.4,!=2.1.2,!=2.1.6,>=2.0.1 in /usr/local/lib/python3.6/dist-packages (from matplotlib) (2.4.7)\n",
            "Requirement already satisfied: cycler>=0.10 in /usr/local/lib/python3.6/dist-packages (from matplotlib) (0.10.0)\n",
            "Requirement already satisfied: kiwisolver>=1.0.1 in /usr/local/lib/python3.6/dist-packages (from matplotlib) (1.2.0)\n",
            "Requirement already satisfied: numpy>=1.11 in /usr/local/lib/python3.6/dist-packages (from matplotlib) (1.18.5)\n",
            "Requirement already satisfied: python-dateutil>=2.1 in /usr/local/lib/python3.6/dist-packages (from matplotlib) (2.8.1)\n",
            "Requirement already satisfied: six in /usr/local/lib/python3.6/dist-packages (from cycler>=0.10->matplotlib) (1.15.0)\n",
            "Collecting stockstats\n",
            "  Downloading https://files.pythonhosted.org/packages/32/41/d3828c5bc0a262cb3112a4024108a3b019c183fa3b3078bff34bf25abf91/stockstats-0.3.2-py2.py3-none-any.whl\n",
            "Requirement already satisfied: pandas>=0.18.1 in /usr/local/lib/python3.6/dist-packages (from stockstats) (1.1.2)\n",
            "Requirement already satisfied: numpy>=1.9.2 in /usr/local/lib/python3.6/dist-packages (from stockstats) (1.18.5)\n",
            "Collecting int-date>=0.1.7\n",
            "  Downloading https://files.pythonhosted.org/packages/43/27/31803df15173ab341fe7548c14154b54227dfd8f630daa09a1c6e7db52f7/int_date-0.1.8-py2.py3-none-any.whl\n",
            "Requirement already satisfied: python-dateutil>=2.7.3 in /usr/local/lib/python3.6/dist-packages (from pandas>=0.18.1->stockstats) (2.8.1)\n",
            "Requirement already satisfied: pytz>=2017.2 in /usr/local/lib/python3.6/dist-packages (from pandas>=0.18.1->stockstats) (2018.9)\n",
            "Requirement already satisfied: six>=1.9.0 in /usr/local/lib/python3.6/dist-packages (from int-date>=0.1.7->stockstats) (1.15.0)\n",
            "Installing collected packages: int-date, stockstats\n",
            "Successfully installed int-date-0.1.8 stockstats-0.3.2\n",
            "Requirement already satisfied: gym in /usr/local/lib/python3.6/dist-packages (0.17.2)\n",
            "Requirement already satisfied: scipy in /usr/local/lib/python3.6/dist-packages (from gym) (1.4.1)\n",
            "Requirement already satisfied: cloudpickle<1.4.0,>=1.2.0 in /usr/local/lib/python3.6/dist-packages (from gym) (1.3.0)\n",
            "Requirement already satisfied: pyglet<=1.5.0,>=1.4.0 in /usr/local/lib/python3.6/dist-packages (from gym) (1.5.0)\n",
            "Requirement already satisfied: numpy>=1.10.4 in /usr/local/lib/python3.6/dist-packages (from gym) (1.18.5)\n",
            "Requirement already satisfied: future in /usr/local/lib/python3.6/dist-packages (from pyglet<=1.5.0,>=1.4.0->gym) (0.16.0)\n",
            "Collecting stable-baselines[mpi]\n",
            "\u001b[?25l  Downloading https://files.pythonhosted.org/packages/b0/48/d428b79bd4360727925f9fe34afeea7a9da381da3dc8748df834a349ad1d/stable_baselines-2.10.1-py3-none-any.whl (240kB)\n",
            "\u001b[K     |████████████████████████████████| 245kB 2.8MB/s \n",
            "\u001b[?25hRequirement already satisfied: matplotlib in /usr/local/lib/python3.6/dist-packages (from stable-baselines[mpi]) (3.2.2)\n",
            "Requirement already satisfied: joblib in /usr/local/lib/python3.6/dist-packages (from stable-baselines[mpi]) (0.16.0)\n",
            "Requirement already satisfied: numpy in /usr/local/lib/python3.6/dist-packages (from stable-baselines[mpi]) (1.18.5)\n",
            "Requirement already satisfied: gym[atari,classic_control]>=0.11 in /usr/local/lib/python3.6/dist-packages (from stable-baselines[mpi]) (0.17.2)\n",
            "Requirement already satisfied: opencv-python in /usr/local/lib/python3.6/dist-packages (from stable-baselines[mpi]) (4.1.2.30)\n",
            "Requirement already satisfied: cloudpickle>=0.5.5 in /usr/local/lib/python3.6/dist-packages (from stable-baselines[mpi]) (1.3.0)\n",
            "Requirement already satisfied: pandas in /usr/local/lib/python3.6/dist-packages (from stable-baselines[mpi]) (1.1.2)\n",
            "Requirement already satisfied: scipy in /usr/local/lib/python3.6/dist-packages (from stable-baselines[mpi]) (1.4.1)\n",
            "Collecting mpi4py; extra == \"mpi\"\n",
            "\u001b[?25l  Downloading https://files.pythonhosted.org/packages/ec/8f/bbd8de5ba566dd77e408d8136e2bab7fdf2b97ce06cab830ba8b50a2f588/mpi4py-3.0.3.tar.gz (1.4MB)\n",
            "\u001b[K     |████████████████████████████████| 1.4MB 8.7MB/s \n",
            "\u001b[?25hRequirement already satisfied: cycler>=0.10 in /usr/local/lib/python3.6/dist-packages (from matplotlib->stable-baselines[mpi]) (0.10.0)\n",
            "Requirement already satisfied: python-dateutil>=2.1 in /usr/local/lib/python3.6/dist-packages (from matplotlib->stable-baselines[mpi]) (2.8.1)\n",
            "Requirement already satisfied: pyparsing!=2.0.4,!=2.1.2,!=2.1.6,>=2.0.1 in /usr/local/lib/python3.6/dist-packages (from matplotlib->stable-baselines[mpi]) (2.4.7)\n",
            "Requirement already satisfied: kiwisolver>=1.0.1 in /usr/local/lib/python3.6/dist-packages (from matplotlib->stable-baselines[mpi]) (1.2.0)\n",
            "Requirement already satisfied: pyglet<=1.5.0,>=1.4.0 in /usr/local/lib/python3.6/dist-packages (from gym[atari,classic_control]>=0.11->stable-baselines[mpi]) (1.5.0)\n",
            "Requirement already satisfied: atari-py~=0.2.0; extra == \"atari\" in /usr/local/lib/python3.6/dist-packages (from gym[atari,classic_control]>=0.11->stable-baselines[mpi]) (0.2.6)\n",
            "Requirement already satisfied: Pillow; extra == \"atari\" in /usr/local/lib/python3.6/dist-packages (from gym[atari,classic_control]>=0.11->stable-baselines[mpi]) (7.0.0)\n",
            "Requirement already satisfied: pytz>=2017.2 in /usr/local/lib/python3.6/dist-packages (from pandas->stable-baselines[mpi]) (2018.9)\n",
            "Requirement already satisfied: six in /usr/local/lib/python3.6/dist-packages (from cycler>=0.10->matplotlib->stable-baselines[mpi]) (1.15.0)\n",
            "Requirement already satisfied: future in /usr/local/lib/python3.6/dist-packages (from pyglet<=1.5.0,>=1.4.0->gym[atari,classic_control]>=0.11->stable-baselines[mpi]) (0.16.0)\n",
            "Building wheels for collected packages: mpi4py\n",
            "  Building wheel for mpi4py (setup.py) ... \u001b[?25l\u001b[?25hdone\n",
            "  Created wheel for mpi4py: filename=mpi4py-3.0.3-cp36-cp36m-linux_x86_64.whl size=2074501 sha256=a07c9149b0e6ef809d06789949fd347417c7b2912b70d8440ca3e9cb5e3dd987\n",
            "  Stored in directory: /root/.cache/pip/wheels/18/e0/86/2b713dd512199096012ceca61429e12b960888de59818871d6\n",
            "Successfully built mpi4py\n",
            "Installing collected packages: mpi4py, stable-baselines\n",
            "Successfully installed mpi4py-3.0.3 stable-baselines-2.10.1\n",
            "Collecting tensorflow==1.15.4\n",
            "\u001b[?25l  Downloading https://files.pythonhosted.org/packages/8e/64/7a19837dd54d3f53b1ce5ae346ab401dde9678e8f233220317000bfdb3e2/tensorflow-1.15.4-cp36-cp36m-manylinux2010_x86_64.whl (110.5MB)\n",
            "\u001b[K     |████████████████████████████████| 110.5MB 1.4MB/s \n",
            "\u001b[?25hCollecting keras-applications>=1.0.8\n",
            "\u001b[?25l  Downloading https://files.pythonhosted.org/packages/71/e3/19762fdfc62877ae9102edf6342d71b28fbfd9dea3d2f96a882ce099b03f/Keras_Applications-1.0.8-py3-none-any.whl (50kB)\n",
            "\u001b[K     |████████████████████████████████| 51kB 5.0MB/s \n",
            "\u001b[?25hCollecting gast==0.2.2\n",
            "  Downloading https://files.pythonhosted.org/packages/4e/35/11749bf99b2d4e3cceb4d55ca22590b0d7c2c62b9de38ac4a4a7f4687421/gast-0.2.2.tar.gz\n",
            "Requirement already satisfied: keras-preprocessing>=1.0.5 in /usr/local/lib/python3.6/dist-packages (from tensorflow==1.15.4) (1.1.2)\n",
            "Requirement already satisfied: opt-einsum>=2.3.2 in /usr/local/lib/python3.6/dist-packages (from tensorflow==1.15.4) (3.3.0)\n",
            "Requirement already satisfied: astor>=0.6.0 in /usr/local/lib/python3.6/dist-packages (from tensorflow==1.15.4) (0.8.1)\n",
            "Requirement already satisfied: six>=1.10.0 in /usr/local/lib/python3.6/dist-packages (from tensorflow==1.15.4) (1.15.0)\n",
            "Requirement already satisfied: termcolor>=1.1.0 in /usr/local/lib/python3.6/dist-packages (from tensorflow==1.15.4) (1.1.0)\n",
            "Requirement already satisfied: google-pasta>=0.1.6 in /usr/local/lib/python3.6/dist-packages (from tensorflow==1.15.4) (0.2.0)\n",
            "Collecting tensorflow-estimator==1.15.1\n",
            "\u001b[?25l  Downloading https://files.pythonhosted.org/packages/de/62/2ee9cd74c9fa2fa450877847ba560b260f5d0fb70ee0595203082dafcc9d/tensorflow_estimator-1.15.1-py2.py3-none-any.whl (503kB)\n",
            "\u001b[K     |████████████████████████████████| 512kB 41.9MB/s \n",
            "\u001b[?25hRequirement already satisfied: absl-py>=0.7.0 in /usr/local/lib/python3.6/dist-packages (from tensorflow==1.15.4) (0.10.0)\n",
            "Requirement already satisfied: wheel>=0.26; python_version >= \"3\" in /usr/local/lib/python3.6/dist-packages (from tensorflow==1.15.4) (0.35.1)\n",
            "Requirement already satisfied: protobuf>=3.6.1 in /usr/local/lib/python3.6/dist-packages (from tensorflow==1.15.4) (3.12.4)\n",
            "Requirement already satisfied: grpcio>=1.8.6 in /usr/local/lib/python3.6/dist-packages (from tensorflow==1.15.4) (1.32.0)\n",
            "Requirement already satisfied: wrapt>=1.11.1 in /usr/local/lib/python3.6/dist-packages (from tensorflow==1.15.4) (1.12.1)\n",
            "Requirement already satisfied: numpy<1.19.0,>=1.16.0 in /usr/local/lib/python3.6/dist-packages (from tensorflow==1.15.4) (1.18.5)\n",
            "Collecting tensorboard<1.16.0,>=1.15.0\n",
            "\u001b[?25l  Downloading https://files.pythonhosted.org/packages/1e/e9/d3d747a97f7188f48aa5eda486907f3b345cd409f0a0850468ba867db246/tensorboard-1.15.0-py3-none-any.whl (3.8MB)\n",
            "\u001b[K     |████████████████████████████████| 3.8MB 39.6MB/s \n",
            "\u001b[?25hRequirement already satisfied: h5py in /usr/local/lib/python3.6/dist-packages (from keras-applications>=1.0.8->tensorflow==1.15.4) (2.10.0)\n",
            "Requirement already satisfied: setuptools in /usr/local/lib/python3.6/dist-packages (from protobuf>=3.6.1->tensorflow==1.15.4) (50.3.0)\n",
            "Requirement already satisfied: markdown>=2.6.8 in /usr/local/lib/python3.6/dist-packages (from tensorboard<1.16.0,>=1.15.0->tensorflow==1.15.4) (3.2.2)\n",
            "Requirement already satisfied: werkzeug>=0.11.15 in /usr/local/lib/python3.6/dist-packages (from tensorboard<1.16.0,>=1.15.0->tensorflow==1.15.4) (1.0.1)\n",
            "Requirement already satisfied: importlib-metadata; python_version < \"3.8\" in /usr/local/lib/python3.6/dist-packages (from markdown>=2.6.8->tensorboard<1.16.0,>=1.15.0->tensorflow==1.15.4) (2.0.0)\n",
            "Requirement already satisfied: zipp>=0.5 in /usr/local/lib/python3.6/dist-packages (from importlib-metadata; python_version < \"3.8\"->markdown>=2.6.8->tensorboard<1.16.0,>=1.15.0->tensorflow==1.15.4) (3.2.0)\n",
            "Building wheels for collected packages: gast\n",
            "  Building wheel for gast (setup.py) ... \u001b[?25l\u001b[?25hdone\n",
            "  Created wheel for gast: filename=gast-0.2.2-cp36-none-any.whl size=7542 sha256=a55b678baf5d7fd287bc9ef15efbfa88a98fa4cd0b8b71a04f0bd501d4c5ea4d\n",
            "  Stored in directory: /root/.cache/pip/wheels/5c/2e/7e/a1d4d4fcebe6c381f378ce7743a3ced3699feb89bcfbdadadd\n",
            "Successfully built gast\n",
            "\u001b[31mERROR: tensorflow-probability 0.11.0 has requirement gast>=0.3.2, but you'll have gast 0.2.2 which is incompatible.\u001b[0m\n",
            "Installing collected packages: keras-applications, gast, tensorflow-estimator, tensorboard, tensorflow\n",
            "  Found existing installation: gast 0.3.3\n",
            "    Uninstalling gast-0.3.3:\n",
            "      Successfully uninstalled gast-0.3.3\n",
            "  Found existing installation: tensorflow-estimator 2.3.0\n",
            "    Uninstalling tensorflow-estimator-2.3.0:\n",
            "      Successfully uninstalled tensorflow-estimator-2.3.0\n",
            "  Found existing installation: tensorboard 2.3.0\n",
            "    Uninstalling tensorboard-2.3.0:\n",
            "      Successfully uninstalled tensorboard-2.3.0\n",
            "  Found existing installation: tensorflow 2.3.0\n",
            "    Uninstalling tensorflow-2.3.0:\n",
            "      Successfully uninstalled tensorflow-2.3.0\n",
            "Successfully installed gast-0.2.2 keras-applications-1.0.8 tensorboard-1.15.0 tensorflow-1.15.4 tensorflow-estimator-1.15.1\n"
          ],
          "name": "stdout"
        }
      ]
    },
    {
      "cell_type": "markdown",
      "metadata": {
        "id": "QG17M4JwTnSZ"
      },
      "source": [
        "## Import packages"
      ]
    },
    {
      "cell_type": "code",
      "metadata": {
        "id": "0-0bsNMMTnSZ",
        "outputId": "8eec358b-10cd-4a36-fc8f-434ba8a586d5",
        "colab": {
          "base_uri": "https://localhost:8080/",
          "height": 153
        }
      },
      "source": [
        "import yfinance as yf\n",
        "from stockstats import StockDataFrame as Sdf\n",
        "\n",
        "import pandas as pd\n",
        "import matplotlib.pyplot as plt\n",
        "\n",
        "import gym\n",
        "from stable_baselines import PPO2, DDPG, A2C, ACKTR, TD3\n",
        "from stable_baselines import DDPG\n",
        "from stable_baselines import A2C\n",
        "from stable_baselines import SAC\n",
        "from stable_baselines.common.vec_env import DummyVecEnv\n",
        "from stable_baselines.common.policies import MlpPolicy\n"
      ],
      "execution_count": 4,
      "outputs": [
        {
          "output_type": "stream",
          "text": [
            "WARNING:tensorflow:\n",
            "The TensorFlow contrib module will not be included in TensorFlow 2.0.\n",
            "For more information, please see:\n",
            "  * https://github.com/tensorflow/community/blob/master/rfcs/20180907-contrib-sunset.md\n",
            "  * https://github.com/tensorflow/addons\n",
            "  * https://github.com/tensorflow/io (for I/O related ops)\n",
            "If you depend on functionality not listed there, please file an issue.\n",
            "\n"
          ],
          "name": "stdout"
        }
      ]
    },
    {
      "cell_type": "code",
      "metadata": {
        "id": "uIPbzYs1TnSd"
      },
      "source": [
        "#Diable the warnings\n",
        "import warnings\n",
        "warnings.filterwarnings('ignore')"
      ],
      "execution_count": 5,
      "outputs": []
    },
    {
      "cell_type": "markdown",
      "metadata": {
        "id": "SBPM0sVvTnSg"
      },
      "source": [
        "# Part 1: Download Data\n",
        "Yahoo Finance is a website that provides stock data, financial news, financial reports, etc. All the data provided by Yahoo Finance is free."
      ]
    },
    {
      "cell_type": "code",
      "metadata": {
        "id": "JtIFikNyTnSg",
        "outputId": "f6b596ae-b91b-489c-be04-95dfcfa4a36f",
        "colab": {
          "base_uri": "https://localhost:8080/",
          "height": 34
        }
      },
      "source": [
        "# Download and save the data in a pandas DataFrame:\n",
        "data_df = yf.download(\"AAPL\", start=\"2009-01-01\", end=\"2020-10-23\")"
      ],
      "execution_count": 6,
      "outputs": [
        {
          "output_type": "stream",
          "text": [
            "\r[*********************100%***********************]  1 of 1 completed\n"
          ],
          "name": "stdout"
        }
      ]
    },
    {
      "cell_type": "code",
      "metadata": {
        "id": "E8ZKQmw6TnSl",
        "outputId": "517ed2cf-5a8c-4319-df1c-4f11fdb2d969",
        "colab": {
          "base_uri": "https://localhost:8080/",
          "height": 34
        }
      },
      "source": [
        "data_df.shape"
      ],
      "execution_count": 7,
      "outputs": [
        {
          "output_type": "execute_result",
          "data": {
            "text/plain": [
              "(2973, 6)"
            ]
          },
          "metadata": {
            "tags": []
          },
          "execution_count": 7
        }
      ]
    },
    {
      "cell_type": "code",
      "metadata": {
        "id": "HWxs5dmzTnSp"
      },
      "source": [
        "# reset the index, we want to use numbers instead of dates\n",
        "data_df=data_df.reset_index()"
      ],
      "execution_count": 8,
      "outputs": []
    },
    {
      "cell_type": "code",
      "metadata": {
        "id": "Vi6D_ED6TnSs",
        "outputId": "239bbfc5-a88d-4140-c886-6ccf5b1179c3",
        "colab": {
          "base_uri": "https://localhost:8080/",
          "height": 204
        }
      },
      "source": [
        "data_df.head()"
      ],
      "execution_count": 9,
      "outputs": [
        {
          "output_type": "execute_result",
          "data": {
            "text/html": [
              "<div>\n",
              "<style scoped>\n",
              "    .dataframe tbody tr th:only-of-type {\n",
              "        vertical-align: middle;\n",
              "    }\n",
              "\n",
              "    .dataframe tbody tr th {\n",
              "        vertical-align: top;\n",
              "    }\n",
              "\n",
              "    .dataframe thead th {\n",
              "        text-align: right;\n",
              "    }\n",
              "</style>\n",
              "<table border=\"1\" class=\"dataframe\">\n",
              "  <thead>\n",
              "    <tr style=\"text-align: right;\">\n",
              "      <th></th>\n",
              "      <th>Date</th>\n",
              "      <th>Open</th>\n",
              "      <th>High</th>\n",
              "      <th>Low</th>\n",
              "      <th>Close</th>\n",
              "      <th>Adj Close</th>\n",
              "      <th>Volume</th>\n",
              "    </tr>\n",
              "  </thead>\n",
              "  <tbody>\n",
              "    <tr>\n",
              "      <th>0</th>\n",
              "      <td>2009-01-02</td>\n",
              "      <td>3.067143</td>\n",
              "      <td>3.251429</td>\n",
              "      <td>3.041429</td>\n",
              "      <td>3.241071</td>\n",
              "      <td>2.800736</td>\n",
              "      <td>746015200</td>\n",
              "    </tr>\n",
              "    <tr>\n",
              "      <th>1</th>\n",
              "      <td>2009-01-05</td>\n",
              "      <td>3.327500</td>\n",
              "      <td>3.435000</td>\n",
              "      <td>3.311071</td>\n",
              "      <td>3.377857</td>\n",
              "      <td>2.918938</td>\n",
              "      <td>1181608400</td>\n",
              "    </tr>\n",
              "    <tr>\n",
              "      <th>2</th>\n",
              "      <td>2009-01-06</td>\n",
              "      <td>3.426786</td>\n",
              "      <td>3.470357</td>\n",
              "      <td>3.299643</td>\n",
              "      <td>3.322143</td>\n",
              "      <td>2.870794</td>\n",
              "      <td>1289310400</td>\n",
              "    </tr>\n",
              "    <tr>\n",
              "      <th>3</th>\n",
              "      <td>2009-01-07</td>\n",
              "      <td>3.278929</td>\n",
              "      <td>3.303571</td>\n",
              "      <td>3.223572</td>\n",
              "      <td>3.250357</td>\n",
              "      <td>2.808761</td>\n",
              "      <td>753048800</td>\n",
              "    </tr>\n",
              "    <tr>\n",
              "      <th>4</th>\n",
              "      <td>2009-01-08</td>\n",
              "      <td>3.229643</td>\n",
              "      <td>3.326786</td>\n",
              "      <td>3.215714</td>\n",
              "      <td>3.310714</td>\n",
              "      <td>2.860918</td>\n",
              "      <td>673500800</td>\n",
              "    </tr>\n",
              "  </tbody>\n",
              "</table>\n",
              "</div>"
            ],
            "text/plain": [
              "        Date      Open      High       Low     Close  Adj Close      Volume\n",
              "0 2009-01-02  3.067143  3.251429  3.041429  3.241071   2.800736   746015200\n",
              "1 2009-01-05  3.327500  3.435000  3.311071  3.377857   2.918938  1181608400\n",
              "2 2009-01-06  3.426786  3.470357  3.299643  3.322143   2.870794  1289310400\n",
              "3 2009-01-07  3.278929  3.303571  3.223572  3.250357   2.808761   753048800\n",
              "4 2009-01-08  3.229643  3.326786  3.215714  3.310714   2.860918   673500800"
            ]
          },
          "metadata": {
            "tags": []
          },
          "execution_count": 9
        }
      ]
    },
    {
      "cell_type": "code",
      "metadata": {
        "id": "KX3UrIu6TnSv",
        "outputId": "151ed16f-a2e5-4d2c-bbfa-146d4a6306bb",
        "colab": {
          "base_uri": "https://localhost:8080/",
          "height": 34
        }
      },
      "source": [
        "data_df.columns"
      ],
      "execution_count": 10,
      "outputs": [
        {
          "output_type": "execute_result",
          "data": {
            "text/plain": [
              "Index(['Date', 'Open', 'High', 'Low', 'Close', 'Adj Close', 'Volume'], dtype='object')"
            ]
          },
          "metadata": {
            "tags": []
          },
          "execution_count": 10
        }
      ]
    },
    {
      "cell_type": "code",
      "metadata": {
        "id": "UyN2BSsGTnSy"
      },
      "source": [
        "# convert the column names to standardized names\n",
        "data_df.columns = ['datadate','open','high','low','close','adjcp','volume']"
      ],
      "execution_count": 11,
      "outputs": []
    },
    {
      "cell_type": "code",
      "metadata": {
        "id": "r_g0AmjHTnS1"
      },
      "source": [
        "# save the data to a csv file in your current folder\n",
        "#data_df.to_csv('AAPL_2009_2020.csv')"
      ],
      "execution_count": 12,
      "outputs": []
    },
    {
      "cell_type": "markdown",
      "metadata": {
        "id": "oWiqgpLzTnS3"
      },
      "source": [
        "# Part 2: Preprocess Data\n",
        "Data preprocessing is a crucial step for training a high quality machine learning model. We need to check for missing data and do feature engineering in order to convert the data into a model-ready state."
      ]
    },
    {
      "cell_type": "code",
      "metadata": {
        "id": "7EQlXSl1TnS4",
        "outputId": "b090b592-75a8-4962-f674-e047079b2147",
        "colab": {
          "base_uri": "https://localhost:8080/",
          "height": 34
        }
      },
      "source": [
        "# check missing data \n",
        "data_df.isnull().values.any()"
      ],
      "execution_count": 13,
      "outputs": [
        {
          "output_type": "execute_result",
          "data": {
            "text/plain": [
              "False"
            ]
          },
          "metadata": {
            "tags": []
          },
          "execution_count": 13
        }
      ]
    },
    {
      "cell_type": "code",
      "metadata": {
        "id": "TzrRbc1jTnS6"
      },
      "source": [
        "# calculate technical indicators like MACD\n",
        "stock = Sdf.retype(data_df.copy())\n",
        "# we need to use adjusted close price instead of close price\n",
        "stock['close'] = stock['adjcp']\n",
        "data_df['macd'] = stock['macd']"
      ],
      "execution_count": 14,
      "outputs": []
    },
    {
      "cell_type": "code",
      "metadata": {
        "id": "Wersy6QKTnS9",
        "outputId": "bc418ce7-40bb-4a82-d80f-6433f250cd0e",
        "colab": {
          "base_uri": "https://localhost:8080/",
          "height": 34
        }
      },
      "source": [
        "# check missing data again\n",
        "data_df.isnull().values.any()"
      ],
      "execution_count": 15,
      "outputs": [
        {
          "output_type": "execute_result",
          "data": {
            "text/plain": [
              "False"
            ]
          },
          "metadata": {
            "tags": []
          },
          "execution_count": 15
        }
      ]
    },
    {
      "cell_type": "code",
      "metadata": {
        "id": "7ZqXSKC6TnTB",
        "outputId": "3ab8c015-a390-4593-a9a5-cefc38e2a367",
        "colab": {
          "base_uri": "https://localhost:8080/",
          "height": 204
        }
      },
      "source": [
        "data_df.head()"
      ],
      "execution_count": 16,
      "outputs": [
        {
          "output_type": "execute_result",
          "data": {
            "text/html": [
              "<div>\n",
              "<style scoped>\n",
              "    .dataframe tbody tr th:only-of-type {\n",
              "        vertical-align: middle;\n",
              "    }\n",
              "\n",
              "    .dataframe tbody tr th {\n",
              "        vertical-align: top;\n",
              "    }\n",
              "\n",
              "    .dataframe thead th {\n",
              "        text-align: right;\n",
              "    }\n",
              "</style>\n",
              "<table border=\"1\" class=\"dataframe\">\n",
              "  <thead>\n",
              "    <tr style=\"text-align: right;\">\n",
              "      <th></th>\n",
              "      <th>datadate</th>\n",
              "      <th>open</th>\n",
              "      <th>high</th>\n",
              "      <th>low</th>\n",
              "      <th>close</th>\n",
              "      <th>adjcp</th>\n",
              "      <th>volume</th>\n",
              "      <th>macd</th>\n",
              "    </tr>\n",
              "  </thead>\n",
              "  <tbody>\n",
              "    <tr>\n",
              "      <th>0</th>\n",
              "      <td>2009-01-02</td>\n",
              "      <td>3.067143</td>\n",
              "      <td>3.251429</td>\n",
              "      <td>3.041429</td>\n",
              "      <td>3.241071</td>\n",
              "      <td>2.800736</td>\n",
              "      <td>746015200</td>\n",
              "      <td>0.000000</td>\n",
              "    </tr>\n",
              "    <tr>\n",
              "      <th>1</th>\n",
              "      <td>2009-01-05</td>\n",
              "      <td>3.327500</td>\n",
              "      <td>3.435000</td>\n",
              "      <td>3.311071</td>\n",
              "      <td>3.377857</td>\n",
              "      <td>2.918938</td>\n",
              "      <td>1181608400</td>\n",
              "      <td>0.002652</td>\n",
              "    </tr>\n",
              "    <tr>\n",
              "      <th>2</th>\n",
              "      <td>2009-01-06</td>\n",
              "      <td>3.426786</td>\n",
              "      <td>3.470357</td>\n",
              "      <td>3.299643</td>\n",
              "      <td>3.322143</td>\n",
              "      <td>2.870794</td>\n",
              "      <td>1289310400</td>\n",
              "      <td>0.001886</td>\n",
              "    </tr>\n",
              "    <tr>\n",
              "      <th>3</th>\n",
              "      <td>2009-01-07</td>\n",
              "      <td>3.278929</td>\n",
              "      <td>3.303571</td>\n",
              "      <td>3.223572</td>\n",
              "      <td>3.250357</td>\n",
              "      <td>2.808761</td>\n",
              "      <td>753048800</td>\n",
              "      <td>-0.000748</td>\n",
              "    </tr>\n",
              "    <tr>\n",
              "      <th>4</th>\n",
              "      <td>2009-01-08</td>\n",
              "      <td>3.229643</td>\n",
              "      <td>3.326786</td>\n",
              "      <td>3.215714</td>\n",
              "      <td>3.310714</td>\n",
              "      <td>2.860918</td>\n",
              "      <td>673500800</td>\n",
              "      <td>-0.000088</td>\n",
              "    </tr>\n",
              "  </tbody>\n",
              "</table>\n",
              "</div>"
            ],
            "text/plain": [
              "    datadate      open      high  ...     adjcp      volume      macd\n",
              "0 2009-01-02  3.067143  3.251429  ...  2.800736   746015200  0.000000\n",
              "1 2009-01-05  3.327500  3.435000  ...  2.918938  1181608400  0.002652\n",
              "2 2009-01-06  3.426786  3.470357  ...  2.870794  1289310400  0.001886\n",
              "3 2009-01-07  3.278929  3.303571  ...  2.808761   753048800 -0.000748\n",
              "4 2009-01-08  3.229643  3.326786  ...  2.860918   673500800 -0.000088\n",
              "\n",
              "[5 rows x 8 columns]"
            ]
          },
          "metadata": {
            "tags": []
          },
          "execution_count": 16
        }
      ]
    },
    {
      "cell_type": "code",
      "metadata": {
        "id": "kIIo8WNgTnTF"
      },
      "source": [
        "#data_df=data_df.fillna(method='bfill')"
      ],
      "execution_count": 17,
      "outputs": []
    },
    {
      "cell_type": "code",
      "metadata": {
        "id": "cStYZrakTnTI"
      },
      "source": [
        "# Note that I always use a copy of the original data to try it track step by step.\n",
        "data_clean = data_df.copy()"
      ],
      "execution_count": 18,
      "outputs": []
    },
    {
      "cell_type": "code",
      "metadata": {
        "id": "MSAe2FGdTnTK",
        "outputId": "e4369ed1-c9e8-4555-f95c-1811f018be8b",
        "colab": {
          "base_uri": "https://localhost:8080/",
          "height": 204
        }
      },
      "source": [
        "data_clean.head()"
      ],
      "execution_count": 19,
      "outputs": [
        {
          "output_type": "execute_result",
          "data": {
            "text/html": [
              "<div>\n",
              "<style scoped>\n",
              "    .dataframe tbody tr th:only-of-type {\n",
              "        vertical-align: middle;\n",
              "    }\n",
              "\n",
              "    .dataframe tbody tr th {\n",
              "        vertical-align: top;\n",
              "    }\n",
              "\n",
              "    .dataframe thead th {\n",
              "        text-align: right;\n",
              "    }\n",
              "</style>\n",
              "<table border=\"1\" class=\"dataframe\">\n",
              "  <thead>\n",
              "    <tr style=\"text-align: right;\">\n",
              "      <th></th>\n",
              "      <th>datadate</th>\n",
              "      <th>open</th>\n",
              "      <th>high</th>\n",
              "      <th>low</th>\n",
              "      <th>close</th>\n",
              "      <th>adjcp</th>\n",
              "      <th>volume</th>\n",
              "      <th>macd</th>\n",
              "    </tr>\n",
              "  </thead>\n",
              "  <tbody>\n",
              "    <tr>\n",
              "      <th>0</th>\n",
              "      <td>2009-01-02</td>\n",
              "      <td>3.067143</td>\n",
              "      <td>3.251429</td>\n",
              "      <td>3.041429</td>\n",
              "      <td>3.241071</td>\n",
              "      <td>2.800736</td>\n",
              "      <td>746015200</td>\n",
              "      <td>0.000000</td>\n",
              "    </tr>\n",
              "    <tr>\n",
              "      <th>1</th>\n",
              "      <td>2009-01-05</td>\n",
              "      <td>3.327500</td>\n",
              "      <td>3.435000</td>\n",
              "      <td>3.311071</td>\n",
              "      <td>3.377857</td>\n",
              "      <td>2.918938</td>\n",
              "      <td>1181608400</td>\n",
              "      <td>0.002652</td>\n",
              "    </tr>\n",
              "    <tr>\n",
              "      <th>2</th>\n",
              "      <td>2009-01-06</td>\n",
              "      <td>3.426786</td>\n",
              "      <td>3.470357</td>\n",
              "      <td>3.299643</td>\n",
              "      <td>3.322143</td>\n",
              "      <td>2.870794</td>\n",
              "      <td>1289310400</td>\n",
              "      <td>0.001886</td>\n",
              "    </tr>\n",
              "    <tr>\n",
              "      <th>3</th>\n",
              "      <td>2009-01-07</td>\n",
              "      <td>3.278929</td>\n",
              "      <td>3.303571</td>\n",
              "      <td>3.223572</td>\n",
              "      <td>3.250357</td>\n",
              "      <td>2.808761</td>\n",
              "      <td>753048800</td>\n",
              "      <td>-0.000748</td>\n",
              "    </tr>\n",
              "    <tr>\n",
              "      <th>4</th>\n",
              "      <td>2009-01-08</td>\n",
              "      <td>3.229643</td>\n",
              "      <td>3.326786</td>\n",
              "      <td>3.215714</td>\n",
              "      <td>3.310714</td>\n",
              "      <td>2.860918</td>\n",
              "      <td>673500800</td>\n",
              "      <td>-0.000088</td>\n",
              "    </tr>\n",
              "  </tbody>\n",
              "</table>\n",
              "</div>"
            ],
            "text/plain": [
              "    datadate      open      high  ...     adjcp      volume      macd\n",
              "0 2009-01-02  3.067143  3.251429  ...  2.800736   746015200  0.000000\n",
              "1 2009-01-05  3.327500  3.435000  ...  2.918938  1181608400  0.002652\n",
              "2 2009-01-06  3.426786  3.470357  ...  2.870794  1289310400  0.001886\n",
              "3 2009-01-07  3.278929  3.303571  ...  2.808761   753048800 -0.000748\n",
              "4 2009-01-08  3.229643  3.326786  ...  2.860918   673500800 -0.000088\n",
              "\n",
              "[5 rows x 8 columns]"
            ]
          },
          "metadata": {
            "tags": []
          },
          "execution_count": 19
        }
      ]
    },
    {
      "cell_type": "code",
      "metadata": {
        "id": "5L_4KOv_TnTN",
        "outputId": "b109bd3e-7037-4f9d-86f0-48ceadc9a6e0",
        "colab": {
          "base_uri": "https://localhost:8080/",
          "height": 204
        }
      },
      "source": [
        "data_clean.tail()"
      ],
      "execution_count": 20,
      "outputs": [
        {
          "output_type": "execute_result",
          "data": {
            "text/html": [
              "<div>\n",
              "<style scoped>\n",
              "    .dataframe tbody tr th:only-of-type {\n",
              "        vertical-align: middle;\n",
              "    }\n",
              "\n",
              "    .dataframe tbody tr th {\n",
              "        vertical-align: top;\n",
              "    }\n",
              "\n",
              "    .dataframe thead th {\n",
              "        text-align: right;\n",
              "    }\n",
              "</style>\n",
              "<table border=\"1\" class=\"dataframe\">\n",
              "  <thead>\n",
              "    <tr style=\"text-align: right;\">\n",
              "      <th></th>\n",
              "      <th>datadate</th>\n",
              "      <th>open</th>\n",
              "      <th>high</th>\n",
              "      <th>low</th>\n",
              "      <th>close</th>\n",
              "      <th>adjcp</th>\n",
              "      <th>volume</th>\n",
              "      <th>macd</th>\n",
              "    </tr>\n",
              "  </thead>\n",
              "  <tbody>\n",
              "    <tr>\n",
              "      <th>2968</th>\n",
              "      <td>2020-10-16</td>\n",
              "      <td>121.279999</td>\n",
              "      <td>121.550003</td>\n",
              "      <td>118.809998</td>\n",
              "      <td>119.019997</td>\n",
              "      <td>119.019997</td>\n",
              "      <td>115393800</td>\n",
              "      <td>1.645568</td>\n",
              "    </tr>\n",
              "    <tr>\n",
              "      <th>2969</th>\n",
              "      <td>2020-10-19</td>\n",
              "      <td>119.959999</td>\n",
              "      <td>120.419998</td>\n",
              "      <td>115.660004</td>\n",
              "      <td>115.980003</td>\n",
              "      <td>115.980003</td>\n",
              "      <td>120639300</td>\n",
              "      <td>1.346273</td>\n",
              "    </tr>\n",
              "    <tr>\n",
              "      <th>2970</th>\n",
              "      <td>2020-10-20</td>\n",
              "      <td>116.199997</td>\n",
              "      <td>118.980003</td>\n",
              "      <td>115.629997</td>\n",
              "      <td>117.510002</td>\n",
              "      <td>117.510002</td>\n",
              "      <td>124423700</td>\n",
              "      <td>1.218491</td>\n",
              "    </tr>\n",
              "    <tr>\n",
              "      <th>2971</th>\n",
              "      <td>2020-10-21</td>\n",
              "      <td>116.669998</td>\n",
              "      <td>118.709999</td>\n",
              "      <td>116.449997</td>\n",
              "      <td>116.870003</td>\n",
              "      <td>116.870003</td>\n",
              "      <td>89946000</td>\n",
              "      <td>1.053437</td>\n",
              "    </tr>\n",
              "    <tr>\n",
              "      <th>2972</th>\n",
              "      <td>2020-10-22</td>\n",
              "      <td>117.449997</td>\n",
              "      <td>118.040001</td>\n",
              "      <td>114.589996</td>\n",
              "      <td>115.750000</td>\n",
              "      <td>115.750000</td>\n",
              "      <td>101988000</td>\n",
              "      <td>0.822772</td>\n",
              "    </tr>\n",
              "  </tbody>\n",
              "</table>\n",
              "</div>"
            ],
            "text/plain": [
              "       datadate        open        high  ...       adjcp     volume      macd\n",
              "2968 2020-10-16  121.279999  121.550003  ...  119.019997  115393800  1.645568\n",
              "2969 2020-10-19  119.959999  120.419998  ...  115.980003  120639300  1.346273\n",
              "2970 2020-10-20  116.199997  118.980003  ...  117.510002  124423700  1.218491\n",
              "2971 2020-10-21  116.669998  118.709999  ...  116.870003   89946000  1.053437\n",
              "2972 2020-10-22  117.449997  118.040001  ...  115.750000  101988000  0.822772\n",
              "\n",
              "[5 rows x 8 columns]"
            ]
          },
          "metadata": {
            "tags": []
          },
          "execution_count": 20
        }
      ]
    },
    {
      "cell_type": "markdown",
      "metadata": {
        "id": "bwLhXo1cTnTQ"
      },
      "source": [
        "# Part 3: Design Environment\n",
        "Considering the stochastic and interactive nature of the automated stock trading tasks, a financial task is modeled as a Markov Decision Process (MDP) problem. The training process involves observing stock price change, taking an action and reward's calculation to have the agent adjusting its strategy accordingly. By interacting with the environment, the trading agent will derive a trading strategy with the maximized rewards as time proceeds.\n",
        "\n",
        "Our trading environments, based on OpenAI Gym framework, simulate live stock markets with real market data according to the principle of time-driven simulation.\n",
        "\n",
        "The action space describes the allowed actions that the agent interacts with the environment. Normally, action a includes three actions: {-1, 0, 1}, where -1, 0, 1 represent selling, holding, and buying one share. Also, an action can be carried upon multiple shares. We use an action space {-k,…,-1, 0, 1, …, k}, where k denotes the number of shares to buy and -k denotes the number of shares to sell. For example, \"Buy 10 shares of AAPL\" or \"Sell 10 shares of AAPL\" are 10 or -10, respectively. The continuous action space needs to be normalized to [-1, 1], since the policy is defined on a Gaussian distribution, which needs to be normalized and symmetric."
      ]
    },
    {
      "cell_type": "code",
      "metadata": {
        "id": "5qqW-mnSTnTQ"
      },
      "source": [
        "import numpy as np\n",
        "import pandas as pd\n",
        "from gym.utils import seeding\n",
        "import gym\n",
        "from gym import spaces\n",
        "import matplotlib\n",
        "matplotlib.use('Agg')\n",
        "import matplotlib.pyplot as plt\n",
        "\n",
        "# Global variables\n",
        "HMAX_NORMALIZE = 200\n",
        "INITIAL_ACCOUNT_BALANCE=100000\n",
        "STOCK_DIM = 1\n",
        "\n",
        "# transaction fee: 1/1000 reasonable percentage\n",
        "TRANSACTION_FEE_PERCENT = 0.001\n",
        "# REWARD_SCALING = 1e-3\n",
        "\n",
        "\n",
        "class SingleStockEnv(gym.Env):\n",
        "    \"\"\"A stock trading environment for OpenAI gym\"\"\"\n",
        "    metadata = {'render.modes': ['human']}\n",
        "\n",
        "    def __init__(self, df,day = 0):\n",
        "        #super(StockEnv, self).__init__()\n",
        "        # date increment\n",
        "        self.day = day\n",
        "        self.df = df\n",
        "        # action_space normalization and the shape is STOCK_DIM\n",
        "        self.action_space = spaces.Box(low = -1, high = 1,shape = (STOCK_DIM,)) \n",
        "        # Shape = 4: [Current Balance]+[prices]+[owned shares] +[macd] \n",
        "        self.observation_space = spaces.Box(low=0, high=np.inf, shape = (4,))\n",
        "        # load data from a pandas dataframe\n",
        "        self.data = self.df.loc[self.day,:]\n",
        "        # termination\n",
        "        self.terminal = False  \n",
        "        # save the total number of trades\n",
        "        self.trades = 0\n",
        "        # initalize state\n",
        "        self.state = [INITIAL_ACCOUNT_BALANCE] + \\\n",
        "                      [self.data.adjcp] + \\\n",
        "                      [0]*STOCK_DIM + \\\n",
        "                      [self.data.macd] \n",
        "        # initialize reward and cost\n",
        "        self.reward = 0\n",
        "        self.cost = 0\n",
        "        \n",
        "        # memorize the total value, total rewards\n",
        "        self.asset_memory = [INITIAL_ACCOUNT_BALANCE]\n",
        "        self.rewards_memory = []\n",
        "\n",
        "    def _sell_stock(self, index, action):\n",
        "        # perform sell action based on the sign of the action\n",
        "        if self.state[index+STOCK_DIM+1] > 0:\n",
        "            # update balance\n",
        "            self.state[0] += \\\n",
        "            self.state[index+1]*min(abs(action),self.state[index+STOCK_DIM+1]) * \\\n",
        "             (1- TRANSACTION_FEE_PERCENT)\n",
        "            # update held shares\n",
        "            self.state[index+STOCK_DIM+1] -= min(abs(action), self.state[index+STOCK_DIM+1])\n",
        "            # update transaction costs\n",
        "            self.cost +=self.state[index+1]*min(abs(action),self.state[index+STOCK_DIM+1]) * \\\n",
        "             TRANSACTION_FEE_PERCENT\n",
        "            self.trades+=1\n",
        "        else:\n",
        "            pass\n",
        "            \n",
        "    def _buy_stock(self, index, action):\n",
        "        # perform buy action based on the sign of the action\n",
        "        available_amount = self.state[0] // self.state[index+1]\n",
        "        #update balance\n",
        "        self.state[0] -= self.state[index+1]*min(available_amount, action)* \\\n",
        "                          (1+ TRANSACTION_FEE_PERCENT)\n",
        "        # update held shares\n",
        "        self.state[index+STOCK_DIM+1] += min(available_amount, action)\n",
        "        # update transaction costs\n",
        "        self.cost+=self.state[index+1]*min(available_amount, action)* \\\n",
        "                          TRANSACTION_FEE_PERCENT\n",
        "        self.trades+=1\n",
        "        \n",
        "    def step(self, actions):\n",
        "        self.terminal = self.day >= len(self.df.index.unique())-1\n",
        "\n",
        "        if self.terminal:\n",
        "            plt.plot(self.asset_memory,'r')\n",
        "            plt.savefig('account_value.png')\n",
        "            plt.close()\n",
        "            \n",
        "            end_total_asset = self.state[0]+ \\\n",
        "            sum(np.array(self.state[1:(STOCK_DIM+1)])*np.array(self.state[(STOCK_DIM+1):(STOCK_DIM*2+1)]))\n",
        "            print(\"previous_total_asset:{}\".format(self.asset_memory[0])) \n",
        "            print(\"end_total_asset:{}\".format(end_total_asset))\n",
        "            \n",
        "            df_total_value = pd.DataFrame(self.asset_memory)\n",
        "            df_total_value.to_csv('account_value.csv')\n",
        "            print(\"total_reward:{}\".format(self.state[0]+sum(np.array(self.state[1:(STOCK_DIM+1)])*np.array(self.state[(STOCK_DIM+1):(STOCK_DIM*2+1)]))- INITIAL_ACCOUNT_BALANCE ))\n",
        "            print(\"total_cost: \", self.cost)\n",
        "            print(\"total trades: \", self.trades)\n",
        "            \n",
        "            df_total_value.columns = ['account_value']\n",
        "            df_total_value['daily_return']=df_total_value.pct_change(1)\n",
        "            \n",
        "            if df_total_value['daily_return'].std()!=0:\n",
        "                sharpe = (252**0.5)*df_total_value['daily_return'].mean()/ \\\n",
        "                      df_total_value['daily_return'].std()\n",
        "                print(\"Sharpe: \",sharpe)\n",
        "            df_rewards = pd.DataFrame(self.rewards_memory)\n",
        "            df_rewards.to_csv('account_rewards.csv')\n",
        "            return self.state, self.reward, self.terminal,{}\n",
        "\n",
        "        else:\n",
        "            \n",
        "            # actions are the shares we need to buy, hold, or sell\n",
        "            actions = actions * HMAX_NORMALIZE\n",
        "            # calculate begining total asset\n",
        "            begin_total_asset = self.state[0]+ \\\n",
        "            sum(np.array(self.state[1:(STOCK_DIM+1)])*np.array(self.state[(STOCK_DIM+1):(STOCK_DIM*2+1)]))\n",
        "            \n",
        "            # perform buy or sell action\n",
        "            argsort_actions = np.argsort(actions)\n",
        "            sell_index = argsort_actions[:np.where(actions < 0)[0].shape[0]]\n",
        "            buy_index = argsort_actions[::-1][:np.where(actions > 0)[0].shape[0]]\n",
        "\n",
        "            for index in sell_index:\n",
        "                # print('take sell action'.format(actions[index]))\n",
        "                self._sell_stock(index, actions[index])\n",
        "\n",
        "            for index in buy_index:\n",
        "                # print('take buy action: {}'.format(actions[index]))\n",
        "                self._buy_stock(index, actions[index])\n",
        "            \n",
        "            # update data, walk a step s'\n",
        "            self.day += 1\n",
        "            self.data = self.df.loc[self.day,:]         \n",
        "            #load next state\n",
        "            self.state =  [self.state[0]] + \\\n",
        "                          [self.data.adjcp] + \\\n",
        "                          list(self.state[(STOCK_DIM+1):(STOCK_DIM*2+1)]) +\\\n",
        "                          [self.data.macd]\n",
        "                        \n",
        "            # calculate the end total asset\n",
        "            end_total_asset = self.state[0]+ \\\n",
        "            sum(np.array(self.state[1:(STOCK_DIM+1)])*np.array(self.state[(STOCK_DIM+1):(STOCK_DIM*2+1)]))\n",
        "            self.reward = end_total_asset - begin_total_asset  \n",
        "            self.rewards_memory.append(self.reward)\n",
        "            #self.reward = self.reward * REWARD_SCALING\n",
        "            self.asset_memory.append(end_total_asset)\n",
        "\n",
        "        return self.state, self.reward, self.terminal, {}\n",
        "\n",
        "    def reset(self):\n",
        "        self.asset_memory = [INITIAL_ACCOUNT_BALANCE]\n",
        "        self.day = 0\n",
        "        self.data = self.df.loc[self.day,:]\n",
        "        self.cost = 0\n",
        "        self.trades = 0\n",
        "        self.terminal = False \n",
        "        self.rewards_memory = []\n",
        "        #initiate state\n",
        "        self.state = [INITIAL_ACCOUNT_BALANCE] + \\\n",
        "                      [self.data.adjcp] + \\\n",
        "                      [0]*STOCK_DIM + \\\n",
        "                      [self.data.macd]\n",
        "        return self.state\n",
        "    \n",
        "    def render(self, mode='human'):\n",
        "        return self.state\n",
        "\n",
        "    def _seed(self, seed=None):\n",
        "        self.np_random, seed = seeding.np_random(seed)\n",
        "        return [seed]"
      ],
      "execution_count": 21,
      "outputs": []
    },
    {
      "cell_type": "code",
      "metadata": {
        "id": "jIGqfq0FTnTT"
      },
      "source": [
        ""
      ],
      "execution_count": 21,
      "outputs": []
    },
    {
      "cell_type": "markdown",
      "metadata": {
        "id": "mdnzYtM1TnTW"
      },
      "source": [
        "# Part 4: Implement DRL Algorithms\n",
        "The implementation of the DRL algorithms are based on OpenAI Baselines and Stable Baselines. Stable Baselines is a fork of OpenAI Baselines, with a major structural refactoring, and code cleanups."
      ]
    },
    {
      "cell_type": "markdown",
      "metadata": {
        "id": "fxvtFex3TnTW"
      },
      "source": [
        "### Training data: 2009-01-01 to 2018-12-31"
      ]
    },
    {
      "cell_type": "code",
      "metadata": {
        "id": "BRFIZDw8TnTX"
      },
      "source": [
        "train = data_clean[(data_clean.datadate>='2009-01-01') & (data_clean.datadate<'2019-01-01')]\n",
        "# the index needs to start from 0\n",
        "train=train.reset_index(drop=True)"
      ],
      "execution_count": 22,
      "outputs": []
    },
    {
      "cell_type": "code",
      "metadata": {
        "id": "hdjTsY4vTnTZ",
        "outputId": "785ce8e6-afe4-487c-dee5-f5c56952a17b",
        "colab": {
          "base_uri": "https://localhost:8080/",
          "height": 204
        }
      },
      "source": [
        "train.head()"
      ],
      "execution_count": 23,
      "outputs": [
        {
          "output_type": "execute_result",
          "data": {
            "text/html": [
              "<div>\n",
              "<style scoped>\n",
              "    .dataframe tbody tr th:only-of-type {\n",
              "        vertical-align: middle;\n",
              "    }\n",
              "\n",
              "    .dataframe tbody tr th {\n",
              "        vertical-align: top;\n",
              "    }\n",
              "\n",
              "    .dataframe thead th {\n",
              "        text-align: right;\n",
              "    }\n",
              "</style>\n",
              "<table border=\"1\" class=\"dataframe\">\n",
              "  <thead>\n",
              "    <tr style=\"text-align: right;\">\n",
              "      <th></th>\n",
              "      <th>datadate</th>\n",
              "      <th>open</th>\n",
              "      <th>high</th>\n",
              "      <th>low</th>\n",
              "      <th>close</th>\n",
              "      <th>adjcp</th>\n",
              "      <th>volume</th>\n",
              "      <th>macd</th>\n",
              "    </tr>\n",
              "  </thead>\n",
              "  <tbody>\n",
              "    <tr>\n",
              "      <th>0</th>\n",
              "      <td>2009-01-02</td>\n",
              "      <td>3.067143</td>\n",
              "      <td>3.251429</td>\n",
              "      <td>3.041429</td>\n",
              "      <td>3.241071</td>\n",
              "      <td>2.800736</td>\n",
              "      <td>746015200</td>\n",
              "      <td>0.000000</td>\n",
              "    </tr>\n",
              "    <tr>\n",
              "      <th>1</th>\n",
              "      <td>2009-01-05</td>\n",
              "      <td>3.327500</td>\n",
              "      <td>3.435000</td>\n",
              "      <td>3.311071</td>\n",
              "      <td>3.377857</td>\n",
              "      <td>2.918938</td>\n",
              "      <td>1181608400</td>\n",
              "      <td>0.002652</td>\n",
              "    </tr>\n",
              "    <tr>\n",
              "      <th>2</th>\n",
              "      <td>2009-01-06</td>\n",
              "      <td>3.426786</td>\n",
              "      <td>3.470357</td>\n",
              "      <td>3.299643</td>\n",
              "      <td>3.322143</td>\n",
              "      <td>2.870794</td>\n",
              "      <td>1289310400</td>\n",
              "      <td>0.001886</td>\n",
              "    </tr>\n",
              "    <tr>\n",
              "      <th>3</th>\n",
              "      <td>2009-01-07</td>\n",
              "      <td>3.278929</td>\n",
              "      <td>3.303571</td>\n",
              "      <td>3.223572</td>\n",
              "      <td>3.250357</td>\n",
              "      <td>2.808761</td>\n",
              "      <td>753048800</td>\n",
              "      <td>-0.000748</td>\n",
              "    </tr>\n",
              "    <tr>\n",
              "      <th>4</th>\n",
              "      <td>2009-01-08</td>\n",
              "      <td>3.229643</td>\n",
              "      <td>3.326786</td>\n",
              "      <td>3.215714</td>\n",
              "      <td>3.310714</td>\n",
              "      <td>2.860918</td>\n",
              "      <td>673500800</td>\n",
              "      <td>-0.000088</td>\n",
              "    </tr>\n",
              "  </tbody>\n",
              "</table>\n",
              "</div>"
            ],
            "text/plain": [
              "    datadate      open      high  ...     adjcp      volume      macd\n",
              "0 2009-01-02  3.067143  3.251429  ...  2.800736   746015200  0.000000\n",
              "1 2009-01-05  3.327500  3.435000  ...  2.918938  1181608400  0.002652\n",
              "2 2009-01-06  3.426786  3.470357  ...  2.870794  1289310400  0.001886\n",
              "3 2009-01-07  3.278929  3.303571  ...  2.808761   753048800 -0.000748\n",
              "4 2009-01-08  3.229643  3.326786  ...  2.860918   673500800 -0.000088\n",
              "\n",
              "[5 rows x 8 columns]"
            ]
          },
          "metadata": {
            "tags": []
          },
          "execution_count": 23
        }
      ]
    },
    {
      "cell_type": "markdown",
      "metadata": {
        "id": "zD1NHzGyTnTc"
      },
      "source": [
        "### Model Training: 4 models, PPO A2C, DDPG, TD3"
      ]
    },
    {
      "cell_type": "markdown",
      "metadata": {
        "id": "Y9CM5DeIr9GC"
      },
      "source": [
        "### Model 1: PPO"
      ]
    },
    {
      "cell_type": "code",
      "metadata": {
        "scrolled": true,
        "id": "UJs0N4dGTnTd",
        "outputId": "2b896ae5-dab6-4e53-8c81-a7739b5d2924",
        "colab": {
          "base_uri": "https://localhost:8080/",
          "height": 1000
        }
      },
      "source": [
        "#tensorboard --logdir ./single_stock_tensorboard/\n",
        "env_train = DummyVecEnv([lambda: SingleStockEnv(train)])\n",
        "model_ppo = PPO2('MlpPolicy', env_train, tensorboard_log=\"./single_stock_trading_2_tensorboard/\")\n",
        "model_ppo.learn(total_timesteps=100000,tb_log_name=\"run_aapl_ppo\")\n",
        "#model.save('AAPL_ppo_100k')\n"
      ],
      "execution_count": null,
      "outputs": [
        {
          "output_type": "stream",
          "text": [
            "WARNING:tensorflow:From /usr/local/lib/python3.6/dist-packages/stable_baselines/common/tf_util.py:191: The name tf.ConfigProto is deprecated. Please use tf.compat.v1.ConfigProto instead.\n",
            "\n",
            "WARNING:tensorflow:From /usr/local/lib/python3.6/dist-packages/stable_baselines/common/tf_util.py:200: The name tf.Session is deprecated. Please use tf.compat.v1.Session instead.\n",
            "\n",
            "WARNING:tensorflow:From /usr/local/lib/python3.6/dist-packages/stable_baselines/common/policies.py:116: The name tf.variable_scope is deprecated. Please use tf.compat.v1.variable_scope instead.\n",
            "\n",
            "WARNING:tensorflow:From /usr/local/lib/python3.6/dist-packages/stable_baselines/common/input.py:25: The name tf.placeholder is deprecated. Please use tf.compat.v1.placeholder instead.\n",
            "\n",
            "WARNING:tensorflow:From /usr/local/lib/python3.6/dist-packages/stable_baselines/common/policies.py:561: flatten (from tensorflow.python.layers.core) is deprecated and will be removed in a future version.\n",
            "Instructions for updating:\n",
            "Use keras.layers.flatten instead.\n",
            "WARNING:tensorflow:From /usr/local/lib/python3.6/dist-packages/tensorflow_core/python/layers/core.py:332: Layer.apply (from tensorflow.python.keras.engine.base_layer) is deprecated and will be removed in a future version.\n",
            "Instructions for updating:\n",
            "Please use `layer.__call__` method instead.\n",
            "WARNING:tensorflow:From /usr/local/lib/python3.6/dist-packages/stable_baselines/common/tf_layers.py:123: The name tf.get_variable is deprecated. Please use tf.compat.v1.get_variable instead.\n",
            "\n",
            "WARNING:tensorflow:From /usr/local/lib/python3.6/dist-packages/stable_baselines/common/distributions.py:418: The name tf.random_normal is deprecated. Please use tf.random.normal instead.\n",
            "\n",
            "WARNING:tensorflow:From /usr/local/lib/python3.6/dist-packages/stable_baselines/ppo2/ppo2.py:190: The name tf.summary.scalar is deprecated. Please use tf.compat.v1.summary.scalar instead.\n",
            "\n",
            "WARNING:tensorflow:From /usr/local/lib/python3.6/dist-packages/stable_baselines/ppo2/ppo2.py:198: The name tf.trainable_variables is deprecated. Please use tf.compat.v1.trainable_variables instead.\n",
            "\n",
            "WARNING:tensorflow:From /usr/local/lib/python3.6/dist-packages/tensorflow_core/python/ops/math_grad.py:1424: where (from tensorflow.python.ops.array_ops) is deprecated and will be removed in a future version.\n",
            "Instructions for updating:\n",
            "Use tf.where in 2.0, which has the same broadcast rule as np.where\n",
            "WARNING:tensorflow:From /usr/local/lib/python3.6/dist-packages/stable_baselines/ppo2/ppo2.py:206: The name tf.train.AdamOptimizer is deprecated. Please use tf.compat.v1.train.AdamOptimizer instead.\n",
            "\n",
            "WARNING:tensorflow:From /usr/local/lib/python3.6/dist-packages/stable_baselines/ppo2/ppo2.py:240: The name tf.global_variables_initializer is deprecated. Please use tf.compat.v1.global_variables_initializer instead.\n",
            "\n",
            "WARNING:tensorflow:From /usr/local/lib/python3.6/dist-packages/stable_baselines/ppo2/ppo2.py:242: The name tf.summary.merge_all is deprecated. Please use tf.compat.v1.summary.merge_all instead.\n",
            "\n",
            "WARNING:tensorflow:From /usr/local/lib/python3.6/dist-packages/stable_baselines/common/base_class.py:1169: The name tf.summary.FileWriter is deprecated. Please use tf.compat.v1.summary.FileWriter instead.\n",
            "\n",
            "previous_total_asset:100000\n",
            "end_total_asset:156098.18901026587\n",
            "total_reward:56098.189010265865\n",
            "total_cost:  6341.287377798898\n",
            "total trades:  2491\n",
            "Sharpe:  0.4187558739862496\n",
            "WARNING:tensorflow:From /usr/local/lib/python3.6/dist-packages/stable_baselines/common/tf_util.py:502: The name tf.Summary is deprecated. Please use tf.compat.v1.Summary instead.\n",
            "\n",
            "previous_total_asset:100000\n",
            "end_total_asset:94446.32340155944\n",
            "total_reward:-5553.676598440565\n",
            "total_cost:  2929.111106588759\n",
            "total trades:  1887\n",
            "Sharpe:  -0.4449912464199369\n",
            "previous_total_asset:100000\n",
            "end_total_asset:106926.53386862631\n",
            "total_reward:6926.533868626313\n",
            "total_cost:  5599.619928583559\n",
            "total trades:  2210\n",
            "Sharpe:  0.13181291830866868\n",
            "previous_total_asset:100000\n",
            "end_total_asset:210752.72119495703\n",
            "total_reward:110752.72119495703\n",
            "total_cost:  6167.86721222417\n",
            "total trades:  2436\n",
            "Sharpe:  0.5912451258666666\n",
            "previous_total_asset:100000\n",
            "end_total_asset:266216.10048735235\n",
            "total_reward:166216.10048735235\n",
            "total_cost:  6268.2672412182\n",
            "total trades:  2506\n",
            "Sharpe:  0.6394795415623377\n",
            "previous_total_asset:100000\n",
            "end_total_asset:553507.7849352992\n",
            "total_reward:453507.7849352992\n",
            "total_cost:  6205.074570567108\n",
            "total trades:  2514\n",
            "Sharpe:  0.869382821594984\n",
            "previous_total_asset:100000\n",
            "end_total_asset:525815.480627327\n",
            "total_reward:425815.480627327\n",
            "total_cost:  6268.937668332546\n",
            "total trades:  2515\n",
            "Sharpe:  0.8563922247597354\n",
            "previous_total_asset:100000\n",
            "end_total_asset:579948.3273711266\n",
            "total_reward:479948.3273711266\n",
            "total_cost:  6264.915418211092\n",
            "total trades:  2515\n",
            "Sharpe:  0.8812822887651185\n",
            "previous_total_asset:100000\n",
            "end_total_asset:601018.8610150499\n",
            "total_reward:501018.86101504986\n",
            "total_cost:  6071.15111291963\n",
            "total trades:  2514\n",
            "Sharpe:  0.9042371048628427\n",
            "previous_total_asset:100000\n",
            "end_total_asset:501034.1646295194\n",
            "total_reward:401034.1646295194\n",
            "total_cost:  6162.337433171433\n",
            "total trades:  2508\n",
            "Sharpe:  0.830281620872439\n",
            "previous_total_asset:100000\n",
            "end_total_asset:457905.0789816795\n",
            "total_reward:357905.0789816795\n",
            "total_cost:  6250.532500542996\n",
            "total trades:  2514\n",
            "Sharpe:  0.8257661702659089\n",
            "previous_total_asset:100000\n",
            "end_total_asset:265638.6391078079\n",
            "total_reward:165638.6391078079\n",
            "total_cost:  6734.51020678946\n",
            "total trades:  2509\n",
            "Sharpe:  0.7966543085095101\n",
            "previous_total_asset:100000\n",
            "end_total_asset:176177.60613806313\n",
            "total_reward:76177.60613806313\n",
            "total_cost:  5210.800510190631\n",
            "total trades:  2372\n",
            "Sharpe:  0.6105657641565995\n",
            "previous_total_asset:100000\n",
            "end_total_asset:119068.00619850191\n",
            "total_reward:19068.006198501913\n",
            "total_cost:  5449.554538212252\n",
            "total trades:  2340\n",
            "Sharpe:  0.4782932891593345\n",
            "previous_total_asset:100000\n",
            "end_total_asset:212956.67157340347\n",
            "total_reward:112956.67157340347\n",
            "total_cost:  6368.901746125352\n",
            "total trades:  2475\n",
            "Sharpe:  0.6871472400668093\n",
            "previous_total_asset:100000\n",
            "end_total_asset:395805.73324403726\n",
            "total_reward:295805.73324403726\n",
            "total_cost:  6537.4196105855235\n",
            "total trades:  2511\n",
            "Sharpe:  0.8052338342289653\n",
            "previous_total_asset:100000\n",
            "end_total_asset:604812.5459749429\n",
            "total_reward:504812.54597494286\n",
            "total_cost:  6218.48193137824\n",
            "total trades:  2513\n",
            "Sharpe:  0.9101661298526685\n",
            "previous_total_asset:100000\n",
            "end_total_asset:582116.5546294623\n",
            "total_reward:482116.5546294623\n",
            "total_cost:  6211.65512132105\n",
            "total trades:  2515\n",
            "Sharpe:  0.9192984163452886\n",
            "previous_total_asset:100000\n",
            "end_total_asset:526174.6858831241\n",
            "total_reward:426174.6858831241\n",
            "total_cost:  6416.375233592592\n",
            "total trades:  2515\n",
            "Sharpe:  0.8856642983091633\n",
            "previous_total_asset:100000\n",
            "end_total_asset:553836.0514161409\n",
            "total_reward:453836.05141614086\n",
            "total_cost:  6567.770799179734\n",
            "total trades:  2515\n",
            "Sharpe:  0.8855059161955452\n",
            "previous_total_asset:100000\n",
            "end_total_asset:616036.9849392112\n",
            "total_reward:516036.98493921116\n",
            "total_cost:  6652.36958320929\n",
            "total trades:  2512\n",
            "Sharpe:  0.9329275065056303\n",
            "previous_total_asset:100000\n",
            "end_total_asset:568439.2268575617\n",
            "total_reward:468439.22685756173\n",
            "total_cost:  6487.975412838857\n",
            "total trades:  2515\n",
            "Sharpe:  0.9065578971932241\n",
            "previous_total_asset:100000\n",
            "end_total_asset:541432.7291863837\n",
            "total_reward:441432.72918638366\n",
            "total_cost:  6154.1131312864945\n",
            "total trades:  2515\n",
            "Sharpe:  0.875571568948455\n",
            "previous_total_asset:100000\n",
            "end_total_asset:769749.4838137159\n",
            "total_reward:669749.4838137159\n",
            "total_cost:  5731.190934403671\n",
            "total trades:  2515\n",
            "Sharpe:  0.9634334035816738\n",
            "previous_total_asset:100000\n",
            "end_total_asset:746253.3798512011\n",
            "total_reward:646253.3798512011\n",
            "total_cost:  5540.084347681433\n",
            "total trades:  2514\n",
            "Sharpe:  0.9554523241222211\n",
            "previous_total_asset:100000\n",
            "end_total_asset:702178.8201897977\n",
            "total_reward:602178.8201897977\n",
            "total_cost:  5961.959511756423\n",
            "total trades:  2515\n",
            "Sharpe:  0.9397244292873406\n",
            "previous_total_asset:100000\n",
            "end_total_asset:741096.6667565618\n",
            "total_reward:641096.6667565618\n",
            "total_cost:  5986.884645727058\n",
            "total trades:  2514\n",
            "Sharpe:  0.9557487033016611\n",
            "previous_total_asset:100000\n",
            "end_total_asset:729812.9256538266\n",
            "total_reward:629812.9256538266\n",
            "total_cost:  6011.705168113822\n",
            "total trades:  2513\n",
            "Sharpe:  0.9538379004377312\n",
            "previous_total_asset:100000\n",
            "end_total_asset:758236.5753620398\n",
            "total_reward:658236.5753620398\n",
            "total_cost:  6181.802640711599\n",
            "total trades:  2513\n",
            "Sharpe:  0.9636495498888424\n",
            "previous_total_asset:100000\n",
            "end_total_asset:772840.3734990709\n",
            "total_reward:672840.3734990709\n",
            "total_cost:  5596.33548413703\n",
            "total trades:  2512\n",
            "Sharpe:  0.9681238454395429\n",
            "previous_total_asset:100000\n",
            "end_total_asset:741677.1106373993\n",
            "total_reward:641677.1106373993\n",
            "total_cost:  5955.182698275548\n",
            "total trades:  2514\n",
            "Sharpe:  0.9595399727490882\n",
            "previous_total_asset:100000\n",
            "end_total_asset:764805.0461015248\n",
            "total_reward:664805.0461015248\n",
            "total_cost:  5891.292651756751\n",
            "total trades:  2515\n",
            "Sharpe:  0.9661904649783544\n",
            "previous_total_asset:100000\n",
            "end_total_asset:789673.3483401105\n",
            "total_reward:689673.3483401105\n",
            "total_cost:  5926.372793171938\n",
            "total trades:  2515\n",
            "Sharpe:  0.9741742994885249\n",
            "previous_total_asset:100000\n",
            "end_total_asset:741254.787990579\n",
            "total_reward:641254.787990579\n",
            "total_cost:  5821.799027481282\n",
            "total trades:  2515\n",
            "Sharpe:  0.9576394615424657\n",
            "previous_total_asset:100000\n",
            "end_total_asset:731611.5428951988\n",
            "total_reward:631611.5428951988\n",
            "total_cost:  6097.654599630185\n",
            "total trades:  2515\n",
            "Sharpe:  0.9514027303396922\n",
            "previous_total_asset:100000\n",
            "end_total_asset:724101.1807242595\n",
            "total_reward:624101.1807242595\n",
            "total_cost:  6112.808160692618\n",
            "total trades:  2513\n",
            "Sharpe:  0.9468299402074484\n",
            "previous_total_asset:100000\n",
            "end_total_asset:759113.1677076282\n",
            "total_reward:659113.1677076282\n",
            "total_cost:  6216.473084561016\n",
            "total trades:  2515\n",
            "Sharpe:  0.9682276096737484\n",
            "previous_total_asset:100000\n",
            "end_total_asset:740835.2222805698\n",
            "total_reward:640835.2222805698\n",
            "total_cost:  5994.8131451707895\n",
            "total trades:  2515\n",
            "Sharpe:  0.9614725290080312\n",
            "previous_total_asset:100000\n",
            "end_total_asset:757197.6833960349\n",
            "total_reward:657197.6833960349\n",
            "total_cost:  5919.665946050203\n",
            "total trades:  2515\n",
            "Sharpe:  0.964978933627224\n"
          ],
          "name": "stdout"
        },
        {
          "output_type": "execute_result",
          "data": {
            "text/plain": [
              "<stable_baselines.ppo2.ppo2.PPO2 at 0x7f19fda01898>"
            ]
          },
          "metadata": {
            "tags": []
          },
          "execution_count": 23
        }
      ]
    },
    {
      "cell_type": "markdown",
      "metadata": {
        "id": "9upN8FI2r_X1"
      },
      "source": [
        "### Model 2: DDPG"
      ]
    },
    {
      "cell_type": "code",
      "metadata": {
        "scrolled": true,
        "id": "FdtXfSxpTnTf",
        "outputId": "0bcfb0cd-4872-4f86-c8f5-016c535cf0e1",
        "colab": {
          "base_uri": "https://localhost:8080/",
          "height": 1000
        }
      },
      "source": [
        "#tensorboard --logdir ./single_stock_tensorboard/\n",
        "env_train = DummyVecEnv([lambda: SingleStockEnv(train)])\n",
        "model_ddpg = DDPG('MlpPolicy', env_train, tensorboard_log=\"./single_stock_trading_2_tensorboard/\")\n",
        "model_ddpg.learn(total_timesteps=100000, tb_log_name=\"run_aapl_ddpg\")\n",
        "#model.save('AAPL_ddpg_50k')\n"
      ],
      "execution_count": null,
      "outputs": [
        {
          "output_type": "stream",
          "text": [
            "previous_total_asset:100000\n",
            "end_total_asset:381113.46135500714\n",
            "total_reward:281113.46135500714\n",
            "total_cost:  99.90638327732879\n",
            "total trades:  2250\n",
            "Sharpe:  0.7026063856823678\n",
            "previous_total_asset:100000\n",
            "end_total_asset:1080609.6161442325\n",
            "total_reward:980609.6161442325\n",
            "total_cost:  99.8974009731182\n",
            "total trades:  2515\n",
            "Sharpe:  1.0705602895308748\n",
            "previous_total_asset:100000\n",
            "end_total_asset:1080615.5633120066\n",
            "total_reward:980615.5633120066\n",
            "total_cost:  99.89794435650313\n",
            "total trades:  2515\n",
            "Sharpe:  1.0705613143272277\n",
            "previous_total_asset:100000\n",
            "end_total_asset:1080615.5633120066\n",
            "total_reward:980615.5633120066\n",
            "total_cost:  99.89794435650313\n",
            "total trades:  2515\n",
            "Sharpe:  1.0705613143272277\n",
            "previous_total_asset:100000\n",
            "end_total_asset:1080615.5633120066\n",
            "total_reward:980615.5633120066\n",
            "total_cost:  99.89794435650313\n",
            "total trades:  2515\n",
            "Sharpe:  1.0705613143272277\n",
            "previous_total_asset:100000\n",
            "end_total_asset:1080615.564949955\n",
            "total_reward:980615.5649499551\n",
            "total_cost:  99.89794448471066\n",
            "total trades:  2515\n",
            "Sharpe:  1.0705613146396975\n",
            "previous_total_asset:100000\n",
            "end_total_asset:1080615.564949955\n",
            "total_reward:980615.5649499551\n",
            "total_cost:  99.89794448471066\n",
            "total trades:  2515\n",
            "Sharpe:  1.0705613146396975\n",
            "previous_total_asset:100000\n",
            "end_total_asset:1080615.564949955\n",
            "total_reward:980615.5649499551\n",
            "total_cost:  99.89794448471066\n",
            "total trades:  2515\n",
            "Sharpe:  1.0705613146396975\n",
            "previous_total_asset:100000\n",
            "end_total_asset:1080615.564949955\n",
            "total_reward:980615.5649499551\n",
            "total_cost:  99.89794448471066\n",
            "total trades:  2515\n",
            "Sharpe:  1.0705613146396975\n",
            "previous_total_asset:100000\n",
            "end_total_asset:1080615.564949955\n",
            "total_reward:980615.5649499551\n",
            "total_cost:  99.89794448471066\n",
            "total trades:  2515\n",
            "Sharpe:  1.0705613146396975\n",
            "previous_total_asset:100000\n",
            "end_total_asset:1080615.564949955\n",
            "total_reward:980615.5649499551\n",
            "total_cost:  99.89794448471066\n",
            "total trades:  2515\n",
            "Sharpe:  1.0705613146396975\n",
            "previous_total_asset:100000\n",
            "end_total_asset:1080615.564949955\n",
            "total_reward:980615.5649499551\n",
            "total_cost:  99.89794448471066\n",
            "total trades:  2515\n",
            "Sharpe:  1.0705613146396975\n",
            "previous_total_asset:100000\n",
            "end_total_asset:1080615.564949955\n",
            "total_reward:980615.5649499551\n",
            "total_cost:  99.89794448471066\n",
            "total trades:  2515\n",
            "Sharpe:  1.0705613146396975\n",
            "previous_total_asset:100000\n",
            "end_total_asset:1080615.564949955\n",
            "total_reward:980615.5649499551\n",
            "total_cost:  99.89794448471066\n",
            "total trades:  2515\n",
            "Sharpe:  1.0705613146396975\n",
            "previous_total_asset:100000\n",
            "end_total_asset:1080615.564949955\n",
            "total_reward:980615.5649499551\n",
            "total_cost:  99.89794448471066\n",
            "total trades:  2515\n",
            "Sharpe:  1.0705613146396975\n",
            "previous_total_asset:100000\n",
            "end_total_asset:1080615.564949955\n",
            "total_reward:980615.5649499551\n",
            "total_cost:  99.89794448471066\n",
            "total trades:  2515\n",
            "Sharpe:  1.0705613146396975\n",
            "previous_total_asset:100000\n",
            "end_total_asset:1080615.564949955\n",
            "total_reward:980615.5649499551\n",
            "total_cost:  99.89794448471066\n",
            "total trades:  2515\n",
            "Sharpe:  1.0705613146396975\n",
            "previous_total_asset:100000\n",
            "end_total_asset:1080615.564949955\n",
            "total_reward:980615.5649499551\n",
            "total_cost:  99.89794448471066\n",
            "total trades:  2515\n",
            "Sharpe:  1.0705613146396975\n",
            "previous_total_asset:100000\n",
            "end_total_asset:1080615.564949955\n",
            "total_reward:980615.5649499551\n",
            "total_cost:  99.89794448471066\n",
            "total trades:  2515\n",
            "Sharpe:  1.0705613146396975\n",
            "previous_total_asset:100000\n",
            "end_total_asset:1080615.564949955\n",
            "total_reward:980615.5649499551\n",
            "total_cost:  99.89794448471066\n",
            "total trades:  2515\n",
            "Sharpe:  1.0705613146396975\n",
            "previous_total_asset:100000\n",
            "end_total_asset:1080615.564949955\n",
            "total_reward:980615.5649499551\n",
            "total_cost:  99.89794448471066\n",
            "total trades:  2515\n",
            "Sharpe:  1.0705613146396975\n",
            "previous_total_asset:100000\n",
            "end_total_asset:1080615.564949955\n",
            "total_reward:980615.5649499551\n",
            "total_cost:  99.89794448471066\n",
            "total trades:  2515\n",
            "Sharpe:  1.0705613146396975\n",
            "previous_total_asset:100000\n",
            "end_total_asset:1080615.564949955\n",
            "total_reward:980615.5649499551\n",
            "total_cost:  99.89794448471066\n",
            "total trades:  2515\n",
            "Sharpe:  1.0705613146396975\n",
            "previous_total_asset:100000\n",
            "end_total_asset:1080615.564949955\n",
            "total_reward:980615.5649499551\n",
            "total_cost:  99.89794448471066\n",
            "total trades:  2515\n",
            "Sharpe:  1.0705613146396975\n",
            "previous_total_asset:100000\n",
            "end_total_asset:1080615.564949955\n",
            "total_reward:980615.5649499551\n",
            "total_cost:  99.89794448471066\n",
            "total trades:  2515\n",
            "Sharpe:  1.0705613146396975\n",
            "previous_total_asset:100000\n",
            "end_total_asset:1080615.564949955\n",
            "total_reward:980615.5649499551\n",
            "total_cost:  99.89794448471066\n",
            "total trades:  2515\n",
            "Sharpe:  1.0705613146396975\n",
            "previous_total_asset:100000\n",
            "end_total_asset:1080615.564949955\n",
            "total_reward:980615.5649499551\n",
            "total_cost:  99.89794448471066\n",
            "total trades:  2515\n",
            "Sharpe:  1.0705613146396975\n",
            "previous_total_asset:100000\n",
            "end_total_asset:1080615.564949955\n",
            "total_reward:980615.5649499551\n",
            "total_cost:  99.89794448471066\n",
            "total trades:  2515\n",
            "Sharpe:  1.0705613146396975\n",
            "previous_total_asset:100000\n",
            "end_total_asset:1080615.564949955\n",
            "total_reward:980615.5649499551\n",
            "total_cost:  99.89794448471066\n",
            "total trades:  2515\n",
            "Sharpe:  1.0705613146396975\n",
            "previous_total_asset:100000\n",
            "end_total_asset:1080615.564949955\n",
            "total_reward:980615.5649499551\n",
            "total_cost:  99.89794448471066\n",
            "total trades:  2515\n",
            "Sharpe:  1.0705613146396975\n",
            "previous_total_asset:100000\n",
            "end_total_asset:1080615.564949955\n",
            "total_reward:980615.5649499551\n",
            "total_cost:  99.89794448471066\n",
            "total trades:  2515\n",
            "Sharpe:  1.0705613146396975\n",
            "previous_total_asset:100000\n",
            "end_total_asset:1080615.564949955\n",
            "total_reward:980615.5649499551\n",
            "total_cost:  99.89794448471066\n",
            "total trades:  2515\n",
            "Sharpe:  1.0705613146396975\n",
            "previous_total_asset:100000\n",
            "end_total_asset:1080615.564949955\n",
            "total_reward:980615.5649499551\n",
            "total_cost:  99.89794448471066\n",
            "total trades:  2515\n",
            "Sharpe:  1.0705613146396975\n",
            "previous_total_asset:100000\n",
            "end_total_asset:1080615.564949955\n",
            "total_reward:980615.5649499551\n",
            "total_cost:  99.89794448471066\n",
            "total trades:  2515\n",
            "Sharpe:  1.0705613146396975\n",
            "previous_total_asset:100000\n",
            "end_total_asset:1080615.564949955\n",
            "total_reward:980615.5649499551\n",
            "total_cost:  99.89794448471066\n",
            "total trades:  2515\n",
            "Sharpe:  1.0705613146396975\n",
            "previous_total_asset:100000\n",
            "end_total_asset:1080615.564949955\n",
            "total_reward:980615.5649499551\n",
            "total_cost:  99.89794448471066\n",
            "total trades:  2515\n",
            "Sharpe:  1.0705613146396975\n",
            "previous_total_asset:100000\n",
            "end_total_asset:1080615.564949955\n",
            "total_reward:980615.5649499551\n",
            "total_cost:  99.89794448471066\n",
            "total trades:  2515\n",
            "Sharpe:  1.0705613146396975\n",
            "previous_total_asset:100000\n",
            "end_total_asset:1080615.564949955\n",
            "total_reward:980615.5649499551\n",
            "total_cost:  99.89794448471066\n",
            "total trades:  2515\n",
            "Sharpe:  1.0705613146396975\n",
            "previous_total_asset:100000\n",
            "end_total_asset:1080615.564949955\n",
            "total_reward:980615.5649499551\n",
            "total_cost:  99.89794448471066\n",
            "total trades:  2515\n",
            "Sharpe:  1.0705613146396975\n"
          ],
          "name": "stdout"
        },
        {
          "output_type": "execute_result",
          "data": {
            "text/plain": [
              "<stable_baselines.ddpg.ddpg.DDPG at 0x7f19e6eb5c88>"
            ]
          },
          "metadata": {
            "tags": []
          },
          "execution_count": 25
        }
      ]
    },
    {
      "cell_type": "markdown",
      "metadata": {
        "id": "1sve9WGvsC__"
      },
      "source": [
        "### Model 3: A2C"
      ]
    },
    {
      "cell_type": "code",
      "metadata": {
        "scrolled": true,
        "id": "QoX5tp7bTnTi",
        "outputId": "dc4ea660-26eb-449f-af68-a15666b3d3a8",
        "colab": {
          "base_uri": "https://localhost:8080/",
          "height": 1000
        }
      },
      "source": [
        "#tensorboard --logdir ./single_stock_tensorboard/\n",
        "env_train = DummyVecEnv([lambda: SingleStockEnv(train)])\n",
        "model_a2c = A2C('MlpPolicy', env_train, tensorboard_log=\"./single_stock_trading_2_tensorboard/\")\n",
        "model_a2c.learn(total_timesteps=100000,tb_log_name=\"run_aapl_a2c\")\n",
        "#model.save('AAPL_a2c_50k')\n"
      ],
      "execution_count": null,
      "outputs": [
        {
          "output_type": "stream",
          "text": [
            "WARNING:tensorflow:From /usr/local/lib/python3.6/dist-packages/stable_baselines/a2c/a2c.py:184: The name tf.train.RMSPropOptimizer is deprecated. Please use tf.compat.v1.train.RMSPropOptimizer instead.\n",
            "\n",
            "WARNING:tensorflow:From /usr/local/lib/python3.6/dist-packages/tensorflow_core/python/training/rmsprop.py:119: calling Ones.__init__ (from tensorflow.python.ops.init_ops) with dtype is deprecated and will be removed in a future version.\n",
            "Instructions for updating:\n",
            "Call initializer instance with the dtype argument instead of passing it to the constructor\n",
            "previous_total_asset:100000\n",
            "end_total_asset:143568.45233873036\n",
            "total_reward:43568.45233873036\n",
            "total_cost:  6387.934081530226\n",
            "total trades:  2456\n",
            "Sharpe:  0.4585063869500929\n",
            "previous_total_asset:100000\n",
            "end_total_asset:471519.15020942007\n",
            "total_reward:371519.15020942007\n",
            "total_cost:  3212.7233202738003\n",
            "total trades:  2510\n",
            "Sharpe:  0.8100652990954699\n",
            "previous_total_asset:100000\n",
            "end_total_asset:711997.8256528199\n",
            "total_reward:611997.8256528199\n",
            "total_cost:  1962.9036105102316\n",
            "total trades:  2509\n",
            "Sharpe:  0.9281065879650406\n",
            "previous_total_asset:100000\n",
            "end_total_asset:813730.9830055628\n",
            "total_reward:713730.9830055628\n",
            "total_cost:  5242.129027291222\n",
            "total trades:  2515\n",
            "Sharpe:  0.9784477406469194\n",
            "previous_total_asset:100000\n",
            "end_total_asset:763906.3490314147\n",
            "total_reward:663906.3490314147\n",
            "total_cost:  4817.21023018733\n",
            "total trades:  2513\n",
            "Sharpe:  0.9614375402950348\n",
            "previous_total_asset:100000\n",
            "end_total_asset:666065.8786650962\n",
            "total_reward:566065.8786650962\n",
            "total_cost:  4676.52369838125\n",
            "total trades:  2515\n",
            "Sharpe:  0.9251937168254919\n",
            "previous_total_asset:100000\n",
            "end_total_asset:828059.3046764581\n",
            "total_reward:728059.3046764581\n",
            "total_cost:  2756.847100758158\n",
            "total trades:  2515\n",
            "Sharpe:  0.9794847255543758\n",
            "previous_total_asset:100000\n",
            "end_total_asset:820407.5433832017\n",
            "total_reward:720407.5433832017\n",
            "total_cost:  3434.9401856560908\n",
            "total trades:  2515\n",
            "Sharpe:  0.9770267066894319\n",
            "previous_total_asset:100000\n",
            "end_total_asset:767188.7455583132\n",
            "total_reward:667188.7455583132\n",
            "total_cost:  3297.0731466450547\n",
            "total trades:  2515\n",
            "Sharpe:  0.9538168460285256\n",
            "previous_total_asset:100000\n",
            "end_total_asset:778635.5451063968\n",
            "total_reward:678635.5451063968\n",
            "total_cost:  4326.622281863198\n",
            "total trades:  2514\n",
            "Sharpe:  0.9661988894055867\n",
            "previous_total_asset:100000\n",
            "end_total_asset:271013.7760203545\n",
            "total_reward:171013.77602035447\n",
            "total_cost:  6035.33971987824\n",
            "total trades:  2511\n",
            "Sharpe:  0.6001095053202498\n",
            "previous_total_asset:100000\n",
            "end_total_asset:693888.6297474115\n",
            "total_reward:593888.6297474115\n",
            "total_cost:  6725.654488365585\n",
            "total trades:  2512\n",
            "Sharpe:  0.9477727396021005\n",
            "previous_total_asset:100000\n",
            "end_total_asset:695857.6520784842\n",
            "total_reward:595857.6520784842\n",
            "total_cost:  6559.052958980748\n",
            "total trades:  2515\n",
            "Sharpe:  0.9570767009582097\n",
            "previous_total_asset:100000\n",
            "end_total_asset:665060.478724533\n",
            "total_reward:565060.478724533\n",
            "total_cost:  6428.776309423134\n",
            "total trades:  2513\n",
            "Sharpe:  1.0284509105263875\n",
            "previous_total_asset:100000\n",
            "end_total_asset:304313.7964066868\n",
            "total_reward:204313.79640668677\n",
            "total_cost:  6560.517864200142\n",
            "total trades:  2463\n",
            "Sharpe:  0.685670350587845\n",
            "previous_total_asset:100000\n",
            "end_total_asset:556665.7202818475\n",
            "total_reward:456665.7202818475\n",
            "total_cost:  6514.5848537590755\n",
            "total trades:  2515\n",
            "Sharpe:  0.918155329470793\n",
            "previous_total_asset:100000\n",
            "end_total_asset:786268.58362437\n",
            "total_reward:686268.58362437\n",
            "total_cost:  6518.325190759874\n",
            "total trades:  2515\n",
            "Sharpe:  1.0064220446414565\n",
            "previous_total_asset:100000\n",
            "end_total_asset:821071.183253775\n",
            "total_reward:721071.183253775\n",
            "total_cost:  6503.402347123818\n",
            "total trades:  2515\n",
            "Sharpe:  1.0411410205557572\n",
            "previous_total_asset:100000\n",
            "end_total_asset:925445.9804322764\n",
            "total_reward:825445.9804322764\n",
            "total_cost:  6784.712702513881\n",
            "total trades:  2515\n",
            "Sharpe:  1.0404912926059942\n",
            "previous_total_asset:100000\n",
            "end_total_asset:962517.7903138469\n",
            "total_reward:862517.7903138469\n",
            "total_cost:  5193.491431148093\n",
            "total trades:  2515\n",
            "Sharpe:  1.0444274794914112\n",
            "previous_total_asset:100000\n",
            "end_total_asset:972332.4928350974\n",
            "total_reward:872332.4928350974\n",
            "total_cost:  6897.381129094436\n",
            "total trades:  2515\n",
            "Sharpe:  1.0570876131621412\n",
            "previous_total_asset:100000\n",
            "end_total_asset:945060.4014321667\n",
            "total_reward:845060.4014321667\n",
            "total_cost:  6735.608970433232\n",
            "total trades:  2515\n",
            "Sharpe:  1.0487443970392183\n",
            "previous_total_asset:100000\n",
            "end_total_asset:918670.8822703442\n",
            "total_reward:818670.8822703442\n",
            "total_cost:  6680.795828343729\n",
            "total trades:  2515\n",
            "Sharpe:  1.0403145093565656\n",
            "previous_total_asset:100000\n",
            "end_total_asset:932346.3690885586\n",
            "total_reward:832346.3690885586\n",
            "total_cost:  6617.01394678098\n",
            "total trades:  2515\n",
            "Sharpe:  1.047549236579285\n",
            "previous_total_asset:100000\n",
            "end_total_asset:929525.1868265397\n",
            "total_reward:829525.1868265397\n",
            "total_cost:  7027.402624023227\n",
            "total trades:  2515\n",
            "Sharpe:  1.0488654810492868\n",
            "previous_total_asset:100000\n",
            "end_total_asset:908426.3718980909\n",
            "total_reward:808426.3718980909\n",
            "total_cost:  6743.710549693906\n",
            "total trades:  2515\n",
            "Sharpe:  1.0533517402923307\n",
            "previous_total_asset:100000\n",
            "end_total_asset:837756.2032604109\n",
            "total_reward:737756.2032604109\n",
            "total_cost:  7696.352012277036\n",
            "total trades:  2515\n",
            "Sharpe:  1.0367535626224442\n",
            "previous_total_asset:100000\n",
            "end_total_asset:863230.8268439324\n",
            "total_reward:763230.8268439324\n",
            "total_cost:  7522.8635206924\n",
            "total trades:  2515\n",
            "Sharpe:  1.024741392144145\n",
            "previous_total_asset:100000\n",
            "end_total_asset:1068293.4052346733\n",
            "total_reward:968293.4052346733\n",
            "total_cost:  3950.7904742669434\n",
            "total trades:  2515\n",
            "Sharpe:  1.0696609048755705\n",
            "previous_total_asset:100000\n",
            "end_total_asset:1024396.5737258486\n",
            "total_reward:924396.5737258486\n",
            "total_cost:  7377.394023182965\n",
            "total trades:  2515\n",
            "Sharpe:  1.0612899463024488\n",
            "previous_total_asset:100000\n",
            "end_total_asset:985937.795078817\n",
            "total_reward:885937.795078817\n",
            "total_cost:  7331.481581167244\n",
            "total trades:  2515\n",
            "Sharpe:  1.0531098337914353\n",
            "previous_total_asset:100000\n",
            "end_total_asset:1039037.4584408774\n",
            "total_reward:939037.4584408774\n",
            "total_cost:  7189.234271772797\n",
            "total trades:  2515\n",
            "Sharpe:  1.060455776955667\n",
            "previous_total_asset:100000\n",
            "end_total_asset:1063517.41348354\n",
            "total_reward:963517.4134835401\n",
            "total_cost:  4901.12351607559\n",
            "total trades:  2515\n",
            "Sharpe:  1.0676215370687918\n",
            "previous_total_asset:100000\n",
            "end_total_asset:1031403.3840595726\n",
            "total_reward:931403.3840595726\n",
            "total_cost:  7692.226820285462\n",
            "total trades:  2515\n",
            "Sharpe:  1.0678040027978382\n",
            "previous_total_asset:100000\n",
            "end_total_asset:961527.0898816795\n",
            "total_reward:861527.0898816795\n",
            "total_cost:  7209.059959788929\n",
            "total trades:  2515\n",
            "Sharpe:  1.0537933358617513\n",
            "previous_total_asset:100000\n",
            "end_total_asset:1048865.3337775513\n",
            "total_reward:948865.3337775513\n",
            "total_cost:  3580.3174852377883\n",
            "total trades:  2515\n",
            "Sharpe:  1.0628302218014327\n",
            "previous_total_asset:100000\n",
            "end_total_asset:1072529.5638042036\n",
            "total_reward:972529.5638042036\n",
            "total_cost:  1634.1296899727581\n",
            "total trades:  2515\n",
            "Sharpe:  1.0683705166511808\n",
            "previous_total_asset:100000\n",
            "end_total_asset:1033626.8291941078\n",
            "total_reward:933626.8291941078\n",
            "total_cost:  6125.992164563634\n",
            "total trades:  2515\n",
            "Sharpe:  1.067705030388622\n",
            "previous_total_asset:100000\n",
            "end_total_asset:821092.0955071684\n",
            "total_reward:721092.0955071684\n",
            "total_cost:  5975.377095007534\n",
            "total trades:  2515\n",
            "Sharpe:  1.0242724391117501\n"
          ],
          "name": "stdout"
        },
        {
          "output_type": "execute_result",
          "data": {
            "text/plain": [
              "<stable_baselines.a2c.a2c.A2C at 0x7f19e6d38198>"
            ]
          },
          "metadata": {
            "tags": []
          },
          "execution_count": 26
        }
      ]
    },
    {
      "cell_type": "markdown",
      "metadata": {
        "id": "CiBG2ZknsG73"
      },
      "source": [
        "### Model 4: TD3"
      ]
    },
    {
      "cell_type": "code",
      "metadata": {
        "scrolled": true,
        "id": "2Y-v2D2wTnTk",
        "outputId": "9e4b7f22-27e2-412a-b127-84094cb5e24b",
        "colab": {
          "base_uri": "https://localhost:8080/",
          "height": 1000
        }
      },
      "source": [
        "#tensorboard --logdir ./single_stock_tensorboard/\n",
        "#DQN<DDPG<TD3\n",
        "env_train = DummyVecEnv([lambda: SingleStockEnv(train)])\n",
        "model_td3 = TD3('MlpPolicy', env_train, tensorboard_log=\"./single_stock_trading_2_tensorboard/\")\n",
        "model_td3.learn(total_timesteps=100000,tb_log_name=\"run_aapl_td3\")\n",
        "#model.save('AAPL_td3_50k')\n"
      ],
      "execution_count": null,
      "outputs": [
        {
          "output_type": "stream",
          "text": [
            "previous_total_asset:100000\n",
            "end_total_asset:778869.7048272111\n",
            "total_reward:678869.7048272111\n",
            "total_cost:  124.57847519610326\n",
            "total trades:  2504\n",
            "Sharpe:  0.9529387392421051\n",
            "previous_total_asset:100000\n",
            "end_total_asset:1080615.564949955\n",
            "total_reward:980615.5649499551\n",
            "total_cost:  99.89794448471066\n",
            "total trades:  2515\n",
            "Sharpe:  1.0705613146396975\n",
            "previous_total_asset:100000\n",
            "end_total_asset:1080615.564949955\n",
            "total_reward:980615.5649499551\n",
            "total_cost:  99.89794448471066\n",
            "total trades:  2515\n",
            "Sharpe:  1.0705613146396975\n",
            "previous_total_asset:100000\n",
            "end_total_asset:1080615.564949955\n",
            "total_reward:980615.5649499551\n",
            "total_cost:  99.89794448471066\n",
            "total trades:  2515\n",
            "Sharpe:  1.0705613146396975\n",
            "previous_total_asset:100000\n",
            "end_total_asset:1080615.564949955\n",
            "total_reward:980615.5649499551\n",
            "total_cost:  99.89794448471066\n",
            "total trades:  2515\n",
            "Sharpe:  1.0705613146396975\n",
            "previous_total_asset:100000\n",
            "end_total_asset:1080615.564949955\n",
            "total_reward:980615.5649499551\n",
            "total_cost:  99.89794448471066\n",
            "total trades:  2515\n",
            "Sharpe:  1.0705613146396975\n",
            "previous_total_asset:100000\n",
            "end_total_asset:1080615.564949955\n",
            "total_reward:980615.5649499551\n",
            "total_cost:  99.89794448471066\n",
            "total trades:  2515\n",
            "Sharpe:  1.0705613146396975\n",
            "previous_total_asset:100000\n",
            "end_total_asset:1080615.564949955\n",
            "total_reward:980615.5649499551\n",
            "total_cost:  99.89794448471066\n",
            "total trades:  2515\n",
            "Sharpe:  1.0705613146396975\n",
            "previous_total_asset:100000\n",
            "end_total_asset:1080615.564949955\n",
            "total_reward:980615.5649499551\n",
            "total_cost:  99.89794448471066\n",
            "total trades:  2515\n",
            "Sharpe:  1.0705613146396975\n",
            "previous_total_asset:100000\n",
            "end_total_asset:1080615.564949955\n",
            "total_reward:980615.5649499551\n",
            "total_cost:  99.89794448471066\n",
            "total trades:  2515\n",
            "Sharpe:  1.0705613146396975\n",
            "previous_total_asset:100000\n",
            "end_total_asset:1080615.564949955\n",
            "total_reward:980615.5649499551\n",
            "total_cost:  99.89794448471066\n",
            "total trades:  2515\n",
            "Sharpe:  1.0705613146396975\n",
            "previous_total_asset:100000\n",
            "end_total_asset:1080615.564949955\n",
            "total_reward:980615.5649499551\n",
            "total_cost:  99.89794448471066\n",
            "total trades:  2515\n",
            "Sharpe:  1.0705613146396975\n",
            "previous_total_asset:100000\n",
            "end_total_asset:1080615.564949955\n",
            "total_reward:980615.5649499551\n",
            "total_cost:  99.89794448471066\n",
            "total trades:  2515\n",
            "Sharpe:  1.0705613146396975\n",
            "previous_total_asset:100000\n",
            "end_total_asset:1080615.564949955\n",
            "total_reward:980615.5649499551\n",
            "total_cost:  99.89794448471066\n",
            "total trades:  2515\n",
            "Sharpe:  1.0705613146396975\n",
            "previous_total_asset:100000\n",
            "end_total_asset:1080615.564949955\n",
            "total_reward:980615.5649499551\n",
            "total_cost:  99.89794448471066\n",
            "total trades:  2515\n",
            "Sharpe:  1.0705613146396975\n",
            "previous_total_asset:100000\n",
            "end_total_asset:1080615.564949955\n",
            "total_reward:980615.5649499551\n",
            "total_cost:  99.89794448471066\n",
            "total trades:  2515\n",
            "Sharpe:  1.0705613146396975\n",
            "previous_total_asset:100000\n",
            "end_total_asset:1080615.564949955\n",
            "total_reward:980615.5649499551\n",
            "total_cost:  99.89794448471066\n",
            "total trades:  2515\n",
            "Sharpe:  1.0705613146396975\n",
            "previous_total_asset:100000\n",
            "end_total_asset:1080615.564949955\n",
            "total_reward:980615.5649499551\n",
            "total_cost:  99.89794448471066\n",
            "total trades:  2515\n",
            "Sharpe:  1.0705613146396975\n",
            "previous_total_asset:100000\n",
            "end_total_asset:1080615.564949955\n",
            "total_reward:980615.5649499551\n",
            "total_cost:  99.89794448471066\n",
            "total trades:  2515\n",
            "Sharpe:  1.0705613146396975\n",
            "previous_total_asset:100000\n",
            "end_total_asset:1080615.564949955\n",
            "total_reward:980615.5649499551\n",
            "total_cost:  99.89794448471066\n",
            "total trades:  2515\n",
            "Sharpe:  1.0705613146396975\n",
            "previous_total_asset:100000\n",
            "end_total_asset:1080615.564949955\n",
            "total_reward:980615.5649499551\n",
            "total_cost:  99.89794448471066\n",
            "total trades:  2515\n",
            "Sharpe:  1.0705613146396975\n",
            "previous_total_asset:100000\n",
            "end_total_asset:1080615.564949955\n",
            "total_reward:980615.5649499551\n",
            "total_cost:  99.89794448471066\n",
            "total trades:  2515\n",
            "Sharpe:  1.0705613146396975\n",
            "previous_total_asset:100000\n",
            "end_total_asset:1080615.564949955\n",
            "total_reward:980615.5649499551\n",
            "total_cost:  99.89794448471066\n",
            "total trades:  2515\n",
            "Sharpe:  1.0705613146396975\n",
            "previous_total_asset:100000\n",
            "end_total_asset:1080615.564949955\n",
            "total_reward:980615.5649499551\n",
            "total_cost:  99.89794448471066\n",
            "total trades:  2515\n",
            "Sharpe:  1.0705613146396975\n",
            "previous_total_asset:100000\n",
            "end_total_asset:1080615.564949955\n",
            "total_reward:980615.5649499551\n",
            "total_cost:  99.89794448471066\n",
            "total trades:  2515\n",
            "Sharpe:  1.0705613146396975\n",
            "previous_total_asset:100000\n",
            "end_total_asset:1080615.564949955\n",
            "total_reward:980615.5649499551\n",
            "total_cost:  99.89794448471066\n",
            "total trades:  2515\n",
            "Sharpe:  1.0705613146396975\n",
            "previous_total_asset:100000\n",
            "end_total_asset:1080615.564949955\n",
            "total_reward:980615.5649499551\n",
            "total_cost:  99.89794448471066\n",
            "total trades:  2515\n",
            "Sharpe:  1.0705613146396975\n",
            "previous_total_asset:100000\n",
            "end_total_asset:1080615.564949955\n",
            "total_reward:980615.5649499551\n",
            "total_cost:  99.89794448471066\n",
            "total trades:  2515\n",
            "Sharpe:  1.0705613146396975\n",
            "previous_total_asset:100000\n",
            "end_total_asset:1080615.564949955\n",
            "total_reward:980615.5649499551\n",
            "total_cost:  99.89794448471066\n",
            "total trades:  2515\n",
            "Sharpe:  1.0705613146396975\n",
            "previous_total_asset:100000\n",
            "end_total_asset:1080615.564949955\n",
            "total_reward:980615.5649499551\n",
            "total_cost:  99.89794448471066\n",
            "total trades:  2515\n",
            "Sharpe:  1.0705613146396975\n",
            "previous_total_asset:100000\n",
            "end_total_asset:1080615.564949955\n",
            "total_reward:980615.5649499551\n",
            "total_cost:  99.89794448471066\n",
            "total trades:  2515\n",
            "Sharpe:  1.0705613146396975\n",
            "previous_total_asset:100000\n",
            "end_total_asset:1080615.564949955\n",
            "total_reward:980615.5649499551\n",
            "total_cost:  99.89794448471066\n",
            "total trades:  2515\n",
            "Sharpe:  1.0705613146396975\n",
            "previous_total_asset:100000\n",
            "end_total_asset:1080615.564949955\n",
            "total_reward:980615.5649499551\n",
            "total_cost:  99.89794448471066\n",
            "total trades:  2515\n",
            "Sharpe:  1.0705613146396975\n",
            "previous_total_asset:100000\n",
            "end_total_asset:1080615.564949955\n",
            "total_reward:980615.5649499551\n",
            "total_cost:  99.89794448471066\n",
            "total trades:  2515\n",
            "Sharpe:  1.0705613146396975\n",
            "previous_total_asset:100000\n",
            "end_total_asset:1080615.564949955\n",
            "total_reward:980615.5649499551\n",
            "total_cost:  99.89794448471066\n",
            "total trades:  2515\n",
            "Sharpe:  1.0705613146396975\n",
            "previous_total_asset:100000\n",
            "end_total_asset:1080615.564949955\n",
            "total_reward:980615.5649499551\n",
            "total_cost:  99.89794448471066\n",
            "total trades:  2515\n",
            "Sharpe:  1.0705613146396975\n",
            "previous_total_asset:100000\n",
            "end_total_asset:1080615.564949955\n",
            "total_reward:980615.5649499551\n",
            "total_cost:  99.89794448471066\n",
            "total trades:  2515\n",
            "Sharpe:  1.0705613146396975\n",
            "previous_total_asset:100000\n",
            "end_total_asset:1080615.564949955\n",
            "total_reward:980615.5649499551\n",
            "total_cost:  99.89794448471066\n",
            "total trades:  2515\n",
            "Sharpe:  1.0705613146396975\n",
            "previous_total_asset:100000\n",
            "end_total_asset:1080615.564949955\n",
            "total_reward:980615.5649499551\n",
            "total_cost:  99.89794448471066\n",
            "total trades:  2515\n",
            "Sharpe:  1.0705613146396975\n"
          ],
          "name": "stdout"
        },
        {
          "output_type": "execute_result",
          "data": {
            "text/plain": [
              "<stable_baselines.td3.td3.TD3 at 0x7f19e3d1e748>"
            ]
          },
          "metadata": {
            "tags": []
          },
          "execution_count": 27
        }
      ]
    },
    {
      "cell_type": "markdown",
      "metadata": {
        "id": "KE1Xm9N9TnTn"
      },
      "source": [
        "### Testing data"
      ]
    },
    {
      "cell_type": "code",
      "metadata": {
        "id": "g1KlgP0FTnTn"
      },
      "source": [
        "test = data_clean[(data_clean.datadate>='2019-01-01') ]\n",
        "# the index needs to start from 0\n",
        "test=test.reset_index(drop=True)"
      ],
      "execution_count": null,
      "outputs": []
    },
    {
      "cell_type": "code",
      "metadata": {
        "id": "YGf3nPjuTnTq",
        "outputId": "eeb9b0b1-0e31-4bf8-ea89-f3e9e9da5f48",
        "colab": {
          "base_uri": "https://localhost:8080/",
          "height": 204
        }
      },
      "source": [
        "test.head()"
      ],
      "execution_count": null,
      "outputs": [
        {
          "output_type": "execute_result",
          "data": {
            "text/html": [
              "<div>\n",
              "<style scoped>\n",
              "    .dataframe tbody tr th:only-of-type {\n",
              "        vertical-align: middle;\n",
              "    }\n",
              "\n",
              "    .dataframe tbody tr th {\n",
              "        vertical-align: top;\n",
              "    }\n",
              "\n",
              "    .dataframe thead th {\n",
              "        text-align: right;\n",
              "    }\n",
              "</style>\n",
              "<table border=\"1\" class=\"dataframe\">\n",
              "  <thead>\n",
              "    <tr style=\"text-align: right;\">\n",
              "      <th></th>\n",
              "      <th>datadate</th>\n",
              "      <th>open</th>\n",
              "      <th>high</th>\n",
              "      <th>low</th>\n",
              "      <th>close</th>\n",
              "      <th>adjcp</th>\n",
              "      <th>volume</th>\n",
              "      <th>macd</th>\n",
              "    </tr>\n",
              "  </thead>\n",
              "  <tbody>\n",
              "    <tr>\n",
              "      <th>0</th>\n",
              "      <td>2019-01-02</td>\n",
              "      <td>38.722500</td>\n",
              "      <td>39.712502</td>\n",
              "      <td>38.557499</td>\n",
              "      <td>39.480000</td>\n",
              "      <td>38.629097</td>\n",
              "      <td>148158800</td>\n",
              "      <td>-2.023387</td>\n",
              "    </tr>\n",
              "    <tr>\n",
              "      <th>1</th>\n",
              "      <td>2019-01-03</td>\n",
              "      <td>35.994999</td>\n",
              "      <td>36.430000</td>\n",
              "      <td>35.500000</td>\n",
              "      <td>35.547501</td>\n",
              "      <td>34.781353</td>\n",
              "      <td>365248800</td>\n",
              "      <td>-2.206829</td>\n",
              "    </tr>\n",
              "    <tr>\n",
              "      <th>2</th>\n",
              "      <td>2019-01-04</td>\n",
              "      <td>36.132500</td>\n",
              "      <td>37.137501</td>\n",
              "      <td>35.950001</td>\n",
              "      <td>37.064999</td>\n",
              "      <td>36.266144</td>\n",
              "      <td>234428400</td>\n",
              "      <td>-2.206957</td>\n",
              "    </tr>\n",
              "    <tr>\n",
              "      <th>3</th>\n",
              "      <td>2019-01-07</td>\n",
              "      <td>37.174999</td>\n",
              "      <td>37.207500</td>\n",
              "      <td>36.474998</td>\n",
              "      <td>36.982498</td>\n",
              "      <td>36.185429</td>\n",
              "      <td>219111200</td>\n",
              "      <td>-2.188346</td>\n",
              "    </tr>\n",
              "    <tr>\n",
              "      <th>4</th>\n",
              "      <td>2019-01-08</td>\n",
              "      <td>37.389999</td>\n",
              "      <td>37.955002</td>\n",
              "      <td>37.130001</td>\n",
              "      <td>37.687500</td>\n",
              "      <td>36.875229</td>\n",
              "      <td>164101200</td>\n",
              "      <td>-2.093799</td>\n",
              "    </tr>\n",
              "  </tbody>\n",
              "</table>\n",
              "</div>"
            ],
            "text/plain": [
              "    datadate       open       high  ...      adjcp     volume      macd\n",
              "0 2019-01-02  38.722500  39.712502  ...  38.629097  148158800 -2.023387\n",
              "1 2019-01-03  35.994999  36.430000  ...  34.781353  365248800 -2.206829\n",
              "2 2019-01-04  36.132500  37.137501  ...  36.266144  234428400 -2.206957\n",
              "3 2019-01-07  37.174999  37.207500  ...  36.185429  219111200 -2.188346\n",
              "4 2019-01-08  37.389999  37.955002  ...  36.875229  164101200 -2.093799\n",
              "\n",
              "[5 rows x 8 columns]"
            ]
          },
          "metadata": {
            "tags": []
          },
          "execution_count": 29
        }
      ]
    },
    {
      "cell_type": "markdown",
      "metadata": {
        "id": "lDyxaD_4TnTt"
      },
      "source": [
        "### Trading\n",
        "Assume that we have $100,000 initial capital at 2019-01-01. We use the TD3 model to trade AAPL."
      ]
    },
    {
      "cell_type": "code",
      "metadata": {
        "id": "tjSOuewjTnTt",
        "outputId": "15e31522-9dbe-4edb-ff53-dcd0663aa043",
        "colab": {
          "base_uri": "https://localhost:8080/",
          "height": 136
        }
      },
      "source": [
        "model = model_td3\n",
        "env_test = DummyVecEnv([lambda: SingleStockEnv(test)])\n",
        "obs_test = env_test.reset()\n",
        "print(\"==============Model Prediction===========\")\n",
        "for i in range(len(test.index.unique())):\n",
        "    action, _states = model.predict(obs_test)\n",
        "    obs_test, rewards, dones, info = env_test.step(action)\n",
        "    env_test.render()"
      ],
      "execution_count": null,
      "outputs": [
        {
          "output_type": "stream",
          "text": [
            "==============Model Prediction===========\n",
            "previous_total_asset:100000\n",
            "end_total_asset:310696.8490824127\n",
            "total_reward:210696.84908241272\n",
            "total_cost:  99.87627464294434\n",
            "total trades:  456\n",
            "Sharpe:  1.864143095949389\n"
          ],
          "name": "stdout"
        }
      ]
    },
    {
      "cell_type": "markdown",
      "metadata": {
        "id": "qYXxFzD5TnTw"
      },
      "source": [
        "# Part 5: Backtest Our Strategy\n",
        "For simplicity purposes, in the article, we just calculate the Sharpe ratio and the annual return manually."
      ]
    },
    {
      "cell_type": "code",
      "metadata": {
        "id": "s-uT2flUTnTw"
      },
      "source": [
        "def get_DRL_sharpe():\n",
        "    df_total_value=pd.read_csv('account_value.csv',index_col=0)\n",
        "    df_total_value.columns = ['account_value']\n",
        "    df_total_value['daily_return']=df_total_value.pct_change(1)\n",
        "    sharpe = (252**0.5)*df_total_value['daily_return'].mean()/ \\\n",
        "    df_total_value['daily_return'].std()\n",
        "    \n",
        "    annual_return = ((df_total_value['daily_return'].mean()+1)**252-1)*100\n",
        "    print(\"annual return: \", annual_return)\n",
        "    print(\"sharpe ratio: \", sharpe)\n",
        "    return df_total_value"
      ],
      "execution_count": null,
      "outputs": []
    },
    {
      "cell_type": "code",
      "metadata": {
        "id": "Tc6z0wFeTnTz"
      },
      "source": [
        "def get_buy_and_hold_sharpe(test):\n",
        "    test['daily_return']=test['adjcp'].pct_change(1)\n",
        "    sharpe = (252**0.5)*test['daily_return'].mean()/ \\\n",
        "    test['daily_return'].std()\n",
        "    annual_return = ((test['daily_return'].mean()+1)**252-1)*100\n",
        "    print(\"annual return: \", annual_return)\n",
        "\n",
        "    print(\"sharpe ratio: \", sharpe)\n",
        "    #return sharpe"
      ],
      "execution_count": null,
      "outputs": []
    },
    {
      "cell_type": "code",
      "metadata": {
        "id": "FxGiNeo6TnT1",
        "outputId": "06abf43e-db27-4834-961f-fa7034abad29",
        "colab": {
          "base_uri": "https://localhost:8080/",
          "height": 51
        }
      },
      "source": [
        "df_total_value=get_DRL_sharpe()"
      ],
      "execution_count": null,
      "outputs": [
        {
          "output_type": "stream",
          "text": [
            "annual return:  100.59183078922125\n",
            "sharpe ratio:  1.8641430959493877\n"
          ],
          "name": "stdout"
        }
      ]
    },
    {
      "cell_type": "code",
      "metadata": {
        "id": "9Yk3cMeVTnT4",
        "outputId": "747b6e0b-135e-40e4-f791-3b3aacd065a0",
        "colab": {
          "base_uri": "https://localhost:8080/",
          "height": 51
        }
      },
      "source": [
        "get_buy_and_hold_sharpe(test)"
      ],
      "execution_count": null,
      "outputs": [
        {
          "output_type": "stream",
          "text": [
            "annual return:  97.36192520498028\n",
            "sharpe ratio:  1.7753353475308546\n"
          ],
          "name": "stdout"
        }
      ]
    },
    {
      "cell_type": "code",
      "metadata": {
        "id": "-J6q_kDOTnT8"
      },
      "source": [
        "DRL_cumulative_return = (df_total_value.account_value.pct_change(1)+1).cumprod()-1"
      ],
      "execution_count": null,
      "outputs": []
    },
    {
      "cell_type": "code",
      "metadata": {
        "id": "7Epy4PwtTnUA"
      },
      "source": [
        "buy_and_hold_cumulative_return = (test.adjcp.pct_change(1)+1).cumprod()-1"
      ],
      "execution_count": null,
      "outputs": []
    },
    {
      "cell_type": "code",
      "metadata": {
        "id": "HzfBZ0xBTnUE"
      },
      "source": [
        ""
      ],
      "execution_count": null,
      "outputs": []
    },
    {
      "cell_type": "code",
      "metadata": {
        "id": "L1CW-lrHTnUG",
        "outputId": "e0c053a7-e996-4e80-ba31-ccfd9e7c6d9e",
        "colab": {
          "base_uri": "https://localhost:8080/",
          "height": 503
        }
      },
      "source": [
        "%matplotlib inline\n",
        "fig, ax = plt.subplots(figsize=(12, 8))\n",
        "\n",
        "plt.plot(test.datadate, DRL_cumulative_return, color='red',label = \"DRL\")\n",
        "plt.plot(test.datadate, buy_and_hold_cumulative_return, label = \"Buy & Hold\")\n",
        "plt.title(\"Cumulative Return for AAPL with Transaction Cost\",size= 18)\n",
        "plt.legend()\n",
        "plt.rc('legend',fontsize=15)\n",
        "plt.rc('xtick', labelsize=15)\n",
        "plt.rc('ytick', labelsize=15)\n"
      ],
      "execution_count": null,
      "outputs": [
        {
          "output_type": "display_data",
          "data": {
            "image/png": "[encoded data removed]",
            "text/plain": [
              "<Figure size 864x576 with 1 Axes>"
            ]
          },
          "metadata": {
            "tags": [],
            "needs_background": "light"
          }
        }
      ]
    },
    {
      "cell_type": "code",
      "metadata": {
        "id": "cxll6y7sTnUJ"
      },
      "source": [
        ""
      ],
      "execution_count": null,
      "outputs": []
    }
  ]
}