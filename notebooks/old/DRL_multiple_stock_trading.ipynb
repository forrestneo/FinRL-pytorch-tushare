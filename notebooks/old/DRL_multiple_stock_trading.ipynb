{
 "cells": [
  {
   "cell_type": "markdown",
   "metadata": {
    "colab_type": "text",
    "id": "view-in-github"
   },
   "source": [
    "<a href=\"https://colab.research.google.com/github/AI4Finance-LLC/FinRL-Library/blob/master/DRL_multiple_stock_trading.ipynb\" target=\"_parent\"><img src=\"https://colab.research.google.com/assets/colab-badge.svg\" alt=\"Open In Colab\"/></a>"
   ]
  },
  {
   "cell_type": "markdown",
   "metadata": {
    "id": "gXaoZs2lh1hi"
   },
   "source": [
    "# Deep Reinforcement Learning for Stock Trading from Scratch: Multiple Stock Trading\n",
    "\n",
    "Tutorials to use OpenAI DRL to trade multiple stocks in one Jupyter Notebook | Presented at NeurIPS 2020: Deep RL Workshop\n",
    "\n",
    "* This blog is based on our paper: FinRL: A Deep Reinforcement Learning Library for Automated Stock Trading in Quantitative Finance, presented at NeurIPS 2020: Deep RL Workshop.\n",
    "* Check out medium blog for detailed explanations: \n",
    "* Please report any issues to our Github: https://github.com/AI4Finance-LLC/FinRL-Library/issues\n",
    "\n"
   ]
  },
  {
   "cell_type": "markdown",
   "metadata": {
    "id": "Uy5_PTmOh1hj"
   },
   "source": [
    "## Python Package Installation\n",
    "\n",
    "As a first step we check if the additional packages needed are present, if not install them. \n",
    "* Yahoo Finance API\n",
    "* pandas\n",
    "* numpy\n",
    "* matplotlib\n",
    "* stockstats\n",
    "* OpenAI gym\n",
    "* stable-baselines\n",
    "* tensorflow\n",
    "* pyfolio"
   ]
  },
  {
   "cell_type": "code",
   "execution_count": 1,
   "metadata": {
    "colab": {
     "base_uri": "https://localhost:8080/"
    },
    "id": "oirvDTJ0h1hk",
    "outputId": "badf76e7-1383-4e4e-96a9-35105f789e8d"
   },
   "outputs": [
    {
     "name": "stdout",
     "output_type": "stream",
     "text": [
      "Collecting yfinance\n",
      "  Downloading https://files.pythonhosted.org/packages/7a/e8/b9d7104d3a4bf39924799067592d9e59119fcfc900a425a12e80a3123ec8/yfinance-0.1.55.tar.gz\n",
      "Requirement already satisfied: pandas>=0.24 in /usr/local/lib/python3.6/dist-packages (from yfinance) (1.1.3)\n",
      "Requirement already satisfied: numpy>=1.15 in /usr/local/lib/python3.6/dist-packages (from yfinance) (1.18.5)\n",
      "Requirement already satisfied: requests>=2.20 in /usr/local/lib/python3.6/dist-packages (from yfinance) (2.23.0)\n",
      "Requirement already satisfied: multitasking>=0.0.7 in /usr/local/lib/python3.6/dist-packages (from yfinance) (0.0.9)\n",
      "Collecting lxml>=4.5.1\n",
      "\u001b[?25l  Downloading https://files.pythonhosted.org/packages/64/28/0b761b64ecbd63d272ed0e7a6ae6e4402fc37886b59181bfdf274424d693/lxml-4.6.1-cp36-cp36m-manylinux1_x86_64.whl (5.5MB)\n",
      "\u001b[K     |████████████████████████████████| 5.5MB 4.2MB/s \n",
      "\u001b[?25hRequirement already satisfied: python-dateutil>=2.7.3 in /usr/local/lib/python3.6/dist-packages (from pandas>=0.24->yfinance) (2.8.1)\n",
      "Requirement already satisfied: pytz>=2017.2 in /usr/local/lib/python3.6/dist-packages (from pandas>=0.24->yfinance) (2018.9)\n",
      "Requirement already satisfied: certifi>=2017.4.17 in /usr/local/lib/python3.6/dist-packages (from requests>=2.20->yfinance) (2020.6.20)\n",
      "Requirement already satisfied: idna<3,>=2.5 in /usr/local/lib/python3.6/dist-packages (from requests>=2.20->yfinance) (2.10)\n",
      "Requirement already satisfied: chardet<4,>=3.0.2 in /usr/local/lib/python3.6/dist-packages (from requests>=2.20->yfinance) (3.0.4)\n",
      "Requirement already satisfied: urllib3!=1.25.0,!=1.25.1,<1.26,>=1.21.1 in /usr/local/lib/python3.6/dist-packages (from requests>=2.20->yfinance) (1.24.3)\n",
      "Requirement already satisfied: six>=1.5 in /usr/local/lib/python3.6/dist-packages (from python-dateutil>=2.7.3->pandas>=0.24->yfinance) (1.15.0)\n",
      "Building wheels for collected packages: yfinance\n",
      "  Building wheel for yfinance (setup.py) ... \u001b[?25l\u001b[?25hdone\n",
      "  Created wheel for yfinance: filename=yfinance-0.1.55-py2.py3-none-any.whl size=22618 sha256=dcee81b2bef7d2e8dff8ce269a173224b490be3c926470d55b37f3c34e32732c\n",
      "  Stored in directory: /root/.cache/pip/wheels/04/98/cc/2702a4242d60bdc14f48b4557c427ded1fe92aedf257d4565c\n",
      "Successfully built yfinance\n",
      "Installing collected packages: lxml, yfinance\n",
      "  Found existing installation: lxml 4.2.6\n",
      "    Uninstalling lxml-4.2.6:\n",
      "      Successfully uninstalled lxml-4.2.6\n",
      "Successfully installed lxml-4.6.1 yfinance-0.1.55\n",
      "Requirement already satisfied: pandas in /usr/local/lib/python3.6/dist-packages (1.1.3)\n",
      "Requirement already satisfied: pytz>=2017.2 in /usr/local/lib/python3.6/dist-packages (from pandas) (2018.9)\n",
      "Requirement already satisfied: python-dateutil>=2.7.3 in /usr/local/lib/python3.6/dist-packages (from pandas) (2.8.1)\n",
      "Requirement already satisfied: numpy>=1.15.4 in /usr/local/lib/python3.6/dist-packages (from pandas) (1.18.5)\n",
      "Requirement already satisfied: six>=1.5 in /usr/local/lib/python3.6/dist-packages (from python-dateutil>=2.7.3->pandas) (1.15.0)\n",
      "Requirement already satisfied: numpy in /usr/local/lib/python3.6/dist-packages (1.18.5)\n",
      "Requirement already satisfied: matplotlib in /usr/local/lib/python3.6/dist-packages (3.2.2)\n",
      "Requirement already satisfied: numpy>=1.11 in /usr/local/lib/python3.6/dist-packages (from matplotlib) (1.18.5)\n",
      "Requirement already satisfied: kiwisolver>=1.0.1 in /usr/local/lib/python3.6/dist-packages (from matplotlib) (1.2.0)\n",
      "Requirement already satisfied: pyparsing!=2.0.4,!=2.1.2,!=2.1.6,>=2.0.1 in /usr/local/lib/python3.6/dist-packages (from matplotlib) (2.4.7)\n",
      "Requirement already satisfied: python-dateutil>=2.1 in /usr/local/lib/python3.6/dist-packages (from matplotlib) (2.8.1)\n",
      "Requirement already satisfied: cycler>=0.10 in /usr/local/lib/python3.6/dist-packages (from matplotlib) (0.10.0)\n",
      "Requirement already satisfied: six>=1.5 in /usr/local/lib/python3.6/dist-packages (from python-dateutil>=2.1->matplotlib) (1.15.0)\n",
      "Collecting stockstats\n",
      "  Downloading https://files.pythonhosted.org/packages/32/41/d3828c5bc0a262cb3112a4024108a3b019c183fa3b3078bff34bf25abf91/stockstats-0.3.2-py2.py3-none-any.whl\n",
      "Collecting int-date>=0.1.7\n",
      "  Downloading https://files.pythonhosted.org/packages/43/27/31803df15173ab341fe7548c14154b54227dfd8f630daa09a1c6e7db52f7/int_date-0.1.8-py2.py3-none-any.whl\n",
      "Requirement already satisfied: pandas>=0.18.1 in /usr/local/lib/python3.6/dist-packages (from stockstats) (1.1.3)\n",
      "Requirement already satisfied: numpy>=1.9.2 in /usr/local/lib/python3.6/dist-packages (from stockstats) (1.18.5)\n",
      "Requirement already satisfied: python-dateutil>=2.4.2 in /usr/local/lib/python3.6/dist-packages (from int-date>=0.1.7->stockstats) (2.8.1)\n",
      "Requirement already satisfied: six>=1.9.0 in /usr/local/lib/python3.6/dist-packages (from int-date>=0.1.7->stockstats) (1.15.0)\n",
      "Requirement already satisfied: pytz>=2017.2 in /usr/local/lib/python3.6/dist-packages (from pandas>=0.18.1->stockstats) (2018.9)\n",
      "Installing collected packages: int-date, stockstats\n",
      "Successfully installed int-date-0.1.8 stockstats-0.3.2\n",
      "Requirement already satisfied: gym in /usr/local/lib/python3.6/dist-packages (0.17.3)\n",
      "Requirement already satisfied: numpy>=1.10.4 in /usr/local/lib/python3.6/dist-packages (from gym) (1.18.5)\n",
      "Requirement already satisfied: scipy in /usr/local/lib/python3.6/dist-packages (from gym) (1.4.1)\n",
      "Requirement already satisfied: pyglet<=1.5.0,>=1.4.0 in /usr/local/lib/python3.6/dist-packages (from gym) (1.5.0)\n",
      "Requirement already satisfied: cloudpickle<1.7.0,>=1.2.0 in /usr/local/lib/python3.6/dist-packages (from gym) (1.3.0)\n",
      "Requirement already satisfied: future in /usr/local/lib/python3.6/dist-packages (from pyglet<=1.5.0,>=1.4.0->gym) (0.16.0)\n",
      "Collecting stable-baselines[mpi]\n",
      "\u001b[?25l  Downloading https://files.pythonhosted.org/packages/b0/48/d428b79bd4360727925f9fe34afeea7a9da381da3dc8748df834a349ad1d/stable_baselines-2.10.1-py3-none-any.whl (240kB)\n",
      "\u001b[K     |████████████████████████████████| 245kB 2.8MB/s \n",
      "\u001b[?25hRequirement already satisfied: matplotlib in /usr/local/lib/python3.6/dist-packages (from stable-baselines[mpi]) (3.2.2)\n",
      "Requirement already satisfied: numpy in /usr/local/lib/python3.6/dist-packages (from stable-baselines[mpi]) (1.18.5)\n",
      "Requirement already satisfied: opencv-python in /usr/local/lib/python3.6/dist-packages (from stable-baselines[mpi]) (4.1.2.30)\n",
      "Requirement already satisfied: pandas in /usr/local/lib/python3.6/dist-packages (from stable-baselines[mpi]) (1.1.3)\n",
      "Requirement already satisfied: joblib in /usr/local/lib/python3.6/dist-packages (from stable-baselines[mpi]) (0.17.0)\n",
      "Requirement already satisfied: gym[atari,classic_control]>=0.11 in /usr/local/lib/python3.6/dist-packages (from stable-baselines[mpi]) (0.17.3)\n",
      "Requirement already satisfied: cloudpickle>=0.5.5 in /usr/local/lib/python3.6/dist-packages (from stable-baselines[mpi]) (1.3.0)\n",
      "Requirement already satisfied: scipy in /usr/local/lib/python3.6/dist-packages (from stable-baselines[mpi]) (1.4.1)\n",
      "Collecting mpi4py; extra == \"mpi\"\n",
      "\u001b[?25l  Downloading https://files.pythonhosted.org/packages/ec/8f/bbd8de5ba566dd77e408d8136e2bab7fdf2b97ce06cab830ba8b50a2f588/mpi4py-3.0.3.tar.gz (1.4MB)\n",
      "\u001b[K     |████████████████████████████████| 1.4MB 8.5MB/s \n",
      "\u001b[?25hRequirement already satisfied: kiwisolver>=1.0.1 in /usr/local/lib/python3.6/dist-packages (from matplotlib->stable-baselines[mpi]) (1.2.0)\n",
      "Requirement already satisfied: python-dateutil>=2.1 in /usr/local/lib/python3.6/dist-packages (from matplotlib->stable-baselines[mpi]) (2.8.1)\n",
      "Requirement already satisfied: pyparsing!=2.0.4,!=2.1.2,!=2.1.6,>=2.0.1 in /usr/local/lib/python3.6/dist-packages (from matplotlib->stable-baselines[mpi]) (2.4.7)\n",
      "Requirement already satisfied: cycler>=0.10 in /usr/local/lib/python3.6/dist-packages (from matplotlib->stable-baselines[mpi]) (0.10.0)\n",
      "Requirement already satisfied: pytz>=2017.2 in /usr/local/lib/python3.6/dist-packages (from pandas->stable-baselines[mpi]) (2018.9)\n",
      "Requirement already satisfied: pyglet<=1.5.0,>=1.4.0 in /usr/local/lib/python3.6/dist-packages (from gym[atari,classic_control]>=0.11->stable-baselines[mpi]) (1.5.0)\n",
      "Requirement already satisfied: Pillow; extra == \"atari\" in /usr/local/lib/python3.6/dist-packages (from gym[atari,classic_control]>=0.11->stable-baselines[mpi]) (7.0.0)\n",
      "Requirement already satisfied: atari-py~=0.2.0; extra == \"atari\" in /usr/local/lib/python3.6/dist-packages (from gym[atari,classic_control]>=0.11->stable-baselines[mpi]) (0.2.6)\n",
      "Requirement already satisfied: six>=1.5 in /usr/local/lib/python3.6/dist-packages (from python-dateutil>=2.1->matplotlib->stable-baselines[mpi]) (1.15.0)\n",
      "Requirement already satisfied: future in /usr/local/lib/python3.6/dist-packages (from pyglet<=1.5.0,>=1.4.0->gym[atari,classic_control]>=0.11->stable-baselines[mpi]) (0.16.0)\n",
      "Building wheels for collected packages: mpi4py\n",
      "  Building wheel for mpi4py (setup.py) ... \u001b[?25l\u001b[?25hdone\n",
      "  Created wheel for mpi4py: filename=mpi4py-3.0.3-cp36-cp36m-linux_x86_64.whl size=2074461 sha256=331968b5cb8b0d4a5a24ecffa6b020997051bc75da769126eab46c762f6ababd\n",
      "  Stored in directory: /root/.cache/pip/wheels/18/e0/86/2b713dd512199096012ceca61429e12b960888de59818871d6\n",
      "Successfully built mpi4py\n",
      "Installing collected packages: mpi4py, stable-baselines\n",
      "Successfully installed mpi4py-3.0.3 stable-baselines-2.10.1\n",
      "Collecting tensorflow==1.15.4\n",
      "\u001b[?25l  Downloading https://files.pythonhosted.org/packages/8e/64/7a19837dd54d3f53b1ce5ae346ab401dde9678e8f233220317000bfdb3e2/tensorflow-1.15.4-cp36-cp36m-manylinux2010_x86_64.whl (110.5MB)\n",
      "\u001b[K     |████████████████████████████████| 110.5MB 85kB/s \n",
      "\u001b[?25hRequirement already satisfied: google-pasta>=0.1.6 in /usr/local/lib/python3.6/dist-packages (from tensorflow==1.15.4) (0.2.0)\n",
      "Collecting gast==0.2.2\n",
      "  Downloading https://files.pythonhosted.org/packages/4e/35/11749bf99b2d4e3cceb4d55ca22590b0d7c2c62b9de38ac4a4a7f4687421/gast-0.2.2.tar.gz\n",
      "Collecting tensorboard<1.16.0,>=1.15.0\n",
      "\u001b[?25l  Downloading https://files.pythonhosted.org/packages/1e/e9/d3d747a97f7188f48aa5eda486907f3b345cd409f0a0850468ba867db246/tensorboard-1.15.0-py3-none-any.whl (3.8MB)\n",
      "\u001b[K     |████████████████████████████████| 3.8MB 39.9MB/s \n",
      "\u001b[?25hRequirement already satisfied: protobuf>=3.6.1 in /usr/local/lib/python3.6/dist-packages (from tensorflow==1.15.4) (3.12.4)\n",
      "Requirement already satisfied: grpcio>=1.8.6 in /usr/local/lib/python3.6/dist-packages (from tensorflow==1.15.4) (1.33.1)\n",
      "Collecting keras-applications>=1.0.8\n",
      "\u001b[?25l  Downloading https://files.pythonhosted.org/packages/71/e3/19762fdfc62877ae9102edf6342d71b28fbfd9dea3d2f96a882ce099b03f/Keras_Applications-1.0.8-py3-none-any.whl (50kB)\n",
      "\u001b[K     |████████████████████████████████| 51kB 5.5MB/s \n",
      "\u001b[?25hCollecting tensorflow-estimator==1.15.1\n",
      "\u001b[?25l  Downloading https://files.pythonhosted.org/packages/de/62/2ee9cd74c9fa2fa450877847ba560b260f5d0fb70ee0595203082dafcc9d/tensorflow_estimator-1.15.1-py2.py3-none-any.whl (503kB)\n",
      "\u001b[K     |████████████████████████████████| 512kB 36.8MB/s \n",
      "\u001b[?25hRequirement already satisfied: keras-preprocessing>=1.0.5 in /usr/local/lib/python3.6/dist-packages (from tensorflow==1.15.4) (1.1.2)\n",
      "Requirement already satisfied: termcolor>=1.1.0 in /usr/local/lib/python3.6/dist-packages (from tensorflow==1.15.4) (1.1.0)\n",
      "Requirement already satisfied: numpy<1.19.0,>=1.16.0 in /usr/local/lib/python3.6/dist-packages (from tensorflow==1.15.4) (1.18.5)\n",
      "Requirement already satisfied: six>=1.10.0 in /usr/local/lib/python3.6/dist-packages (from tensorflow==1.15.4) (1.15.0)\n",
      "Requirement already satisfied: wheel>=0.26; python_version >= \"3\" in /usr/local/lib/python3.6/dist-packages (from tensorflow==1.15.4) (0.35.1)\n",
      "Requirement already satisfied: absl-py>=0.7.0 in /usr/local/lib/python3.6/dist-packages (from tensorflow==1.15.4) (0.10.0)\n",
      "Requirement already satisfied: astor>=0.6.0 in /usr/local/lib/python3.6/dist-packages (from tensorflow==1.15.4) (0.8.1)\n",
      "Requirement already satisfied: opt-einsum>=2.3.2 in /usr/local/lib/python3.6/dist-packages (from tensorflow==1.15.4) (3.3.0)\n",
      "Requirement already satisfied: wrapt>=1.11.1 in /usr/local/lib/python3.6/dist-packages (from tensorflow==1.15.4) (1.12.1)\n",
      "Requirement already satisfied: setuptools>=41.0.0 in /usr/local/lib/python3.6/dist-packages (from tensorboard<1.16.0,>=1.15.0->tensorflow==1.15.4) (50.3.2)\n",
      "Requirement already satisfied: markdown>=2.6.8 in /usr/local/lib/python3.6/dist-packages (from tensorboard<1.16.0,>=1.15.0->tensorflow==1.15.4) (3.3.2)\n",
      "Requirement already satisfied: werkzeug>=0.11.15 in /usr/local/lib/python3.6/dist-packages (from tensorboard<1.16.0,>=1.15.0->tensorflow==1.15.4) (1.0.1)\n",
      "Requirement already satisfied: h5py in /usr/local/lib/python3.6/dist-packages (from keras-applications>=1.0.8->tensorflow==1.15.4) (2.10.0)\n",
      "Requirement already satisfied: importlib-metadata; python_version < \"3.8\" in /usr/local/lib/python3.6/dist-packages (from markdown>=2.6.8->tensorboard<1.16.0,>=1.15.0->tensorflow==1.15.4) (2.0.0)\n",
      "Requirement already satisfied: zipp>=0.5 in /usr/local/lib/python3.6/dist-packages (from importlib-metadata; python_version < \"3.8\"->markdown>=2.6.8->tensorboard<1.16.0,>=1.15.0->tensorflow==1.15.4) (3.3.1)\n",
      "Building wheels for collected packages: gast\n",
      "  Building wheel for gast (setup.py) ... \u001b[?25l\u001b[?25hdone\n",
      "  Created wheel for gast: filename=gast-0.2.2-cp36-none-any.whl size=7542 sha256=d5778b53cb7738227b7e863fa6903b6ae0af0b73893529f4530f3457115025c4\n",
      "  Stored in directory: /root/.cache/pip/wheels/5c/2e/7e/a1d4d4fcebe6c381f378ce7743a3ced3699feb89bcfbdadadd\n",
      "Successfully built gast\n",
      "\u001b[31mERROR: tensorflow-probability 0.11.0 has requirement gast>=0.3.2, but you'll have gast 0.2.2 which is incompatible.\u001b[0m\n",
      "Installing collected packages: gast, tensorboard, keras-applications, tensorflow-estimator, tensorflow\n",
      "  Found existing installation: gast 0.3.3\n",
      "    Uninstalling gast-0.3.3:\n",
      "      Successfully uninstalled gast-0.3.3\n",
      "  Found existing installation: tensorboard 2.3.0\n",
      "    Uninstalling tensorboard-2.3.0:\n",
      "      Successfully uninstalled tensorboard-2.3.0\n",
      "  Found existing installation: tensorflow-estimator 2.3.0\n",
      "    Uninstalling tensorflow-estimator-2.3.0:\n",
      "      Successfully uninstalled tensorflow-estimator-2.3.0\n",
      "  Found existing installation: tensorflow 2.3.0\n",
      "    Uninstalling tensorflow-2.3.0:\n",
      "      Successfully uninstalled tensorflow-2.3.0\n",
      "Successfully installed gast-0.2.2 keras-applications-1.0.8 tensorboard-1.15.0 tensorflow-1.15.4 tensorflow-estimator-1.15.1\n",
      "Collecting git+https://github.com/quantopian/pyfolio\n",
      "  Cloning https://github.com/quantopian/pyfolio to /tmp/pip-req-build-c6p1wogj\n",
      "  Running command git clone -q https://github.com/quantopian/pyfolio /tmp/pip-req-build-c6p1wogj\n",
      "Requirement already satisfied: ipython>=3.2.3 in /usr/local/lib/python3.6/dist-packages (from pyfolio==0.9.2+75.g4b901f6) (5.5.0)\n",
      "Requirement already satisfied: matplotlib>=1.4.0 in /usr/local/lib/python3.6/dist-packages (from pyfolio==0.9.2+75.g4b901f6) (3.2.2)\n",
      "Requirement already satisfied: numpy>=1.11.1 in /usr/local/lib/python3.6/dist-packages (from pyfolio==0.9.2+75.g4b901f6) (1.18.5)\n",
      "Requirement already satisfied: pandas>=0.18.1 in /usr/local/lib/python3.6/dist-packages (from pyfolio==0.9.2+75.g4b901f6) (1.1.3)\n",
      "Requirement already satisfied: pytz>=2014.10 in /usr/local/lib/python3.6/dist-packages (from pyfolio==0.9.2+75.g4b901f6) (2018.9)\n",
      "Requirement already satisfied: scipy>=0.14.0 in /usr/local/lib/python3.6/dist-packages (from pyfolio==0.9.2+75.g4b901f6) (1.4.1)\n",
      "Requirement already satisfied: scikit-learn>=0.16.1 in /usr/local/lib/python3.6/dist-packages (from pyfolio==0.9.2+75.g4b901f6) (0.22.2.post1)\n",
      "Requirement already satisfied: seaborn>=0.7.1 in /usr/local/lib/python3.6/dist-packages (from pyfolio==0.9.2+75.g4b901f6) (0.11.0)\n",
      "Collecting empyrical>=0.5.0\n",
      "\u001b[?25l  Downloading https://files.pythonhosted.org/packages/74/43/1b997c21411c6ab7c96dc034e160198272c7a785aeea7654c9bcf98bec83/empyrical-0.5.5.tar.gz (52kB)\n",
      "\u001b[K     |████████████████████████████████| 61kB 1.8MB/s \n",
      "\u001b[?25hRequirement already satisfied: pexpect; sys_platform != \"win32\" in /usr/local/lib/python3.6/dist-packages (from ipython>=3.2.3->pyfolio==0.9.2+75.g4b901f6) (4.8.0)\n",
      "Requirement already satisfied: simplegeneric>0.8 in /usr/local/lib/python3.6/dist-packages (from ipython>=3.2.3->pyfolio==0.9.2+75.g4b901f6) (0.8.1)\n",
      "Requirement already satisfied: prompt-toolkit<2.0.0,>=1.0.4 in /usr/local/lib/python3.6/dist-packages (from ipython>=3.2.3->pyfolio==0.9.2+75.g4b901f6) (1.0.18)\n",
      "Requirement already satisfied: pickleshare in /usr/local/lib/python3.6/dist-packages (from ipython>=3.2.3->pyfolio==0.9.2+75.g4b901f6) (0.7.5)\n",
      "Requirement already satisfied: decorator in /usr/local/lib/python3.6/dist-packages (from ipython>=3.2.3->pyfolio==0.9.2+75.g4b901f6) (4.4.2)\n",
      "Requirement already satisfied: pygments in /usr/local/lib/python3.6/dist-packages (from ipython>=3.2.3->pyfolio==0.9.2+75.g4b901f6) (2.6.1)\n",
      "Requirement already satisfied: traitlets>=4.2 in /usr/local/lib/python3.6/dist-packages (from ipython>=3.2.3->pyfolio==0.9.2+75.g4b901f6) (4.3.3)\n",
      "Requirement already satisfied: setuptools>=18.5 in /usr/local/lib/python3.6/dist-packages (from ipython>=3.2.3->pyfolio==0.9.2+75.g4b901f6) (50.3.2)\n",
      "Requirement already satisfied: pyparsing!=2.0.4,!=2.1.2,!=2.1.6,>=2.0.1 in /usr/local/lib/python3.6/dist-packages (from matplotlib>=1.4.0->pyfolio==0.9.2+75.g4b901f6) (2.4.7)\n",
      "Requirement already satisfied: python-dateutil>=2.1 in /usr/local/lib/python3.6/dist-packages (from matplotlib>=1.4.0->pyfolio==0.9.2+75.g4b901f6) (2.8.1)\n",
      "Requirement already satisfied: kiwisolver>=1.0.1 in /usr/local/lib/python3.6/dist-packages (from matplotlib>=1.4.0->pyfolio==0.9.2+75.g4b901f6) (1.2.0)\n",
      "Requirement already satisfied: cycler>=0.10 in /usr/local/lib/python3.6/dist-packages (from matplotlib>=1.4.0->pyfolio==0.9.2+75.g4b901f6) (0.10.0)\n",
      "Requirement already satisfied: joblib>=0.11 in /usr/local/lib/python3.6/dist-packages (from scikit-learn>=0.16.1->pyfolio==0.9.2+75.g4b901f6) (0.17.0)\n",
      "Requirement already satisfied: pandas-datareader>=0.2 in /usr/local/lib/python3.6/dist-packages (from empyrical>=0.5.0->pyfolio==0.9.2+75.g4b901f6) (0.9.0)\n",
      "Requirement already satisfied: ptyprocess>=0.5 in /usr/local/lib/python3.6/dist-packages (from pexpect; sys_platform != \"win32\"->ipython>=3.2.3->pyfolio==0.9.2+75.g4b901f6) (0.6.0)\n",
      "Requirement already satisfied: six>=1.9.0 in /usr/local/lib/python3.6/dist-packages (from prompt-toolkit<2.0.0,>=1.0.4->ipython>=3.2.3->pyfolio==0.9.2+75.g4b901f6) (1.15.0)\n",
      "Requirement already satisfied: wcwidth in /usr/local/lib/python3.6/dist-packages (from prompt-toolkit<2.0.0,>=1.0.4->ipython>=3.2.3->pyfolio==0.9.2+75.g4b901f6) (0.2.5)\n",
      "Requirement already satisfied: ipython-genutils in /usr/local/lib/python3.6/dist-packages (from traitlets>=4.2->ipython>=3.2.3->pyfolio==0.9.2+75.g4b901f6) (0.2.0)\n",
      "Requirement already satisfied: lxml in /usr/local/lib/python3.6/dist-packages (from pandas-datareader>=0.2->empyrical>=0.5.0->pyfolio==0.9.2+75.g4b901f6) (4.6.1)\n",
      "Requirement already satisfied: requests>=2.19.0 in /usr/local/lib/python3.6/dist-packages (from pandas-datareader>=0.2->empyrical>=0.5.0->pyfolio==0.9.2+75.g4b901f6) (2.23.0)\n",
      "Requirement already satisfied: idna<3,>=2.5 in /usr/local/lib/python3.6/dist-packages (from requests>=2.19.0->pandas-datareader>=0.2->empyrical>=0.5.0->pyfolio==0.9.2+75.g4b901f6) (2.10)\n",
      "Requirement already satisfied: certifi>=2017.4.17 in /usr/local/lib/python3.6/dist-packages (from requests>=2.19.0->pandas-datareader>=0.2->empyrical>=0.5.0->pyfolio==0.9.2+75.g4b901f6) (2020.6.20)\n",
      "Requirement already satisfied: urllib3!=1.25.0,!=1.25.1,<1.26,>=1.21.1 in /usr/local/lib/python3.6/dist-packages (from requests>=2.19.0->pandas-datareader>=0.2->empyrical>=0.5.0->pyfolio==0.9.2+75.g4b901f6) (1.24.3)\n",
      "Requirement already satisfied: chardet<4,>=3.0.2 in /usr/local/lib/python3.6/dist-packages (from requests>=2.19.0->pandas-datareader>=0.2->empyrical>=0.5.0->pyfolio==0.9.2+75.g4b901f6) (3.0.4)\n",
      "Building wheels for collected packages: pyfolio, empyrical\n",
      "  Building wheel for pyfolio (setup.py) ... \u001b[?25l\u001b[?25hdone\n",
      "  Created wheel for pyfolio: filename=pyfolio-0.9.2+75.g4b901f6-cp36-none-any.whl size=75764 sha256=21728994b0ec256aec902e36b89fe0e226e22e85dea4220f03c516b81a869da7\n",
      "  Stored in directory: /tmp/pip-ephem-wheel-cache-turb0l69/wheels/62/7d/a7/3e462442ba7d63c35414176627c886340521dc3dbc0893ce9f\n",
      "  Building wheel for empyrical (setup.py) ... \u001b[?25l\u001b[?25hdone\n",
      "  Created wheel for empyrical: filename=empyrical-0.5.5-cp36-none-any.whl size=39763 sha256=30027cc5bea02873bed61b5fd651ffcc8640204b7eceec1459be4584d41f04dd\n",
      "  Stored in directory: /root/.cache/pip/wheels/ea/b2/c8/6769d8444d2f2e608fae2641833110668d0ffd1abeb2e9f3fc\n",
      "Successfully built pyfolio empyrical\n",
      "Installing collected packages: empyrical, pyfolio\n",
      "Successfully installed empyrical-0.5.5 pyfolio-0.9.2+75.g4b901f6\n"
     ]
    }
   ],
   "source": [
    "import pkg_resources\n",
    "import pip\n",
    "installedPackages = {pkg.key for pkg in pkg_resources.working_set}\n",
    "required = {'yfinance', 'pandas','numpy', 'matplotlib', 'stockstats','stable-baselines','gym','tensorflow','pyfolio'}\n",
    "missing = required - installedPackages\n",
    "if missing:\n",
    "    !pip install yfinance\n",
    "    !pip install pandas\n",
    "    !pip install numpy\n",
    "    !pip install matplotlib\n",
    "    !pip install stockstats\n",
    "    !pip install gym\n",
    "    !pip install stable-baselines[mpi]\n",
    "    !pip install tensorflow==1.15.4\n",
    "    !pip install git+https://github.com/quantopian/pyfolio\n"
   ]
  },
  {
   "cell_type": "markdown",
   "metadata": {
    "id": "nGv01K8Sh1hn"
   },
   "source": [
    "## Import packages"
   ]
  },
  {
   "cell_type": "code",
   "execution_count": 54,
   "metadata": {
    "id": "lPqeTTwoh1hn"
   },
   "outputs": [],
   "source": [
    "import pandas as pd\n",
    "import numpy as np\n",
    "import matplotlib\n",
    "import matplotlib.pyplot as plt\n",
    "matplotlib.use('Agg')\n",
    "\n",
    "import yfinance as yf\n",
    "from stockstats import StockDataFrame as Sdf\n",
    "import pyfolio\n",
    "\n",
    "import gym\n",
    "from stable_baselines import PPO2, DDPG, A2C, ACKTR, TD3, TRPO\n",
    "from stable_baselines import DDPG\n",
    "from stable_baselines import A2C\n",
    "from stable_baselines import SAC\n",
    "from stable_baselines.common.vec_env import DummyVecEnv\n",
    "from stable_baselines.common.policies import MlpPolicy\n",
    "from stable_baselines.common.noise import NormalActionNoise, OrnsteinUhlenbeckActionNoise, AdaptiveParamNoiseSpec\n"
   ]
  },
  {
   "cell_type": "markdown",
   "metadata": {
    "id": "A289rQWMh1hq"
   },
   "source": [
    "# Part 1: Download Data\n",
    "Yahoo Finance is a website that provides stock data, financial news, financial reports, etc. All the data provided by Yahoo Finance is free."
   ]
  },
  {
   "cell_type": "code",
   "execution_count": 3,
   "metadata": {
    "id": "X2MNEehAh1hq"
   },
   "outputs": [],
   "source": [
    "# Dow 30 constituents at 2019/01/01\n",
    "dow_30_ticker = ['AAPL','MSFT','JPM','V','RTX','PG','GS','NKE','DIS','AXP',\n",
    "                  'HD','INTC','WMT','IBM','MRK','UNH','KO','CAT','TRV','JNJ',\n",
    "                  'CVX','MCD','VZ','CSCO','XOM','BA','MMM','PFE','WBA','DD']"
   ]
  },
  {
   "cell_type": "code",
   "execution_count": 19,
   "metadata": {
    "colab": {
     "base_uri": "https://localhost:8080/"
    },
    "id": "TZxcKiCuh1hv",
    "outputId": "c3111ff5-0e42-47f5-e9fe-3c3c5c7f8343"
   },
   "outputs": [
    {
     "name": "stdout",
     "output_type": "stream",
     "text": [
      "[*********************100%***********************]  1 of 1 completed\n",
      "[*********************100%***********************]  1 of 1 completed\n",
      "[*********************100%***********************]  1 of 1 completed\n",
      "[*********************100%***********************]  1 of 1 completed\n",
      "[*********************100%***********************]  1 of 1 completed\n",
      "[*********************100%***********************]  1 of 1 completed\n",
      "[*********************100%***********************]  1 of 1 completed\n",
      "[*********************100%***********************]  1 of 1 completed\n",
      "[*********************100%***********************]  1 of 1 completed\n",
      "[*********************100%***********************]  1 of 1 completed\n",
      "[*********************100%***********************]  1 of 1 completed\n",
      "[*********************100%***********************]  1 of 1 completed\n",
      "[*********************100%***********************]  1 of 1 completed\n",
      "[*********************100%***********************]  1 of 1 completed\n",
      "[*********************100%***********************]  1 of 1 completed\n",
      "[*********************100%***********************]  1 of 1 completed\n",
      "[*********************100%***********************]  1 of 1 completed\n",
      "[*********************100%***********************]  1 of 1 completed\n",
      "[*********************100%***********************]  1 of 1 completed\n",
      "[*********************100%***********************]  1 of 1 completed\n",
      "[*********************100%***********************]  1 of 1 completed\n",
      "[*********************100%***********************]  1 of 1 completed\n",
      "[*********************100%***********************]  1 of 1 completed\n",
      "[*********************100%***********************]  1 of 1 completed\n",
      "[*********************100%***********************]  1 of 1 completed\n",
      "[*********************100%***********************]  1 of 1 completed\n",
      "[*********************100%***********************]  1 of 1 completed\n",
      "[*********************100%***********************]  1 of 1 completed\n",
      "[*********************100%***********************]  1 of 1 completed\n",
      "[*********************100%***********************]  1 of 1 completed\n"
     ]
    }
   ],
   "source": [
    "# Download and save the data in a pandas DataFrame:\n",
    "dow_30 = pd.DataFrame()\n",
    "for tic in dow_30_ticker:\n",
    "    data_df = yf.download(tic, start=\"2009-01-01\", end=\"2020-10-23\")\n",
    "    data_df['tic'] = tic\n",
    "    dow_30=dow_30.append(data_df)"
   ]
  },
  {
   "cell_type": "code",
   "execution_count": 20,
   "metadata": {
    "colab": {
     "base_uri": "https://localhost:8080/"
    },
    "id": "CV3HrZHLh1hy",
    "outputId": "4221ab23-b07b-4a1b-f5bb-790ee7ea941e"
   },
   "outputs": [
    {
     "data": {
      "text/plain": [
       "(89191, 7)"
      ]
     },
     "execution_count": 20,
     "metadata": {
      "tags": []
     },
     "output_type": "execute_result"
    }
   ],
   "source": [
    "dow_30.shape"
   ]
  },
  {
   "cell_type": "code",
   "execution_count": 21,
   "metadata": {
    "colab": {
     "base_uri": "https://localhost:8080/",
     "height": 235
    },
    "id": "fYeJzIaVh1h1",
    "outputId": "cab23fd0-6b0a-4689-cc78-75a49130762c"
   },
   "outputs": [
    {
     "data": {
      "text/html": [
       "<div>\n",
       "<style scoped>\n",
       "    .dataframe tbody tr th:only-of-type {\n",
       "        vertical-align: middle;\n",
       "    }\n",
       "\n",
       "    .dataframe tbody tr th {\n",
       "        vertical-align: top;\n",
       "    }\n",
       "\n",
       "    .dataframe thead th {\n",
       "        text-align: right;\n",
       "    }\n",
       "</style>\n",
       "<table border=\"1\" class=\"dataframe\">\n",
       "  <thead>\n",
       "    <tr style=\"text-align: right;\">\n",
       "      <th></th>\n",
       "      <th>Open</th>\n",
       "      <th>High</th>\n",
       "      <th>Low</th>\n",
       "      <th>Close</th>\n",
       "      <th>Adj Close</th>\n",
       "      <th>Volume</th>\n",
       "      <th>tic</th>\n",
       "    </tr>\n",
       "    <tr>\n",
       "      <th>Date</th>\n",
       "      <th></th>\n",
       "      <th></th>\n",
       "      <th></th>\n",
       "      <th></th>\n",
       "      <th></th>\n",
       "      <th></th>\n",
       "      <th></th>\n",
       "    </tr>\n",
       "  </thead>\n",
       "  <tbody>\n",
       "    <tr>\n",
       "      <th>2009-01-02</th>\n",
       "      <td>3.067143</td>\n",
       "      <td>3.251429</td>\n",
       "      <td>3.041429</td>\n",
       "      <td>3.241071</td>\n",
       "      <td>2.800736</td>\n",
       "      <td>7.460152e+08</td>\n",
       "      <td>AAPL</td>\n",
       "    </tr>\n",
       "    <tr>\n",
       "      <th>2009-01-05</th>\n",
       "      <td>3.327500</td>\n",
       "      <td>3.435000</td>\n",
       "      <td>3.311071</td>\n",
       "      <td>3.377857</td>\n",
       "      <td>2.918938</td>\n",
       "      <td>1.181608e+09</td>\n",
       "      <td>AAPL</td>\n",
       "    </tr>\n",
       "    <tr>\n",
       "      <th>2009-01-06</th>\n",
       "      <td>3.426786</td>\n",
       "      <td>3.470357</td>\n",
       "      <td>3.299643</td>\n",
       "      <td>3.322143</td>\n",
       "      <td>2.870794</td>\n",
       "      <td>1.289310e+09</td>\n",
       "      <td>AAPL</td>\n",
       "    </tr>\n",
       "    <tr>\n",
       "      <th>2009-01-07</th>\n",
       "      <td>3.278929</td>\n",
       "      <td>3.303571</td>\n",
       "      <td>3.223572</td>\n",
       "      <td>3.250357</td>\n",
       "      <td>2.808761</td>\n",
       "      <td>7.530488e+08</td>\n",
       "      <td>AAPL</td>\n",
       "    </tr>\n",
       "    <tr>\n",
       "      <th>2009-01-08</th>\n",
       "      <td>3.229643</td>\n",
       "      <td>3.326786</td>\n",
       "      <td>3.215714</td>\n",
       "      <td>3.310714</td>\n",
       "      <td>2.860918</td>\n",
       "      <td>6.735008e+08</td>\n",
       "      <td>AAPL</td>\n",
       "    </tr>\n",
       "  </tbody>\n",
       "</table>\n",
       "</div>"
      ],
      "text/plain": [
       "                Open      High       Low  ...  Adj Close        Volume   tic\n",
       "Date                                      ...                               \n",
       "2009-01-02  3.067143  3.251429  3.041429  ...   2.800736  7.460152e+08  AAPL\n",
       "2009-01-05  3.327500  3.435000  3.311071  ...   2.918938  1.181608e+09  AAPL\n",
       "2009-01-06  3.426786  3.470357  3.299643  ...   2.870794  1.289310e+09  AAPL\n",
       "2009-01-07  3.278929  3.303571  3.223572  ...   2.808761  7.530488e+08  AAPL\n",
       "2009-01-08  3.229643  3.326786  3.215714  ...   2.860918  6.735008e+08  AAPL\n",
       "\n",
       "[5 rows x 7 columns]"
      ]
     },
     "execution_count": 21,
     "metadata": {
      "tags": []
     },
     "output_type": "execute_result"
    }
   ],
   "source": [
    "dow_30.head()"
   ]
  },
  {
   "cell_type": "code",
   "execution_count": 22,
   "metadata": {
    "id": "ji8k6gfth1h3"
   },
   "outputs": [],
   "source": [
    "# reset the index, we want to use numbers instead of dates\n",
    "dow_30=dow_30.reset_index()"
   ]
  },
  {
   "cell_type": "code",
   "execution_count": 23,
   "metadata": {
    "id": "SS2sZ4d_h1h6"
   },
   "outputs": [],
   "source": [
    "# convert the column names to standardized names\n",
    "dow_30.columns = ['datadate','open','high','low','close','adjcp','volume','tic']"
   ]
  },
  {
   "cell_type": "code",
   "execution_count": 24,
   "metadata": {
    "id": "QcFe8zF3h1h8"
   },
   "outputs": [],
   "source": [
    "# convert date to string format, easy to filter\n",
    "dow_30['datadate']=dow_30.datadate.apply(lambda x: x.strftime('%Y-%m-%d'))"
   ]
  },
  {
   "cell_type": "code",
   "execution_count": 25,
   "metadata": {
    "colab": {
     "base_uri": "https://localhost:8080/",
     "height": 204
    },
    "id": "f6kMMrDQh1h_",
    "outputId": "b5fca1a7-d250-4c2e-e611-19e61fac6106"
   },
   "outputs": [
    {
     "data": {
      "text/html": [
       "<div>\n",
       "<style scoped>\n",
       "    .dataframe tbody tr th:only-of-type {\n",
       "        vertical-align: middle;\n",
       "    }\n",
       "\n",
       "    .dataframe tbody tr th {\n",
       "        vertical-align: top;\n",
       "    }\n",
       "\n",
       "    .dataframe thead th {\n",
       "        text-align: right;\n",
       "    }\n",
       "</style>\n",
       "<table border=\"1\" class=\"dataframe\">\n",
       "  <thead>\n",
       "    <tr style=\"text-align: right;\">\n",
       "      <th></th>\n",
       "      <th>datadate</th>\n",
       "      <th>open</th>\n",
       "      <th>high</th>\n",
       "      <th>low</th>\n",
       "      <th>close</th>\n",
       "      <th>adjcp</th>\n",
       "      <th>volume</th>\n",
       "      <th>tic</th>\n",
       "    </tr>\n",
       "  </thead>\n",
       "  <tbody>\n",
       "    <tr>\n",
       "      <th>0</th>\n",
       "      <td>2009-01-02</td>\n",
       "      <td>3.067143</td>\n",
       "      <td>3.251429</td>\n",
       "      <td>3.041429</td>\n",
       "      <td>3.241071</td>\n",
       "      <td>2.800736</td>\n",
       "      <td>7.460152e+08</td>\n",
       "      <td>AAPL</td>\n",
       "    </tr>\n",
       "    <tr>\n",
       "      <th>1</th>\n",
       "      <td>2009-01-05</td>\n",
       "      <td>3.327500</td>\n",
       "      <td>3.435000</td>\n",
       "      <td>3.311071</td>\n",
       "      <td>3.377857</td>\n",
       "      <td>2.918938</td>\n",
       "      <td>1.181608e+09</td>\n",
       "      <td>AAPL</td>\n",
       "    </tr>\n",
       "    <tr>\n",
       "      <th>2</th>\n",
       "      <td>2009-01-06</td>\n",
       "      <td>3.426786</td>\n",
       "      <td>3.470357</td>\n",
       "      <td>3.299643</td>\n",
       "      <td>3.322143</td>\n",
       "      <td>2.870794</td>\n",
       "      <td>1.289310e+09</td>\n",
       "      <td>AAPL</td>\n",
       "    </tr>\n",
       "    <tr>\n",
       "      <th>3</th>\n",
       "      <td>2009-01-07</td>\n",
       "      <td>3.278929</td>\n",
       "      <td>3.303571</td>\n",
       "      <td>3.223572</td>\n",
       "      <td>3.250357</td>\n",
       "      <td>2.808761</td>\n",
       "      <td>7.530488e+08</td>\n",
       "      <td>AAPL</td>\n",
       "    </tr>\n",
       "    <tr>\n",
       "      <th>4</th>\n",
       "      <td>2009-01-08</td>\n",
       "      <td>3.229643</td>\n",
       "      <td>3.326786</td>\n",
       "      <td>3.215714</td>\n",
       "      <td>3.310714</td>\n",
       "      <td>2.860918</td>\n",
       "      <td>6.735008e+08</td>\n",
       "      <td>AAPL</td>\n",
       "    </tr>\n",
       "  </tbody>\n",
       "</table>\n",
       "</div>"
      ],
      "text/plain": [
       "     datadate      open      high  ...     adjcp        volume   tic\n",
       "0  2009-01-02  3.067143  3.251429  ...  2.800736  7.460152e+08  AAPL\n",
       "1  2009-01-05  3.327500  3.435000  ...  2.918938  1.181608e+09  AAPL\n",
       "2  2009-01-06  3.426786  3.470357  ...  2.870794  1.289310e+09  AAPL\n",
       "3  2009-01-07  3.278929  3.303571  ...  2.808761  7.530488e+08  AAPL\n",
       "4  2009-01-08  3.229643  3.326786  ...  2.860918  6.735008e+08  AAPL\n",
       "\n",
       "[5 rows x 8 columns]"
      ]
     },
     "execution_count": 25,
     "metadata": {
      "tags": []
     },
     "output_type": "execute_result"
    }
   ],
   "source": [
    "dow_30.head()"
   ]
  },
  {
   "cell_type": "code",
   "execution_count": 26,
   "metadata": {
    "colab": {
     "base_uri": "https://localhost:8080/"
    },
    "id": "kti5dQvBh1iE",
    "outputId": "84132b12-ef9f-4a96-d11b-8855912cffff"
   },
   "outputs": [
    {
     "data": {
      "text/plain": [
       "(89191, 8)"
      ]
     },
     "execution_count": 26,
     "metadata": {
      "tags": []
     },
     "output_type": "execute_result"
    }
   ],
   "source": [
    "dow_30.shape"
   ]
  },
  {
   "cell_type": "markdown",
   "metadata": {
    "id": "uqC6c40Zh1iH"
   },
   "source": [
    "# Part 2: Preprocess Data\n",
    "Data preprocessing is a crucial step for training a high quality machine learning model. We need to check for missing data and do feature engineering in order to convert the data into a model-ready state."
   ]
  },
  {
   "cell_type": "markdown",
   "metadata": {
    "id": "sJ-n0ZnPh1iH"
   },
   "source": [
    "## Check missing data"
   ]
  },
  {
   "cell_type": "code",
   "execution_count": 27,
   "metadata": {
    "colab": {
     "base_uri": "https://localhost:8080/"
    },
    "id": "Le342Hc1h1iI",
    "outputId": "04c21ab8-82cf-420d-f422-95b96880fe6d"
   },
   "outputs": [
    {
     "data": {
      "text/plain": [
       "True"
      ]
     },
     "execution_count": 27,
     "metadata": {
      "tags": []
     },
     "output_type": "execute_result"
    }
   ],
   "source": [
    "# check missing data \n",
    "dow_30.isnull().values.any()"
   ]
  },
  {
   "cell_type": "code",
   "execution_count": 28,
   "metadata": {
    "id": "7j4KFI3Uh1iK"
   },
   "outputs": [],
   "source": [
    "dow_30=dow_30.dropna()"
   ]
  },
  {
   "cell_type": "code",
   "execution_count": 29,
   "metadata": {
    "colab": {
     "base_uri": "https://localhost:8080/"
    },
    "id": "ShFsAjbjitOU",
    "outputId": "a256317a-79e3-457c-8589-0f7b06596141"
   },
   "outputs": [
    {
     "data": {
      "text/plain": [
       "GS      2973\n",
       "CVX     2973\n",
       "WBA     2973\n",
       "INTC    2973\n",
       "PFE     2973\n",
       "HD      2973\n",
       "CAT     2973\n",
       "DIS     2973\n",
       "RTX     2973\n",
       "IBM     2973\n",
       "DD      2973\n",
       "NKE     2973\n",
       "MCD     2973\n",
       "CSCO    2973\n",
       "PG      2973\n",
       "JPM     2973\n",
       "AAPL    2973\n",
       "VZ      2973\n",
       "MSFT    2973\n",
       "MRK     2973\n",
       "XOM     2973\n",
       "AXP     2973\n",
       "BA      2973\n",
       "V       2973\n",
       "MMM     2973\n",
       "JNJ     2973\n",
       "UNH     2973\n",
       "TRV     2973\n",
       "WMT     2973\n",
       "KO      2973\n",
       "Name: tic, dtype: int64"
      ]
     },
     "execution_count": 29,
     "metadata": {
      "tags": []
     },
     "output_type": "execute_result"
    }
   ],
   "source": [
    "dow_30.tic.value_counts()"
   ]
  },
  {
   "cell_type": "code",
   "execution_count": 30,
   "metadata": {
    "colab": {
     "base_uri": "https://localhost:8080/"
    },
    "id": "WAjH-SPOh1iN",
    "outputId": "962f9589-8e7a-4a4b-9b6c-62666a0fcd0f"
   },
   "outputs": [
    {
     "data": {
      "text/plain": [
       "False"
      ]
     },
     "execution_count": 30,
     "metadata": {
      "tags": []
     },
     "output_type": "execute_result"
    }
   ],
   "source": [
    "# check missing data \n",
    "dow_30.isnull().values.any()"
   ]
  },
  {
   "cell_type": "markdown",
   "metadata": {
    "id": "zNm1eCFRh1iP"
   },
   "source": [
    "## Add technical indicators\n",
    "In practical trading, various information needs to be taken into account, for example the historical stock prices, current holding shares, technical indicators, etc. In this article, we demonstrate two trend-following technical indicators: MACD and RSI."
   ]
  },
  {
   "cell_type": "code",
   "execution_count": 31,
   "metadata": {
    "id": "zHKY4sGxh1iQ"
   },
   "outputs": [],
   "source": [
    "def add_technical_indicator(df):\n",
    "        \"\"\"\n",
    "        calcualte technical indicators\n",
    "        use stockstats package to add technical inidactors\n",
    "        :param data: (df) pandas dataframe\n",
    "        :return: (df) pandas dataframe\n",
    "        \"\"\"\n",
    "        stock = Sdf.retype(df.copy())\n",
    "        stock['close'] = stock['adjcp']\n",
    "        unique_ticker = stock.tic.unique()\n",
    "\n",
    "        macd = pd.DataFrame()\n",
    "        rsi = pd.DataFrame()\n",
    "\n",
    "        #temp = stock[stock.tic == unique_ticker[0]]['macd']\n",
    "        for i in range(len(unique_ticker)):\n",
    "            ## macd\n",
    "            temp_macd = stock[stock.tic == unique_ticker[i]]['macd']\n",
    "            temp_macd = pd.DataFrame(temp_macd)\n",
    "            macd = macd.append(temp_macd, ignore_index=True)\n",
    "            ## rsi\n",
    "            temp_rsi = stock[stock.tic == unique_ticker[i]]['rsi_30']\n",
    "            temp_rsi = pd.DataFrame(temp_rsi)\n",
    "            rsi = rsi.append(temp_rsi, ignore_index=True)\n",
    "\n",
    "        df['macd'] = macd\n",
    "        df['rsi'] = rsi\n",
    "        return df"
   ]
  },
  {
   "cell_type": "code",
   "execution_count": 32,
   "metadata": {
    "id": "WpVbCOz9h1iS",
    "scrolled": true
   },
   "outputs": [],
   "source": [
    "dow_30 = add_technical_indicator(dow_30)"
   ]
  },
  {
   "cell_type": "code",
   "execution_count": 33,
   "metadata": {
    "colab": {
     "base_uri": "https://localhost:8080/"
    },
    "id": "58lmCFfHh1iU",
    "outputId": "09491ed3-a6a7-4322-ba27-bcc7d6165745"
   },
   "outputs": [
    {
     "data": {
      "text/plain": [
       "(89190, 10)"
      ]
     },
     "execution_count": 33,
     "metadata": {
      "tags": []
     },
     "output_type": "execute_result"
    }
   ],
   "source": [
    "dow_30.shape\n"
   ]
  },
  {
   "cell_type": "code",
   "execution_count": 34,
   "metadata": {
    "colab": {
     "base_uri": "https://localhost:8080/",
     "height": 204
    },
    "id": "waMYQ2Xrh1iX",
    "outputId": "fe3d565e-d82d-40f5-9015-799aeabd1c96"
   },
   "outputs": [
    {
     "data": {
      "text/html": [
       "<div>\n",
       "<style scoped>\n",
       "    .dataframe tbody tr th:only-of-type {\n",
       "        vertical-align: middle;\n",
       "    }\n",
       "\n",
       "    .dataframe tbody tr th {\n",
       "        vertical-align: top;\n",
       "    }\n",
       "\n",
       "    .dataframe thead th {\n",
       "        text-align: right;\n",
       "    }\n",
       "</style>\n",
       "<table border=\"1\" class=\"dataframe\">\n",
       "  <thead>\n",
       "    <tr style=\"text-align: right;\">\n",
       "      <th></th>\n",
       "      <th>datadate</th>\n",
       "      <th>open</th>\n",
       "      <th>high</th>\n",
       "      <th>low</th>\n",
       "      <th>close</th>\n",
       "      <th>adjcp</th>\n",
       "      <th>volume</th>\n",
       "      <th>tic</th>\n",
       "      <th>macd</th>\n",
       "      <th>rsi</th>\n",
       "    </tr>\n",
       "  </thead>\n",
       "  <tbody>\n",
       "    <tr>\n",
       "      <th>0</th>\n",
       "      <td>2009-01-02</td>\n",
       "      <td>3.067143</td>\n",
       "      <td>3.251429</td>\n",
       "      <td>3.041429</td>\n",
       "      <td>3.241071</td>\n",
       "      <td>2.800736</td>\n",
       "      <td>7.460152e+08</td>\n",
       "      <td>AAPL</td>\n",
       "      <td>0.000000</td>\n",
       "      <td>NaN</td>\n",
       "    </tr>\n",
       "    <tr>\n",
       "      <th>1</th>\n",
       "      <td>2009-01-05</td>\n",
       "      <td>3.327500</td>\n",
       "      <td>3.435000</td>\n",
       "      <td>3.311071</td>\n",
       "      <td>3.377857</td>\n",
       "      <td>2.918938</td>\n",
       "      <td>1.181608e+09</td>\n",
       "      <td>AAPL</td>\n",
       "      <td>0.002652</td>\n",
       "      <td>100.000000</td>\n",
       "    </tr>\n",
       "    <tr>\n",
       "      <th>2</th>\n",
       "      <td>2009-01-06</td>\n",
       "      <td>3.426786</td>\n",
       "      <td>3.470357</td>\n",
       "      <td>3.299643</td>\n",
       "      <td>3.322143</td>\n",
       "      <td>2.870794</td>\n",
       "      <td>1.289310e+09</td>\n",
       "      <td>AAPL</td>\n",
       "      <td>0.001886</td>\n",
       "      <td>70.355404</td>\n",
       "    </tr>\n",
       "    <tr>\n",
       "      <th>3</th>\n",
       "      <td>2009-01-07</td>\n",
       "      <td>3.278929</td>\n",
       "      <td>3.303571</td>\n",
       "      <td>3.223572</td>\n",
       "      <td>3.250357</td>\n",
       "      <td>2.808761</td>\n",
       "      <td>7.530488e+08</td>\n",
       "      <td>AAPL</td>\n",
       "      <td>-0.000748</td>\n",
       "      <td>50.429229</td>\n",
       "    </tr>\n",
       "    <tr>\n",
       "      <th>4</th>\n",
       "      <td>2009-01-08</td>\n",
       "      <td>3.229643</td>\n",
       "      <td>3.326786</td>\n",
       "      <td>3.215714</td>\n",
       "      <td>3.310714</td>\n",
       "      <td>2.860918</td>\n",
       "      <td>6.735008e+08</td>\n",
       "      <td>AAPL</td>\n",
       "      <td>-0.000088</td>\n",
       "      <td>60.227008</td>\n",
       "    </tr>\n",
       "  </tbody>\n",
       "</table>\n",
       "</div>"
      ],
      "text/plain": [
       "     datadate      open      high  ...   tic      macd         rsi\n",
       "0  2009-01-02  3.067143  3.251429  ...  AAPL  0.000000         NaN\n",
       "1  2009-01-05  3.327500  3.435000  ...  AAPL  0.002652  100.000000\n",
       "2  2009-01-06  3.426786  3.470357  ...  AAPL  0.001886   70.355404\n",
       "3  2009-01-07  3.278929  3.303571  ...  AAPL -0.000748   50.429229\n",
       "4  2009-01-08  3.229643  3.326786  ...  AAPL -0.000088   60.227008\n",
       "\n",
       "[5 rows x 10 columns]"
      ]
     },
     "execution_count": 34,
     "metadata": {
      "tags": []
     },
     "output_type": "execute_result"
    }
   ],
   "source": [
    "dow_30.head()"
   ]
  },
  {
   "cell_type": "code",
   "execution_count": 35,
   "metadata": {
    "colab": {
     "base_uri": "https://localhost:8080/",
     "height": 204
    },
    "id": "XnSmCG5Kh1iZ",
    "outputId": "6e8ec43d-09c4-4fc1-909b-ca9fc257cdc7"
   },
   "outputs": [
    {
     "data": {
      "text/html": [
       "<div>\n",
       "<style scoped>\n",
       "    .dataframe tbody tr th:only-of-type {\n",
       "        vertical-align: middle;\n",
       "    }\n",
       "\n",
       "    .dataframe tbody tr th {\n",
       "        vertical-align: top;\n",
       "    }\n",
       "\n",
       "    .dataframe thead th {\n",
       "        text-align: right;\n",
       "    }\n",
       "</style>\n",
       "<table border=\"1\" class=\"dataframe\">\n",
       "  <thead>\n",
       "    <tr style=\"text-align: right;\">\n",
       "      <th></th>\n",
       "      <th>datadate</th>\n",
       "      <th>open</th>\n",
       "      <th>high</th>\n",
       "      <th>low</th>\n",
       "      <th>close</th>\n",
       "      <th>adjcp</th>\n",
       "      <th>volume</th>\n",
       "      <th>tic</th>\n",
       "      <th>macd</th>\n",
       "      <th>rsi</th>\n",
       "    </tr>\n",
       "  </thead>\n",
       "  <tbody>\n",
       "    <tr>\n",
       "      <th>89186</th>\n",
       "      <td>2020-10-16</td>\n",
       "      <td>59.450001</td>\n",
       "      <td>59.939999</td>\n",
       "      <td>58.930000</td>\n",
       "      <td>59.169998</td>\n",
       "      <td>59.169998</td>\n",
       "      <td>2805300.0</td>\n",
       "      <td>DD</td>\n",
       "      <td>0.578837</td>\n",
       "      <td>54.004849</td>\n",
       "    </tr>\n",
       "    <tr>\n",
       "      <th>89187</th>\n",
       "      <td>2020-10-19</td>\n",
       "      <td>59.349998</td>\n",
       "      <td>60.209999</td>\n",
       "      <td>58.209999</td>\n",
       "      <td>58.439999</td>\n",
       "      <td>58.439999</td>\n",
       "      <td>3827900.0</td>\n",
       "      <td>DD</td>\n",
       "      <td>0.642528</td>\n",
       "      <td>55.825745</td>\n",
       "    </tr>\n",
       "    <tr>\n",
       "      <th>89188</th>\n",
       "      <td>2020-10-20</td>\n",
       "      <td>58.680000</td>\n",
       "      <td>60.099998</td>\n",
       "      <td>58.549999</td>\n",
       "      <td>59.480000</td>\n",
       "      <td>59.480000</td>\n",
       "      <td>3722700.0</td>\n",
       "      <td>DD</td>\n",
       "      <td>0.619692</td>\n",
       "      <td>54.079485</td>\n",
       "    </tr>\n",
       "    <tr>\n",
       "      <th>89189</th>\n",
       "      <td>2020-10-21</td>\n",
       "      <td>59.160000</td>\n",
       "      <td>60.070000</td>\n",
       "      <td>58.570000</td>\n",
       "      <td>58.660000</td>\n",
       "      <td>58.660000</td>\n",
       "      <td>4201800.0</td>\n",
       "      <td>DD</td>\n",
       "      <td>0.660152</td>\n",
       "      <td>55.518858</td>\n",
       "    </tr>\n",
       "    <tr>\n",
       "      <th>89190</th>\n",
       "      <td>2020-10-22</td>\n",
       "      <td>58.910000</td>\n",
       "      <td>59.619999</td>\n",
       "      <td>58.250000</td>\n",
       "      <td>59.480000</td>\n",
       "      <td>59.480000</td>\n",
       "      <td>2977100.0</td>\n",
       "      <td>DD</td>\n",
       "      <td>NaN</td>\n",
       "      <td>NaN</td>\n",
       "    </tr>\n",
       "  </tbody>\n",
       "</table>\n",
       "</div>"
      ],
      "text/plain": [
       "         datadate       open       high  ...  tic      macd        rsi\n",
       "89186  2020-10-16  59.450001  59.939999  ...   DD  0.578837  54.004849\n",
       "89187  2020-10-19  59.349998  60.209999  ...   DD  0.642528  55.825745\n",
       "89188  2020-10-20  58.680000  60.099998  ...   DD  0.619692  54.079485\n",
       "89189  2020-10-21  59.160000  60.070000  ...   DD  0.660152  55.518858\n",
       "89190  2020-10-22  58.910000  59.619999  ...   DD       NaN        NaN\n",
       "\n",
       "[5 rows x 10 columns]"
      ]
     },
     "execution_count": 35,
     "metadata": {
      "tags": []
     },
     "output_type": "execute_result"
    }
   ],
   "source": [
    "dow_30.tail()"
   ]
  },
  {
   "cell_type": "code",
   "execution_count": 36,
   "metadata": {
    "colab": {
     "base_uri": "https://localhost:8080/"
    },
    "id": "D1w15h8Fh1ib",
    "outputId": "9aa83ba3-9668-4270-e645-b57834142b5c"
   },
   "outputs": [
    {
     "data": {
      "text/plain": [
       "True"
      ]
     },
     "execution_count": 36,
     "metadata": {
      "tags": []
     },
     "output_type": "execute_result"
    }
   ],
   "source": [
    "# check missing data \n",
    "dow_30.isnull().values.any()"
   ]
  },
  {
   "cell_type": "code",
   "execution_count": 37,
   "metadata": {
    "colab": {
     "base_uri": "https://localhost:8080/"
    },
    "id": "tez5y38xh1ie",
    "outputId": "ccf8f34f-82fb-4746-8a75-c6751f98184f"
   },
   "outputs": [
    {
     "data": {
      "text/plain": [
       "datadate    False\n",
       "open        False\n",
       "high        False\n",
       "low         False\n",
       "close       False\n",
       "adjcp       False\n",
       "volume      False\n",
       "tic         False\n",
       "macd         True\n",
       "rsi          True\n",
       "dtype: bool"
      ]
     },
     "execution_count": 37,
     "metadata": {
      "tags": []
     },
     "output_type": "execute_result"
    }
   ],
   "source": [
    "dow_30.isna().any()"
   ]
  },
  {
   "cell_type": "code",
   "execution_count": 38,
   "metadata": {
    "id": "Wx0xF6O7h1ig"
   },
   "outputs": [],
   "source": [
    "# fill missing data with forward filling and backward filling\n",
    "dow_30=dow_30.fillna(method='ffill')\n",
    "dow_30=dow_30.fillna(method='bfill')\n"
   ]
  },
  {
   "cell_type": "code",
   "execution_count": 39,
   "metadata": {
    "colab": {
     "base_uri": "https://localhost:8080/"
    },
    "id": "9uLP0bqzh1ii",
    "outputId": "f7e56709-f31b-49ae-f78b-4d75b60bf615"
   },
   "outputs": [
    {
     "data": {
      "text/plain": [
       "False"
      ]
     },
     "execution_count": 39,
     "metadata": {
      "tags": []
     },
     "output_type": "execute_result"
    }
   ],
   "source": [
    "# check missing data \n",
    "dow_30.isnull().values.any()"
   ]
  },
  {
   "cell_type": "code",
   "execution_count": 40,
   "metadata": {
    "colab": {
     "base_uri": "https://localhost:8080/",
     "height": 204
    },
    "id": "4qyebQGAh1ik",
    "outputId": "41878124-17cd-468f-e732-49b1bbf0a695"
   },
   "outputs": [
    {
     "data": {
      "text/html": [
       "<div>\n",
       "<style scoped>\n",
       "    .dataframe tbody tr th:only-of-type {\n",
       "        vertical-align: middle;\n",
       "    }\n",
       "\n",
       "    .dataframe tbody tr th {\n",
       "        vertical-align: top;\n",
       "    }\n",
       "\n",
       "    .dataframe thead th {\n",
       "        text-align: right;\n",
       "    }\n",
       "</style>\n",
       "<table border=\"1\" class=\"dataframe\">\n",
       "  <thead>\n",
       "    <tr style=\"text-align: right;\">\n",
       "      <th></th>\n",
       "      <th>datadate</th>\n",
       "      <th>open</th>\n",
       "      <th>high</th>\n",
       "      <th>low</th>\n",
       "      <th>close</th>\n",
       "      <th>adjcp</th>\n",
       "      <th>volume</th>\n",
       "      <th>tic</th>\n",
       "      <th>macd</th>\n",
       "      <th>rsi</th>\n",
       "    </tr>\n",
       "  </thead>\n",
       "  <tbody>\n",
       "    <tr>\n",
       "      <th>89186</th>\n",
       "      <td>2020-10-16</td>\n",
       "      <td>59.450001</td>\n",
       "      <td>59.939999</td>\n",
       "      <td>58.930000</td>\n",
       "      <td>59.169998</td>\n",
       "      <td>59.169998</td>\n",
       "      <td>2805300.0</td>\n",
       "      <td>DD</td>\n",
       "      <td>0.578837</td>\n",
       "      <td>54.004849</td>\n",
       "    </tr>\n",
       "    <tr>\n",
       "      <th>89187</th>\n",
       "      <td>2020-10-19</td>\n",
       "      <td>59.349998</td>\n",
       "      <td>60.209999</td>\n",
       "      <td>58.209999</td>\n",
       "      <td>58.439999</td>\n",
       "      <td>58.439999</td>\n",
       "      <td>3827900.0</td>\n",
       "      <td>DD</td>\n",
       "      <td>0.642528</td>\n",
       "      <td>55.825745</td>\n",
       "    </tr>\n",
       "    <tr>\n",
       "      <th>89188</th>\n",
       "      <td>2020-10-20</td>\n",
       "      <td>58.680000</td>\n",
       "      <td>60.099998</td>\n",
       "      <td>58.549999</td>\n",
       "      <td>59.480000</td>\n",
       "      <td>59.480000</td>\n",
       "      <td>3722700.0</td>\n",
       "      <td>DD</td>\n",
       "      <td>0.619692</td>\n",
       "      <td>54.079485</td>\n",
       "    </tr>\n",
       "    <tr>\n",
       "      <th>89189</th>\n",
       "      <td>2020-10-21</td>\n",
       "      <td>59.160000</td>\n",
       "      <td>60.070000</td>\n",
       "      <td>58.570000</td>\n",
       "      <td>58.660000</td>\n",
       "      <td>58.660000</td>\n",
       "      <td>4201800.0</td>\n",
       "      <td>DD</td>\n",
       "      <td>0.660152</td>\n",
       "      <td>55.518858</td>\n",
       "    </tr>\n",
       "    <tr>\n",
       "      <th>89190</th>\n",
       "      <td>2020-10-22</td>\n",
       "      <td>58.910000</td>\n",
       "      <td>59.619999</td>\n",
       "      <td>58.250000</td>\n",
       "      <td>59.480000</td>\n",
       "      <td>59.480000</td>\n",
       "      <td>2977100.0</td>\n",
       "      <td>DD</td>\n",
       "      <td>0.660152</td>\n",
       "      <td>55.518858</td>\n",
       "    </tr>\n",
       "  </tbody>\n",
       "</table>\n",
       "</div>"
      ],
      "text/plain": [
       "         datadate       open       high  ...  tic      macd        rsi\n",
       "89186  2020-10-16  59.450001  59.939999  ...   DD  0.578837  54.004849\n",
       "89187  2020-10-19  59.349998  60.209999  ...   DD  0.642528  55.825745\n",
       "89188  2020-10-20  58.680000  60.099998  ...   DD  0.619692  54.079485\n",
       "89189  2020-10-21  59.160000  60.070000  ...   DD  0.660152  55.518858\n",
       "89190  2020-10-22  58.910000  59.619999  ...   DD  0.660152  55.518858\n",
       "\n",
       "[5 rows x 10 columns]"
      ]
     },
     "execution_count": 40,
     "metadata": {
      "tags": []
     },
     "output_type": "execute_result"
    }
   ],
   "source": [
    "dow_30.tail()"
   ]
  },
  {
   "cell_type": "markdown",
   "metadata": {
    "id": "qL4wcaT-h1im"
   },
   "source": [
    "## Add turbulence index\n",
    "Risk-aversion reflects whether an investor will choose to preserve the capital. It also influences one's trading strategy when facing different market volatility level.\n",
    "\n",
    "To control the risk in a worst-case scenario, such as financial crisis of 2007–2008, FinRL employs the financial turbulence index that measures extreme asset price fluctuation."
   ]
  },
  {
   "cell_type": "code",
   "execution_count": 41,
   "metadata": {
    "id": "70-XFED3h1in"
   },
   "outputs": [],
   "source": [
    "def add_turbulence(df):\n",
    "    \"\"\"\n",
    "    add turbulence index from a precalcualted dataframe\n",
    "    :param data: (df) pandas dataframe\n",
    "    :return: (df) pandas dataframe\n",
    "    \"\"\"\n",
    "    turbulence_index = calcualte_turbulence(df)\n",
    "    df = df.merge(turbulence_index, on='datadate')\n",
    "    df = df.sort_values(['datadate','tic']).reset_index(drop=True)\n",
    "    return df\n",
    "\n",
    "\n",
    "\n",
    "def calcualte_turbulence(df):\n",
    "    \"\"\"calculate turbulence index based on dow 30\"\"\"\n",
    "    # can add other market assets\n",
    "    \n",
    "    df_price_pivot=df.pivot(index='datadate', columns='tic', values='adjcp')\n",
    "    unique_date = df.datadate.unique()\n",
    "    # start after a year\n",
    "    start = 252\n",
    "    turbulence_index = [0]*start\n",
    "    #turbulence_index = [0]\n",
    "    count=0\n",
    "    for i in range(start,len(unique_date)):\n",
    "        current_price = df_price_pivot[df_price_pivot.index == unique_date[i]]\n",
    "        hist_price = df_price_pivot[[n in unique_date[0:i] for n in df_price_pivot.index ]]\n",
    "        cov_temp = hist_price.cov()\n",
    "        current_temp=(current_price - np.mean(hist_price,axis=0))\n",
    "        temp = current_temp.values.dot(np.linalg.inv(cov_temp)).dot(current_temp.values.T)\n",
    "        if temp>0:\n",
    "            count+=1\n",
    "            if count>2:\n",
    "                turbulence_temp = temp[0][0]\n",
    "            else:\n",
    "                #avoid large outlier because of the calculation just begins\n",
    "                turbulence_temp=0\n",
    "        else:\n",
    "            turbulence_temp=0\n",
    "        turbulence_index.append(turbulence_temp)\n",
    "    \n",
    "    \n",
    "    turbulence_index = pd.DataFrame({'datadate':df_price_pivot.index,\n",
    "                                     'turbulence':turbulence_index})\n",
    "    return turbulence_index"
   ]
  },
  {
   "cell_type": "code",
   "execution_count": 42,
   "metadata": {
    "id": "JsVF4J6wh1ip"
   },
   "outputs": [],
   "source": [
    "## took about 8 mins to finish\n",
    "dow_30 = add_turbulence(dow_30)"
   ]
  },
  {
   "cell_type": "code",
   "execution_count": 45,
   "metadata": {
    "colab": {
     "base_uri": "https://localhost:8080/"
    },
    "id": "HJJPCm7kh1ir",
    "outputId": "a4e5583f-074a-42db-bc8d-910c02f516eb"
   },
   "outputs": [
    {
     "data": {
      "text/plain": [
       "(89190, 11)"
      ]
     },
     "execution_count": 45,
     "metadata": {
      "tags": []
     },
     "output_type": "execute_result"
    }
   ],
   "source": [
    "dow_30.shape"
   ]
  },
  {
   "cell_type": "code",
   "execution_count": 46,
   "metadata": {
    "colab": {
     "base_uri": "https://localhost:8080/",
     "height": 204
    },
    "id": "Fl82W2rDh1it",
    "outputId": "ffcd8fd6-58f7-4c21-f22c-273f9d3ddf83"
   },
   "outputs": [
    {
     "data": {
      "text/html": [
       "<div>\n",
       "<style scoped>\n",
       "    .dataframe tbody tr th:only-of-type {\n",
       "        vertical-align: middle;\n",
       "    }\n",
       "\n",
       "    .dataframe tbody tr th {\n",
       "        vertical-align: top;\n",
       "    }\n",
       "\n",
       "    .dataframe thead th {\n",
       "        text-align: right;\n",
       "    }\n",
       "</style>\n",
       "<table border=\"1\" class=\"dataframe\">\n",
       "  <thead>\n",
       "    <tr style=\"text-align: right;\">\n",
       "      <th></th>\n",
       "      <th>datadate</th>\n",
       "      <th>open</th>\n",
       "      <th>high</th>\n",
       "      <th>low</th>\n",
       "      <th>close</th>\n",
       "      <th>adjcp</th>\n",
       "      <th>volume</th>\n",
       "      <th>tic</th>\n",
       "      <th>macd</th>\n",
       "      <th>rsi</th>\n",
       "      <th>turbulence</th>\n",
       "    </tr>\n",
       "  </thead>\n",
       "  <tbody>\n",
       "    <tr>\n",
       "      <th>0</th>\n",
       "      <td>2009-01-02</td>\n",
       "      <td>3.067143</td>\n",
       "      <td>3.251429</td>\n",
       "      <td>3.041429</td>\n",
       "      <td>3.241071</td>\n",
       "      <td>2.800736</td>\n",
       "      <td>746015200.0</td>\n",
       "      <td>AAPL</td>\n",
       "      <td>0.000000</td>\n",
       "      <td>100.000000</td>\n",
       "      <td>0.0</td>\n",
       "    </tr>\n",
       "    <tr>\n",
       "      <th>1</th>\n",
       "      <td>2009-01-02</td>\n",
       "      <td>18.570000</td>\n",
       "      <td>19.520000</td>\n",
       "      <td>18.400000</td>\n",
       "      <td>19.330000</td>\n",
       "      <td>15.800624</td>\n",
       "      <td>10955700.0</td>\n",
       "      <td>AXP</td>\n",
       "      <td>0.000000</td>\n",
       "      <td>52.253831</td>\n",
       "      <td>0.0</td>\n",
       "    </tr>\n",
       "    <tr>\n",
       "      <th>2</th>\n",
       "      <td>2009-01-02</td>\n",
       "      <td>42.799999</td>\n",
       "      <td>45.560001</td>\n",
       "      <td>42.779999</td>\n",
       "      <td>45.250000</td>\n",
       "      <td>33.680935</td>\n",
       "      <td>7010200.0</td>\n",
       "      <td>BA</td>\n",
       "      <td>0.015364</td>\n",
       "      <td>100.000000</td>\n",
       "      <td>0.0</td>\n",
       "    </tr>\n",
       "    <tr>\n",
       "      <th>3</th>\n",
       "      <td>2009-01-02</td>\n",
       "      <td>44.910000</td>\n",
       "      <td>46.980000</td>\n",
       "      <td>44.709999</td>\n",
       "      <td>46.910000</td>\n",
       "      <td>32.514400</td>\n",
       "      <td>7117200.0</td>\n",
       "      <td>CAT</td>\n",
       "      <td>0.000000</td>\n",
       "      <td>55.913739</td>\n",
       "      <td>0.0</td>\n",
       "    </tr>\n",
       "    <tr>\n",
       "      <th>4</th>\n",
       "      <td>2009-01-02</td>\n",
       "      <td>16.410000</td>\n",
       "      <td>17.000000</td>\n",
       "      <td>16.250000</td>\n",
       "      <td>16.959999</td>\n",
       "      <td>12.786087</td>\n",
       "      <td>40980600.0</td>\n",
       "      <td>CSCO</td>\n",
       "      <td>0.002537</td>\n",
       "      <td>100.000000</td>\n",
       "      <td>0.0</td>\n",
       "    </tr>\n",
       "  </tbody>\n",
       "</table>\n",
       "</div>"
      ],
      "text/plain": [
       "     datadate       open       high  ...      macd         rsi  turbulence\n",
       "0  2009-01-02   3.067143   3.251429  ...  0.000000  100.000000         0.0\n",
       "1  2009-01-02  18.570000  19.520000  ...  0.000000   52.253831         0.0\n",
       "2  2009-01-02  42.799999  45.560001  ...  0.015364  100.000000         0.0\n",
       "3  2009-01-02  44.910000  46.980000  ...  0.000000   55.913739         0.0\n",
       "4  2009-01-02  16.410000  17.000000  ...  0.002537  100.000000         0.0\n",
       "\n",
       "[5 rows x 11 columns]"
      ]
     },
     "execution_count": 46,
     "metadata": {
      "tags": []
     },
     "output_type": "execute_result"
    }
   ],
   "source": [
    "dow_30.head()"
   ]
  },
  {
   "cell_type": "markdown",
   "metadata": {
    "id": "-QsYaY0Dh1iw"
   },
   "source": [
    "# Part 3: Design Environment\n",
    "Considering the stochastic and interactive nature of the automated stock trading tasks, a financial task is modeled as a Markov Decision Process (MDP) problem. The training process involves observing stock price change, taking an action and reward's calculation to have the agent adjusting its strategy accordingly. By interacting with the environment, the trading agent will derive a trading strategy with the maximized rewards as time proceeds.\n",
    "\n",
    "Our trading environments, based on OpenAI Gym framework, simulate live stock markets with real market data according to the principle of time-driven simulation.\n",
    "\n",
    "The action space describes the allowed actions that the agent interacts with the environment. Normally, action a includes three actions: {-1, 0, 1}, where -1, 0, 1 represent selling, holding, and buying one share. Also, an action can be carried upon multiple shares. We use an action space {-k,…,-1, 0, 1, …, k}, where k denotes the number of shares to buy and -k denotes the number of shares to sell. For example, \"Buy 10 shares of AAPL\" or \"Sell 10 shares of AAPL\" are 10 or -10, respectively. The continuous action space needs to be normalized to [-1, 1], since the policy is defined on a Gaussian distribution, which needs to be normalized and symmetric."
   ]
  },
  {
   "cell_type": "markdown",
   "metadata": {
    "id": "64EoqOrQjiVf"
   },
   "source": [
    "## Environment for Training\n",
    "\n"
   ]
  },
  {
   "cell_type": "code",
   "execution_count": 56,
   "metadata": {
    "id": "aUjpqDVxjgmI"
   },
   "outputs": [],
   "source": [
    "## Environment for Training\n",
    "import numpy as np\n",
    "import pandas as pd\n",
    "from gym.utils import seeding\n",
    "import gym\n",
    "from gym import spaces\n",
    "import matplotlib\n",
    "matplotlib.use('Agg')\n",
    "import matplotlib.pyplot as plt\n",
    "\n",
    "# shares normalization factor\n",
    "# 100 shares per trade\n",
    "HMAX_NORMALIZE = 100\n",
    "# initial amount of money we have in our account\n",
    "INITIAL_ACCOUNT_BALANCE=1000000\n",
    "# total number of stocks in our portfolio\n",
    "STOCK_DIM = 30\n",
    "# transaction fee: 1/1000 reasonable percentage\n",
    "TRANSACTION_FEE_PERCENT = 0.001\n",
    "\n",
    "REWARD_SCALING = 1e-4\n",
    "\n",
    "\n",
    "class StockEnvTrain(gym.Env):\n",
    "    \"\"\"A stock trading environment for OpenAI gym\"\"\"\n",
    "    metadata = {'render.modes': ['human']}\n",
    "\n",
    "    def __init__(self, df,day = 0):\n",
    "        #super(StockEnv, self).__init__()\n",
    "        self.day = day\n",
    "        self.df = df\n",
    "\n",
    "        # action_space normalization and shape is STOCK_DIM\n",
    "        self.action_space = spaces.Box(low = -1, high = 1,shape = (STOCK_DIM,)) \n",
    "        # Shape = 181: [Current Balance]+[prices 1-30]+[owned shares 1-30] \n",
    "        # +[macd 1-30]+ [rsi 1-30] + [cci 1-30] + [adx 1-30]\n",
    "        self.observation_space = spaces.Box(low=0, high=np.inf, shape = (121,))\n",
    "        # load data from a pandas dataframe\n",
    "        self.data = self.df.loc[self.day,:]\n",
    "        self.terminal = False             \n",
    "        # initalize state\n",
    "        self.state = [INITIAL_ACCOUNT_BALANCE] + \\\n",
    "                      self.data.adjcp.values.tolist() + \\\n",
    "                      [0]*STOCK_DIM + \\\n",
    "                      self.data.macd.values.tolist() + \\\n",
    "                      self.data.rsi.values.tolist()\n",
    "                      #self.data.cci.values.tolist() + \\\n",
    "                      #self.data.adx.values.tolist()\n",
    "        # initialize reward\n",
    "        self.reward = 0\n",
    "        self.cost = 0\n",
    "        # memorize all the total balance change\n",
    "        self.asset_memory = [INITIAL_ACCOUNT_BALANCE]\n",
    "        self.rewards_memory = []\n",
    "        self.trades = 0\n",
    "        self._seed()\n",
    "\n",
    "    def _sell_stock(self, index, action):\n",
    "        # perform sell action based on the sign of the action\n",
    "        if self.state[index+STOCK_DIM+1] > 0:\n",
    "            #update balance\n",
    "            self.state[0] += \\\n",
    "            self.state[index+1]*min(abs(action),self.state[index+STOCK_DIM+1]) * \\\n",
    "             (1- TRANSACTION_FEE_PERCENT)\n",
    "\n",
    "            self.state[index+STOCK_DIM+1] -= min(abs(action), self.state[index+STOCK_DIM+1])\n",
    "            self.cost +=self.state[index+1]*min(abs(action),self.state[index+STOCK_DIM+1]) * \\\n",
    "             TRANSACTION_FEE_PERCENT\n",
    "            self.trades+=1\n",
    "        else:\n",
    "            pass\n",
    "    \n",
    "    def _buy_stock(self, index, action):\n",
    "        # perform buy action based on the sign of the action\n",
    "        available_amount = self.state[0] // self.state[index+1]\n",
    "        # print('available_amount:{}'.format(available_amount))\n",
    "\n",
    "        #update balance\n",
    "        self.state[0] -= self.state[index+1]*min(available_amount, action)* \\\n",
    "                          (1+ TRANSACTION_FEE_PERCENT)\n",
    "\n",
    "        self.state[index+STOCK_DIM+1] += min(available_amount, action)\n",
    "\n",
    "        self.cost+=self.state[index+1]*min(available_amount, action)* \\\n",
    "                          TRANSACTION_FEE_PERCENT\n",
    "        self.trades+=1\n",
    "        \n",
    "    def step(self, actions):\n",
    "        # print(self.day)\n",
    "        self.terminal = self.day >= len(self.df.index.unique())-1\n",
    "        # print(actions)\n",
    "\n",
    "        if self.terminal:\n",
    "            plt.plot(self.asset_memory,'r')\n",
    "            plt.savefig('account_value_train.png')\n",
    "            plt.close()\n",
    "            end_total_asset = self.state[0]+ \\\n",
    "            sum(np.array(self.state[1:(STOCK_DIM+1)])*np.array(self.state[(STOCK_DIM+1):(STOCK_DIM*2+1)]))\n",
    "            print(\"previous_total_asset:{}\".format(self.asset_memory[0]))           \n",
    "\n",
    "            print(\"end_total_asset:{}\".format(end_total_asset))\n",
    "            df_total_value = pd.DataFrame(self.asset_memory)\n",
    "            df_total_value.to_csv('account_value_train.csv')\n",
    "            print(\"total_reward:{}\".format(self.state[0]+sum(np.array(self.state[1:(STOCK_DIM+1)])*np.array(self.state[(STOCK_DIM+1):61]))- INITIAL_ACCOUNT_BALANCE ))\n",
    "            print(\"total_cost: \", self.cost)\n",
    "            print(\"total_trades: \", self.trades)\n",
    "            df_total_value.columns = ['account_value']\n",
    "            df_total_value['daily_return']=df_total_value.pct_change(1)\n",
    "            sharpe = (252**0.5)*df_total_value['daily_return'].mean()/ \\\n",
    "                  df_total_value['daily_return'].std()\n",
    "            print(\"Sharpe: \",sharpe)\n",
    "            print(\"=================================\")\n",
    "            df_rewards = pd.DataFrame(self.rewards_memory)\n",
    "            df_rewards.to_csv('account_rewards_train.csv')\n",
    "\n",
    "            return self.state, self.reward, self.terminal,{}\n",
    "\n",
    "        else:\n",
    "            actions = actions * HMAX_NORMALIZE\n",
    "            \n",
    "            begin_total_asset = self.state[0]+ \\\n",
    "            sum(np.array(self.state[1:(STOCK_DIM+1)])*np.array(self.state[(STOCK_DIM+1):61]))\n",
    "            #print(\"begin_total_asset:{}\".format(begin_total_asset))\n",
    "            \n",
    "            argsort_actions = np.argsort(actions)\n",
    "            \n",
    "            sell_index = argsort_actions[:np.where(actions < 0)[0].shape[0]]\n",
    "            buy_index = argsort_actions[::-1][:np.where(actions > 0)[0].shape[0]]\n",
    "\n",
    "            for index in sell_index:\n",
    "                # print('take sell action'.format(actions[index]))\n",
    "                self._sell_stock(index, actions[index])\n",
    "\n",
    "            for index in buy_index:\n",
    "                # print('take buy action: {}'.format(actions[index]))\n",
    "                self._buy_stock(index, actions[index])\n",
    "\n",
    "            self.day += 1\n",
    "            self.data = self.df.loc[self.day,:]         \n",
    "            #load next state\n",
    "            # print(\"stock_shares:{}\".format(self.state[29:]))\n",
    "            self.state =  [self.state[0]] + \\\n",
    "                    self.data.adjcp.values.tolist() + \\\n",
    "                    list(self.state[(STOCK_DIM+1):61]) + \\\n",
    "                    self.data.macd.values.tolist() + \\\n",
    "                    self.data.rsi.values.tolist() \n",
    "            \n",
    "            end_total_asset = self.state[0]+ \\\n",
    "            sum(np.array(self.state[1:(STOCK_DIM+1)])*np.array(self.state[(STOCK_DIM+1):61]))\n",
    "            \n",
    "            #print(\"end_total_asset:{}\".format(end_total_asset))\n",
    "            \n",
    "            self.reward = end_total_asset - begin_total_asset  \n",
    "            self.rewards_memory.append(self.reward)\n",
    "            \n",
    "            self.reward = self.reward * REWARD_SCALING\n",
    "            # print(\"step_reward:{}\".format(self.reward))\n",
    "            \n",
    "            self.asset_memory.append(end_total_asset)\n",
    "\n",
    "\n",
    "        return self.state, self.reward, self.terminal, {}\n",
    "\n",
    "    def reset(self):\n",
    "        self.asset_memory = [INITIAL_ACCOUNT_BALANCE]\n",
    "        self.day = 0\n",
    "        self.data = self.df.loc[self.day,:]\n",
    "        self.cost = 0\n",
    "        self.trades = 0\n",
    "        self.terminal = False \n",
    "        self.rewards_memory = []\n",
    "        #initiate state\n",
    "        self.state = [INITIAL_ACCOUNT_BALANCE] + \\\n",
    "                      self.data.adjcp.values.tolist() + \\\n",
    "                      [0]*STOCK_DIM + \\\n",
    "                      self.data.macd.values.tolist() + \\\n",
    "                      self.data.rsi.values.tolist() \n",
    "        return self.state\n",
    "    \n",
    "    def render(self, mode='human'):\n",
    "        return self.state\n",
    "\n",
    "    def _seed(self, seed=None):\n",
    "        self.np_random, seed = seeding.np_random(seed)\n",
    "        return [seed]"
   ]
  },
  {
   "cell_type": "markdown",
   "metadata": {
    "id": "4QrezXm3jwu4"
   },
   "source": [
    "## Environment for Trading\n",
    "\n"
   ]
  },
  {
   "cell_type": "code",
   "execution_count": 57,
   "metadata": {
    "id": "UStwTAVCjuHP"
   },
   "outputs": [],
   "source": [
    "## Environment for Trading\n",
    "import numpy as np\n",
    "import pandas as pd\n",
    "from gym.utils import seeding\n",
    "import gym\n",
    "from gym import spaces\n",
    "import matplotlib\n",
    "matplotlib.use('Agg')\n",
    "import matplotlib.pyplot as plt\n",
    "\n",
    "# shares normalization factor\n",
    "# 100 shares per trade\n",
    "HMAX_NORMALIZE = 100\n",
    "# initial amount of money we have in our account\n",
    "INITIAL_ACCOUNT_BALANCE=1000000\n",
    "# total number of stocks in our portfolio\n",
    "STOCK_DIM = 30\n",
    "# transaction fee: 1/1000 reasonable percentage\n",
    "TRANSACTION_FEE_PERCENT = 0.001\n",
    "\n",
    "# turbulence index: 90-150 reasonable threshold\n",
    "#TURBULENCE_THRESHOLD = 140\n",
    "REWARD_SCALING = 1e-4\n",
    "\n",
    "class StockEnvTrade(gym.Env):\n",
    "    \"\"\"A stock trading environment for OpenAI gym\"\"\"\n",
    "    metadata = {'render.modes': ['human']}\n",
    "\n",
    "    def __init__(self, df,day = 0,turbulence_threshold=140):\n",
    "        #super(StockEnv, self).__init__()\n",
    "        #money = 10 , scope = 1\n",
    "        self.day = day\n",
    "        self.df = df\n",
    "        # action_space normalization and shape is STOCK_DIM\n",
    "        self.action_space = spaces.Box(low = -1, high = 1,shape = (STOCK_DIM,)) \n",
    "        # Shape = 181: [Current Balance]+[prices 1-30]+[owned shares 1-30] \n",
    "        # +[macd 1-30]+ [rsi 1-30] + [cci 1-30] + [adx 1-30]\n",
    "        self.observation_space = spaces.Box(low=0, high=np.inf, shape = (121,))\n",
    "        # load data from a pandas dataframe\n",
    "        self.data = self.df.loc[self.day,:]\n",
    "        self.terminal = False     \n",
    "        self.turbulence_threshold = turbulence_threshold\n",
    "        # initalize state\n",
    "        self.state = [INITIAL_ACCOUNT_BALANCE] + \\\n",
    "                      self.data.adjcp.values.tolist() + \\\n",
    "                      [0]*STOCK_DIM + \\\n",
    "                      self.data.macd.values.tolist() + \\\n",
    "                      self.data.rsi.values.tolist() \n",
    "\n",
    "        # initialize reward\n",
    "        self.reward = 0\n",
    "        self.turbulence = 0\n",
    "        self.cost = 0\n",
    "        self.trades = 0\n",
    "        # memorize all the total balance change\n",
    "        self.asset_memory = [INITIAL_ACCOUNT_BALANCE]\n",
    "        self.rewards_memory = []\n",
    "        self.actions_memory=[]\n",
    "        self.date_memory=[]\n",
    "        self._seed()\n",
    "\n",
    "\n",
    "    def _sell_stock(self, index, action):\n",
    "        # perform sell action based on the sign of the action\n",
    "        if self.turbulence<self.turbulence_threshold:\n",
    "            if self.state[index+STOCK_DIM+1] > 0:\n",
    "                #update balance\n",
    "                self.state[0] += \\\n",
    "                self.state[index+1]*min(abs(action),self.state[index+STOCK_DIM+1]) * \\\n",
    "                 (1- TRANSACTION_FEE_PERCENT)\n",
    "                \n",
    "                self.state[index+STOCK_DIM+1] -= min(abs(action), self.state[index+STOCK_DIM+1])\n",
    "                self.cost +=self.state[index+1]*min(abs(action),self.state[index+STOCK_DIM+1]) * \\\n",
    "                 TRANSACTION_FEE_PERCENT\n",
    "                self.trades+=1\n",
    "            else:\n",
    "                pass\n",
    "        else:\n",
    "            # if turbulence goes over threshold, just clear out all positions \n",
    "            if self.state[index+STOCK_DIM+1] > 0:\n",
    "                #update balance\n",
    "                self.state[0] += self.state[index+1]*self.state[index+STOCK_DIM+1]* \\\n",
    "                              (1- TRANSACTION_FEE_PERCENT)\n",
    "                self.state[index+STOCK_DIM+1] =0\n",
    "                self.cost += self.state[index+1]*self.state[index+STOCK_DIM+1]* \\\n",
    "                              TRANSACTION_FEE_PERCENT\n",
    "                self.trades+=1\n",
    "            else:\n",
    "                pass\n",
    "    \n",
    "    def _buy_stock(self, index, action):\n",
    "        # perform buy action based on the sign of the action\n",
    "        if self.turbulence< self.turbulence_threshold:\n",
    "            available_amount = self.state[0] // self.state[index+1]\n",
    "            # print('available_amount:{}'.format(available_amount))\n",
    "            \n",
    "            #update balance\n",
    "            self.state[0] -= self.state[index+1]*min(available_amount, action)* \\\n",
    "                              (1+ TRANSACTION_FEE_PERCENT)\n",
    "\n",
    "            self.state[index+STOCK_DIM+1] += min(available_amount, action)\n",
    "            \n",
    "            self.cost+=self.state[index+1]*min(available_amount, action)* \\\n",
    "                              TRANSACTION_FEE_PERCENT\n",
    "            self.trades+=1\n",
    "        else:\n",
    "            # if turbulence goes over threshold, just stop buying\n",
    "            pass\n",
    "        \n",
    "    def step(self, actions):\n",
    "        # print(self.day)\n",
    "        self.terminal = self.day >= len(self.df.index.unique())-1\n",
    "        # print(actions)\n",
    "\n",
    "        if self.terminal:\n",
    "            plt.plot(self.asset_memory,'r')\n",
    "            plt.savefig('account_value_trade.png')\n",
    "            plt.close()\n",
    "            \n",
    "            df_date = pd.DataFrame(self.date_memory)\n",
    "            df_date.columns = ['datadate']\n",
    "            df_date.to_csv('df_date.csv')\n",
    "            \n",
    "            \n",
    "            df_actions = pd.DataFrame(self.actions_memory)\n",
    "            df_actions.columns = self.data.tic.values\n",
    "            df_actions.index = df_date.datadate                               \n",
    "            df_actions.to_csv('df_actions.csv')\n",
    "            \n",
    "            df_total_value = pd.DataFrame(self.asset_memory)\n",
    "            df_total_value.to_csv('account_value_trade.csv')\n",
    "            end_total_asset = self.state[0]+ \\\n",
    "            sum(np.array(self.state[1:(STOCK_DIM+1)])*np.array(self.state[(STOCK_DIM+1):(STOCK_DIM*2+1)]))\n",
    "            print(\"previous_total_asset:{}\".format(self.asset_memory[0]))           \n",
    "\n",
    "            print(\"end_total_asset:{}\".format(end_total_asset))\n",
    "            print(\"total_reward:{}\".format(self.state[0]+sum(np.array(self.state[1:(STOCK_DIM+1)])*np.array(self.state[(STOCK_DIM+1):61]))- self.asset_memory[0] ))\n",
    "            print(\"total_cost: \", self.cost)\n",
    "            print(\"total trades: \", self.trades)\n",
    "\n",
    "            df_total_value.columns = ['account_value']\n",
    "            df_total_value['daily_return']=df_total_value.pct_change(1)\n",
    "            sharpe = (252**0.5)*df_total_value['daily_return'].mean()/ \\\n",
    "                  df_total_value['daily_return'].std()\n",
    "            print(\"Sharpe: \",sharpe)\n",
    "            \n",
    "            df_rewards = pd.DataFrame(self.rewards_memory)\n",
    "            df_rewards.to_csv('account_rewards_trade.csv')\n",
    "            \n",
    "            # print('total asset: {}'.format(self.state[0]+ sum(np.array(self.state[1:29])*np.array(self.state[29:]))))\n",
    "            #with open('obs.pkl', 'wb') as f:  \n",
    "            #    pickle.dump(self.state, f)\n",
    "            \n",
    "            return self.state, self.reward, self.terminal,{}\n",
    "\n",
    "        else:\n",
    "            # print(np.array(self.state[1:29]))\n",
    "            self.date_memory.append(self.data.datadate.unique())\n",
    "  \n",
    "            #print(self.data)\n",
    "            actions = actions * HMAX_NORMALIZE\n",
    "            if self.turbulence>=self.turbulence_threshold:\n",
    "                actions=np.array([-HMAX_NORMALIZE]*STOCK_DIM)\n",
    "            self.actions_memory.append(actions)\n",
    "            \n",
    "            #actions = (actions.astype(int))\n",
    "            \n",
    "            begin_total_asset = self.state[0]+ \\\n",
    "            sum(np.array(self.state[1:(STOCK_DIM+1)])*np.array(self.state[(STOCK_DIM+1):(STOCK_DIM*2+1)]))\n",
    "            #print(\"begin_total_asset:{}\".format(begin_total_asset))\n",
    "            \n",
    "            argsort_actions = np.argsort(actions)\n",
    "            #print(argsort_actions)\n",
    "            \n",
    "            sell_index = argsort_actions[:np.where(actions < 0)[0].shape[0]]\n",
    "            buy_index = argsort_actions[::-1][:np.where(actions > 0)[0].shape[0]]\n",
    "\n",
    "            for index in sell_index:\n",
    "                # print('take sell action'.format(actions[index]))\n",
    "                self._sell_stock(index, actions[index])\n",
    "\n",
    "            for index in buy_index:\n",
    "                # print('take buy action: {}'.format(actions[index]))\n",
    "                self._buy_stock(index, actions[index])\n",
    "\n",
    "            self.day += 1\n",
    "            self.data = self.df.loc[self.day,:]         \n",
    "            self.turbulence = self.data['turbulence'].values[0]\n",
    "            #print(self.turbulence)\n",
    "            #load next state\n",
    "            # print(\"stock_shares:{}\".format(self.state[29:]))\n",
    "            self.state =  [self.state[0]] + \\\n",
    "                    self.data.adjcp.values.tolist() + \\\n",
    "                    list(self.state[(STOCK_DIM+1):(STOCK_DIM*2+1)]) + \\\n",
    "                    self.data.macd.values.tolist() + \\\n",
    "                    self.data.rsi.values.tolist() \n",
    "            \n",
    "            end_total_asset = self.state[0]+ \\\n",
    "            sum(np.array(self.state[1:(STOCK_DIM+1)])*np.array(self.state[(STOCK_DIM+1):(STOCK_DIM*2+1)]))\n",
    "            \n",
    "            #print(\"end_total_asset:{}\".format(end_total_asset))\n",
    "            \n",
    "            self.reward = end_total_asset - begin_total_asset  \n",
    "            self.rewards_memory.append(self.reward)\n",
    "            \n",
    "            self.reward = self.reward * REWARD_SCALING\n",
    "            \n",
    "            self.asset_memory.append(end_total_asset)\n",
    "\n",
    "        return self.state, self.reward, self.terminal, {}\n",
    "\n",
    "    def reset(self):  \n",
    "        self.asset_memory = [INITIAL_ACCOUNT_BALANCE]\n",
    "        self.day = 0\n",
    "        self.data = self.df.loc[self.day,:]\n",
    "        self.turbulence = 0\n",
    "        self.cost = 0\n",
    "        self.trades = 0\n",
    "        self.terminal = False \n",
    "        #self.iteration=self.iteration\n",
    "        self.rewards_memory = []\n",
    "        self.actions_memory=[]\n",
    "        self.date_memory=[]\n",
    "        #initiate state\n",
    "        self.state = [INITIAL_ACCOUNT_BALANCE] + \\\n",
    "                      self.data.adjcp.values.tolist() + \\\n",
    "                      [0]*STOCK_DIM + \\\n",
    "                      self.data.macd.values.tolist() + \\\n",
    "                      self.data.rsi.values.tolist() \n",
    "\n",
    "        return self.state\n",
    "    \n",
    "    def render(self, mode='human',close=False):\n",
    "        return self.state\n",
    "    \n",
    "\n",
    "    def _seed(self, seed=None):\n",
    "        self.np_random, seed = seeding.np_random(seed)\n",
    "        return [seed]\n",
    "\n"
   ]
  },
  {
   "cell_type": "markdown",
   "metadata": {
    "id": "HMNR5nHjh1iz"
   },
   "source": [
    "# Part 4: Implement DRL Algorithms\n",
    "The implementation of the DRL algorithms are based on OpenAI Baselines and Stable Baselines. Stable Baselines is a fork of OpenAI Baselines, with a major structural refactoring, and code cleanups."
   ]
  },
  {
   "cell_type": "markdown",
   "metadata": {
    "id": "YDmqOyF9h1iz"
   },
   "source": [
    "## Training data split: 2009-01-01 to 2018-12-31"
   ]
  },
  {
   "cell_type": "code",
   "execution_count": 50,
   "metadata": {
    "id": "lN3DB4nFh1iz"
   },
   "outputs": [],
   "source": [
    "def data_split(df,start,end):\n",
    "    \"\"\"\n",
    "    split the dataset into training or testing using date\n",
    "    :param data: (df) pandas dataframe, start, end\n",
    "    :return: (df) pandas dataframe\n",
    "    \"\"\"\n",
    "    data = df[(df.datadate >= start) & (df.datadate < end)]\n",
    "    data=data.sort_values(['datadate','tic'],ignore_index=True)\n",
    "    data.index = data.datadate.factorize()[0]\n",
    "    return data"
   ]
  },
  {
   "cell_type": "code",
   "execution_count": 51,
   "metadata": {
    "id": "UZaEAu0Bh1i4"
   },
   "outputs": [],
   "source": [
    "## set up train & test environment\n",
    "# training env\n",
    "train = data_split(dow_30, start='2009-01-01', end='2019-01-01')\n",
    "env_train = DummyVecEnv([lambda: StockEnvTrain(train)])"
   ]
  },
  {
   "cell_type": "code",
   "execution_count": 52,
   "metadata": {
    "colab": {
     "base_uri": "https://localhost:8080/",
     "height": 204
    },
    "id": "6bCKAexCh1i7",
    "outputId": "d5a8a134-7f3b-48f5-a195-31d973a99053"
   },
   "outputs": [
    {
     "data": {
      "text/html": [
       "<div>\n",
       "<style scoped>\n",
       "    .dataframe tbody tr th:only-of-type {\n",
       "        vertical-align: middle;\n",
       "    }\n",
       "\n",
       "    .dataframe tbody tr th {\n",
       "        vertical-align: top;\n",
       "    }\n",
       "\n",
       "    .dataframe thead th {\n",
       "        text-align: right;\n",
       "    }\n",
       "</style>\n",
       "<table border=\"1\" class=\"dataframe\">\n",
       "  <thead>\n",
       "    <tr style=\"text-align: right;\">\n",
       "      <th></th>\n",
       "      <th>datadate</th>\n",
       "      <th>open</th>\n",
       "      <th>high</th>\n",
       "      <th>low</th>\n",
       "      <th>close</th>\n",
       "      <th>adjcp</th>\n",
       "      <th>volume</th>\n",
       "      <th>tic</th>\n",
       "      <th>macd</th>\n",
       "      <th>rsi</th>\n",
       "      <th>turbulence</th>\n",
       "    </tr>\n",
       "  </thead>\n",
       "  <tbody>\n",
       "    <tr>\n",
       "      <th>0</th>\n",
       "      <td>2009-01-02</td>\n",
       "      <td>3.067143</td>\n",
       "      <td>3.251429</td>\n",
       "      <td>3.041429</td>\n",
       "      <td>3.241071</td>\n",
       "      <td>2.800736</td>\n",
       "      <td>746015200.0</td>\n",
       "      <td>AAPL</td>\n",
       "      <td>0.000000</td>\n",
       "      <td>100.000000</td>\n",
       "      <td>0.0</td>\n",
       "    </tr>\n",
       "    <tr>\n",
       "      <th>0</th>\n",
       "      <td>2009-01-02</td>\n",
       "      <td>18.570000</td>\n",
       "      <td>19.520000</td>\n",
       "      <td>18.400000</td>\n",
       "      <td>19.330000</td>\n",
       "      <td>15.800624</td>\n",
       "      <td>10955700.0</td>\n",
       "      <td>AXP</td>\n",
       "      <td>0.000000</td>\n",
       "      <td>52.253831</td>\n",
       "      <td>0.0</td>\n",
       "    </tr>\n",
       "    <tr>\n",
       "      <th>0</th>\n",
       "      <td>2009-01-02</td>\n",
       "      <td>42.799999</td>\n",
       "      <td>45.560001</td>\n",
       "      <td>42.779999</td>\n",
       "      <td>45.250000</td>\n",
       "      <td>33.680935</td>\n",
       "      <td>7010200.0</td>\n",
       "      <td>BA</td>\n",
       "      <td>0.015364</td>\n",
       "      <td>100.000000</td>\n",
       "      <td>0.0</td>\n",
       "    </tr>\n",
       "    <tr>\n",
       "      <th>0</th>\n",
       "      <td>2009-01-02</td>\n",
       "      <td>44.910000</td>\n",
       "      <td>46.980000</td>\n",
       "      <td>44.709999</td>\n",
       "      <td>46.910000</td>\n",
       "      <td>32.514400</td>\n",
       "      <td>7117200.0</td>\n",
       "      <td>CAT</td>\n",
       "      <td>0.000000</td>\n",
       "      <td>55.913739</td>\n",
       "      <td>0.0</td>\n",
       "    </tr>\n",
       "    <tr>\n",
       "      <th>0</th>\n",
       "      <td>2009-01-02</td>\n",
       "      <td>16.410000</td>\n",
       "      <td>17.000000</td>\n",
       "      <td>16.250000</td>\n",
       "      <td>16.959999</td>\n",
       "      <td>12.786087</td>\n",
       "      <td>40980600.0</td>\n",
       "      <td>CSCO</td>\n",
       "      <td>0.002537</td>\n",
       "      <td>100.000000</td>\n",
       "      <td>0.0</td>\n",
       "    </tr>\n",
       "  </tbody>\n",
       "</table>\n",
       "</div>"
      ],
      "text/plain": [
       "     datadate       open       high  ...      macd         rsi  turbulence\n",
       "0  2009-01-02   3.067143   3.251429  ...  0.000000  100.000000         0.0\n",
       "0  2009-01-02  18.570000  19.520000  ...  0.000000   52.253831         0.0\n",
       "0  2009-01-02  42.799999  45.560001  ...  0.015364  100.000000         0.0\n",
       "0  2009-01-02  44.910000  46.980000  ...  0.000000   55.913739         0.0\n",
       "0  2009-01-02  16.410000  17.000000  ...  0.002537  100.000000         0.0\n",
       "\n",
       "[5 rows x 11 columns]"
      ]
     },
     "execution_count": 52,
     "metadata": {
      "tags": []
     },
     "output_type": "execute_result"
    }
   ],
   "source": [
    "train.head()"
   ]
  },
  {
   "cell_type": "code",
   "execution_count": null,
   "metadata": {
    "id": "qxuiMdpOh1i-"
   },
   "outputs": [],
   "source": []
  },
  {
   "cell_type": "markdown",
   "metadata": {
    "id": "uijiWgkuh1jB"
   },
   "source": [
    "## Model training: DDPG\n"
   ]
  },
  {
   "cell_type": "code",
   "execution_count": 58,
   "metadata": {
    "colab": {
     "base_uri": "https://localhost:8080/"
    },
    "id": "hp6cU5FZh1jC",
    "outputId": "f5f20759-d073-4065-b9ae-dae01b147fb2",
    "scrolled": true
   },
   "outputs": [
    {
     "name": "stdout",
     "output_type": "stream",
     "text": [
      "previous_total_asset:1000000\n",
      "end_total_asset:6258006.042507402\n",
      "total_reward:5258006.042507402\n",
      "total_cost:  9652.770586490826\n",
      "total_trades:  37637\n",
      "Sharpe:  1.1395398207363234\n",
      "=================================\n",
      "WARNING:tensorflow:From /usr/local/lib/python3.6/dist-packages/stable_baselines/common/tf_util.py:502: The name tf.Summary is deprecated. Please use tf.compat.v1.Summary instead.\n",
      "\n",
      "previous_total_asset:1000000\n",
      "end_total_asset:3446713.4259061352\n",
      "total_reward:2446713.4259061352\n",
      "total_cost:  6338.831931407083\n",
      "total_trades:  29127\n",
      "Sharpe:  0.8424284680115036\n",
      "=================================\n",
      "previous_total_asset:1000000\n",
      "end_total_asset:5000679.478905899\n",
      "total_reward:4000679.4789058995\n",
      "total_cost:  2249.005664138875\n",
      "total_trades:  29503\n",
      "Sharpe:  1.0535688534138514\n",
      "=================================\n",
      "previous_total_asset:1000000\n",
      "end_total_asset:4868212.235758473\n",
      "total_reward:3868212.235758473\n",
      "total_cost:  5371.5818438581155\n",
      "total_trades:  31463\n",
      "Sharpe:  1.0245307570649256\n",
      "=================================\n",
      "previous_total_asset:1000000\n",
      "end_total_asset:3228204.408013413\n",
      "total_reward:2228204.408013413\n",
      "total_cost:  11732.849567064663\n",
      "total_trades:  36199\n",
      "Sharpe:  0.7662390017419275\n",
      "=================================\n",
      "previous_total_asset:1000000\n",
      "end_total_asset:5720440.018149975\n",
      "total_reward:4720440.018149975\n",
      "total_cost:  3774.741724240771\n",
      "total_trades:  34135\n",
      "Sharpe:  1.1129335141604781\n",
      "=================================\n",
      "previous_total_asset:1000000\n",
      "end_total_asset:3032306.4857375915\n",
      "total_reward:2032306.4857375915\n",
      "total_cost:  4254.99260366778\n",
      "total_trades:  33888\n",
      "Sharpe:  0.8151188915241612\n",
      "=================================\n",
      "previous_total_asset:1000000\n",
      "end_total_asset:4375824.57515158\n",
      "total_reward:3375824.5751515804\n",
      "total_cost:  5046.566956577963\n",
      "total_trades:  32435\n",
      "Sharpe:  0.9854409525428564\n",
      "=================================\n",
      "previous_total_asset:1000000\n",
      "end_total_asset:6258003.9148509875\n",
      "total_reward:5258003.9148509875\n",
      "total_cost:  5599.056349576226\n",
      "total_trades:  31988\n",
      "Sharpe:  1.209873501030264\n",
      "=================================\n",
      "previous_total_asset:1000000\n",
      "end_total_asset:5597609.131204437\n",
      "total_reward:4597609.131204437\n",
      "total_cost:  12623.352834575739\n",
      "total_trades:  34491\n",
      "Sharpe:  1.0720430353622747\n",
      "=================================\n",
      "previous_total_asset:1000000\n",
      "end_total_asset:5332528.949732567\n",
      "total_reward:4332528.949732567\n",
      "total_cost:  9390.287295152491\n",
      "total_trades:  33317\n",
      "Sharpe:  1.0834295723214502\n",
      "=================================\n",
      "previous_total_asset:1000000\n",
      "end_total_asset:6635616.783821524\n",
      "total_reward:5635616.783821524\n",
      "total_cost:  5663.0505030550075\n",
      "total_trades:  34481\n",
      "Sharpe:  1.0962840012591686\n",
      "=================================\n",
      "previous_total_asset:1000000\n",
      "end_total_asset:5995043.563318614\n",
      "total_reward:4995043.563318614\n",
      "total_cost:  7344.655736907034\n",
      "total_trades:  35499\n",
      "Sharpe:  1.07283840180706\n",
      "=================================\n",
      "previous_total_asset:1000000\n",
      "end_total_asset:7329033.009799359\n",
      "total_reward:6329033.009799359\n",
      "total_cost:  9922.305690796778\n",
      "total_trades:  36925\n",
      "Sharpe:  1.123065165926827\n",
      "=================================\n",
      "previous_total_asset:1000000\n",
      "end_total_asset:4792541.819007217\n",
      "total_reward:3792541.819007217\n",
      "total_cost:  9244.75443609946\n",
      "total_trades:  39337\n",
      "Sharpe:  0.9889166749301315\n",
      "=================================\n",
      "previous_total_asset:1000000\n",
      "end_total_asset:5543881.820639335\n",
      "total_reward:4543881.820639335\n",
      "total_cost:  8398.955484282107\n",
      "total_trades:  38546\n",
      "Sharpe:  1.0092312469811326\n",
      "=================================\n",
      "previous_total_asset:1000000\n",
      "end_total_asset:6522393.958821103\n",
      "total_reward:5522393.958821103\n",
      "total_cost:  6827.3911209482185\n",
      "total_trades:  35212\n",
      "Sharpe:  1.1072154537635501\n",
      "=================================\n",
      "previous_total_asset:1000000\n",
      "end_total_asset:4460503.601130987\n",
      "total_reward:3460503.6011309866\n",
      "total_cost:  9860.094541182625\n",
      "total_trades:  41670\n",
      "Sharpe:  0.8738221356909232\n",
      "=================================\n",
      "previous_total_asset:1000000\n",
      "end_total_asset:5144636.159057248\n",
      "total_reward:4144636.1590572484\n",
      "total_cost:  6198.043792248694\n",
      "total_trades:  38836\n",
      "Sharpe:  0.9863473772268153\n",
      "=================================\n",
      "previous_total_asset:1000000\n",
      "end_total_asset:4148912.9849760123\n",
      "total_reward:3148912.9849760123\n",
      "total_cost:  14638.159842197825\n",
      "total_trades:  40005\n",
      "Sharpe:  0.8333479088719773\n",
      "=================================\n",
      "previous_total_asset:1000000\n",
      "end_total_asset:5785497.511805982\n",
      "total_reward:4785497.511805982\n",
      "total_cost:  7208.616277261466\n",
      "total_trades:  37670\n",
      "Sharpe:  0.9901440570029975\n",
      "=================================\n",
      "previous_total_asset:1000000\n",
      "end_total_asset:5188519.952885733\n",
      "total_reward:4188519.952885733\n",
      "total_cost:  15176.59242537358\n",
      "total_trades:  36585\n",
      "Sharpe:  0.9403576636094645\n",
      "=================================\n",
      "previous_total_asset:1000000\n",
      "end_total_asset:5105396.758874819\n",
      "total_reward:4105396.7588748187\n",
      "total_cost:  10233.784657917218\n",
      "total_trades:  36671\n",
      "Sharpe:  0.9499223153168118\n",
      "=================================\n",
      "previous_total_asset:1000000\n",
      "end_total_asset:6204286.654890025\n",
      "total_reward:5204286.654890025\n",
      "total_cost:  16376.977948885147\n",
      "total_trades:  36503\n",
      "Sharpe:  1.0159597500683342\n",
      "=================================\n",
      "previous_total_asset:1000000\n",
      "end_total_asset:6389137.837549092\n",
      "total_reward:5389137.837549092\n",
      "total_cost:  11935.955826816522\n",
      "total_trades:  37055\n",
      "Sharpe:  1.1704162250481402\n",
      "=================================\n",
      "previous_total_asset:1000000\n",
      "end_total_asset:4390560.613095948\n",
      "total_reward:3390560.6130959475\n",
      "total_cost:  7614.846468918556\n",
      "total_trades:  33274\n",
      "Sharpe:  0.9357084372773737\n",
      "=================================\n",
      "previous_total_asset:1000000\n",
      "end_total_asset:6389903.180774251\n",
      "total_reward:5389903.180774251\n",
      "total_cost:  6228.435142307455\n",
      "total_trades:  35008\n",
      "Sharpe:  1.1178929734698593\n",
      "=================================\n",
      "previous_total_asset:1000000\n",
      "end_total_asset:4786651.0912390845\n",
      "total_reward:3786651.0912390845\n",
      "total_cost:  11411.09641429862\n",
      "total_trades:  43178\n",
      "Sharpe:  0.946325041533925\n",
      "=================================\n",
      "previous_total_asset:1000000\n",
      "end_total_asset:6818018.514539651\n",
      "total_reward:5818018.514539651\n",
      "total_cost:  27077.50004993851\n",
      "total_trades:  39738\n",
      "Sharpe:  1.1714560474413263\n",
      "=================================\n",
      "previous_total_asset:1000000\n",
      "end_total_asset:6068644.321071559\n",
      "total_reward:5068644.321071559\n",
      "total_cost:  12396.382196057064\n",
      "total_trades:  37220\n",
      "Sharpe:  1.0923799285088014\n",
      "=================================\n",
      "previous_total_asset:1000000\n",
      "end_total_asset:3442228.068975519\n",
      "total_reward:2442228.068975519\n",
      "total_cost:  12315.98106972782\n",
      "total_trades:  43746\n",
      "Sharpe:  0.8399631183508403\n",
      "=================================\n",
      "previous_total_asset:1000000\n",
      "end_total_asset:3592957.5671037943\n",
      "total_reward:2592957.5671037943\n",
      "total_cost:  18174.74901461115\n",
      "total_trades:  40078\n",
      "Sharpe:  0.9002621536901733\n",
      "=================================\n",
      "previous_total_asset:1000000\n",
      "end_total_asset:3865663.234531957\n",
      "total_reward:2865663.234531957\n",
      "total_cost:  9819.814445793263\n",
      "total_trades:  39028\n",
      "Sharpe:  0.9698294502339943\n",
      "=================================\n",
      "previous_total_asset:1000000\n",
      "end_total_asset:4286096.684546928\n",
      "total_reward:3286096.684546928\n",
      "total_cost:  8737.477822411662\n",
      "total_trades:  36727\n",
      "Sharpe:  1.0741178263024203\n",
      "=================================\n",
      "previous_total_asset:1000000\n",
      "end_total_asset:4150918.872948373\n",
      "total_reward:3150918.872948373\n",
      "total_cost:  8461.932311653967\n",
      "total_trades:  41000\n",
      "Sharpe:  1.0795485294925407\n",
      "=================================\n",
      "previous_total_asset:1000000\n",
      "end_total_asset:4789735.276461774\n",
      "total_reward:3789735.2764617736\n",
      "total_cost:  8699.977811678289\n",
      "total_trades:  33394\n",
      "Sharpe:  1.0337050770944483\n",
      "=================================\n",
      "previous_total_asset:1000000\n",
      "end_total_asset:3899790.061095206\n",
      "total_reward:2899790.061095206\n",
      "total_cost:  13073.338626008062\n",
      "total_trades:  35392\n",
      "Sharpe:  0.8773263647433694\n",
      "=================================\n",
      "previous_total_asset:1000000\n",
      "end_total_asset:4466159.135121764\n",
      "total_reward:3466159.1351217637\n",
      "total_cost:  19917.56791985404\n",
      "total_trades:  40875\n",
      "Sharpe:  1.00255973304404\n",
      "=================================\n",
      "previous_total_asset:1000000\n",
      "end_total_asset:3682326.935698877\n",
      "total_reward:2682326.935698877\n",
      "total_cost:  14222.081783141379\n",
      "total_trades:  41464\n",
      "Sharpe:  0.921886585317702\n",
      "=================================\n",
      "previous_total_asset:1000000\n",
      "end_total_asset:5349256.432994595\n",
      "total_reward:4349256.432994595\n",
      "total_cost:  22040.54962305927\n",
      "total_trades:  43674\n",
      "Sharpe:  1.1092873904825615\n",
      "=================================\n",
      "previous_total_asset:1000000\n",
      "end_total_asset:5567179.350166393\n",
      "total_reward:4567179.350166393\n",
      "total_cost:  19437.89954230074\n",
      "total_trades:  43175\n",
      "Sharpe:  1.170861030389583\n",
      "=================================\n",
      "previous_total_asset:1000000\n",
      "end_total_asset:4410025.018466634\n",
      "total_reward:3410025.0184666337\n",
      "total_cost:  23795.58767591275\n",
      "total_trades:  45755\n",
      "Sharpe:  0.9828520385524243\n",
      "=================================\n",
      "previous_total_asset:1000000\n",
      "end_total_asset:4500322.107763855\n",
      "total_reward:3500322.107763855\n",
      "total_cost:  28575.285884770452\n",
      "total_trades:  39302\n",
      "Sharpe:  0.9201579824092988\n",
      "=================================\n",
      "previous_total_asset:1000000\n",
      "end_total_asset:5933337.298356331\n",
      "total_reward:4933337.298356331\n",
      "total_cost:  30233.191787891923\n",
      "total_trades:  42293\n",
      "Sharpe:  1.0941472664740475\n",
      "=================================\n",
      "previous_total_asset:1000000\n",
      "end_total_asset:8183060.918799825\n",
      "total_reward:7183060.918799825\n",
      "total_cost:  33082.22302475205\n",
      "total_trades:  42706\n",
      "Sharpe:  1.2746738507664612\n",
      "=================================\n",
      "previous_total_asset:1000000\n",
      "end_total_asset:4743794.2026096415\n",
      "total_reward:3743794.2026096415\n",
      "total_cost:  30781.3414558908\n",
      "total_trades:  41828\n",
      "Sharpe:  0.959748306022589\n",
      "=================================\n",
      "previous_total_asset:1000000\n",
      "end_total_asset:6379961.159272923\n",
      "total_reward:5379961.159272923\n",
      "total_cost:  19752.705062166922\n",
      "total_trades:  45803\n",
      "Sharpe:  1.1896454186662353\n",
      "=================================\n",
      "previous_total_asset:1000000\n",
      "end_total_asset:3011098.0477930936\n",
      "total_reward:2011098.0477930936\n",
      "total_cost:  7045.079893414937\n",
      "total_trades:  40161\n",
      "Sharpe:  0.8233914051041867\n",
      "=================================\n",
      "previous_total_asset:1000000\n",
      "end_total_asset:4454960.258464837\n",
      "total_reward:3454960.2584648374\n",
      "total_cost:  21750.05409269758\n",
      "total_trades:  45948\n",
      "Sharpe:  1.1259582951928735\n",
      "=================================\n",
      "previous_total_asset:1000000\n",
      "end_total_asset:5442030.70229981\n",
      "total_reward:4442030.70229981\n",
      "total_cost:  26364.20307276424\n",
      "total_trades:  40779\n",
      "Sharpe:  1.036243206429374\n",
      "=================================\n",
      "previous_total_asset:1000000\n",
      "end_total_asset:6113301.284364405\n",
      "total_reward:5113301.284364405\n",
      "total_cost:  21401.36010767833\n",
      "total_trades:  46645\n",
      "Sharpe:  1.1142339261951582\n",
      "=================================\n",
      "previous_total_asset:1000000\n",
      "end_total_asset:6545553.622231036\n",
      "total_reward:5545553.622231036\n",
      "total_cost:  28874.764746723562\n",
      "total_trades:  40615\n",
      "Sharpe:  1.1393929988741178\n",
      "=================================\n",
      "previous_total_asset:1000000\n",
      "end_total_asset:6579406.473148075\n",
      "total_reward:5579406.473148075\n",
      "total_cost:  22920.546615940657\n",
      "total_trades:  46090\n",
      "Sharpe:  1.121593396344461\n",
      "=================================\n",
      "previous_total_asset:1000000\n",
      "end_total_asset:5371118.798515421\n",
      "total_reward:4371118.798515421\n",
      "total_cost:  23951.939006217697\n",
      "total_trades:  40254\n",
      "Sharpe:  1.150333117162192\n",
      "=================================\n",
      "previous_total_asset:1000000\n",
      "end_total_asset:6076669.179796301\n",
      "total_reward:5076669.179796301\n",
      "total_cost:  29822.52853158722\n",
      "total_trades:  38674\n",
      "Sharpe:  1.0716162283389703\n",
      "=================================\n",
      "previous_total_asset:1000000\n",
      "end_total_asset:6505243.240137823\n",
      "total_reward:5505243.240137823\n",
      "total_cost:  31444.586422078126\n",
      "total_trades:  43885\n",
      "Sharpe:  1.1690565967894637\n",
      "=================================\n",
      "previous_total_asset:1000000\n",
      "end_total_asset:3707624.5486222506\n",
      "total_reward:2707624.5486222506\n",
      "total_cost:  23746.408832787933\n",
      "total_trades:  41854\n",
      "Sharpe:  0.8826266056186444\n",
      "=================================\n",
      "previous_total_asset:1000000\n",
      "end_total_asset:6649010.346446921\n",
      "total_reward:5649010.346446921\n",
      "total_cost:  30748.701938669405\n",
      "total_trades:  44381\n",
      "Sharpe:  1.1762419806350934\n",
      "=================================\n",
      "previous_total_asset:1000000\n",
      "end_total_asset:6626580.133166305\n",
      "total_reward:5626580.133166305\n",
      "total_cost:  25429.23465231373\n",
      "total_trades:  43231\n",
      "Sharpe:  1.2375883565449322\n",
      "=================================\n",
      "previous_total_asset:1000000\n",
      "end_total_asset:8591331.849409547\n",
      "total_reward:7591331.849409547\n",
      "total_cost:  29731.67724027112\n",
      "total_trades:  41712\n",
      "Sharpe:  1.2604123772461042\n",
      "=================================\n",
      "previous_total_asset:1000000\n",
      "end_total_asset:6387113.7086399775\n",
      "total_reward:5387113.7086399775\n",
      "total_cost:  25885.047109501305\n",
      "total_trades:  38923\n",
      "Sharpe:  1.1881750638458473\n",
      "=================================\n",
      "previous_total_asset:1000000\n",
      "end_total_asset:7939799.606441256\n",
      "total_reward:6939799.606441256\n",
      "total_cost:  20577.200876469393\n",
      "total_trades:  41633\n",
      "Sharpe:  1.2446433559801713\n",
      "=================================\n",
      "previous_total_asset:1000000\n",
      "end_total_asset:4125344.1577435834\n",
      "total_reward:3125344.1577435834\n",
      "total_cost:  21066.560406440127\n",
      "total_trades:  40817\n",
      "Sharpe:  0.9680238340965449\n",
      "=================================\n",
      "previous_total_asset:1000000\n",
      "end_total_asset:4130622.568182315\n",
      "total_reward:3130622.568182315\n",
      "total_cost:  31408.04529794973\n",
      "total_trades:  39544\n",
      "Sharpe:  0.9867942823166521\n",
      "=================================\n",
      "previous_total_asset:1000000\n",
      "end_total_asset:2274813.0333317406\n",
      "total_reward:1274813.0333317406\n",
      "total_cost:  11437.447122061585\n",
      "total_trades:  38455\n",
      "Sharpe:  0.5571289713242571\n",
      "=================================\n",
      "previous_total_asset:1000000\n",
      "end_total_asset:3762930.955376331\n",
      "total_reward:2762930.955376331\n",
      "total_cost:  28100.695117665156\n",
      "total_trades:  39200\n",
      "Sharpe:  0.9547352370211456\n",
      "=================================\n",
      "previous_total_asset:1000000\n",
      "end_total_asset:4414092.663984463\n",
      "total_reward:3414092.6639844626\n",
      "total_cost:  22453.173895629378\n",
      "total_trades:  38252\n",
      "Sharpe:  0.9144004283431453\n",
      "=================================\n",
      "previous_total_asset:1000000\n",
      "end_total_asset:3621173.5631034113\n",
      "total_reward:2621173.5631034113\n",
      "total_cost:  26619.729435718455\n",
      "total_trades:  45724\n",
      "Sharpe:  0.8284715228611951\n",
      "=================================\n",
      "previous_total_asset:1000000\n",
      "end_total_asset:3185928.208313104\n",
      "total_reward:2185928.208313104\n",
      "total_cost:  25793.69676742264\n",
      "total_trades:  45615\n",
      "Sharpe:  0.692197173119648\n",
      "=================================\n",
      "previous_total_asset:1000000\n",
      "end_total_asset:4723178.994645145\n",
      "total_reward:3723178.994645145\n",
      "total_cost:  28672.090834107523\n",
      "total_trades:  41284\n",
      "Sharpe:  0.9358352281063774\n",
      "=================================\n",
      "previous_total_asset:1000000\n",
      "end_total_asset:5218594.942205739\n",
      "total_reward:4218594.942205739\n",
      "total_cost:  15254.725468891389\n",
      "total_trades:  46210\n",
      "Sharpe:  1.0334920534496734\n",
      "=================================\n",
      "previous_total_asset:1000000\n",
      "end_total_asset:4153318.2886068984\n",
      "total_reward:3153318.2886068984\n",
      "total_cost:  39483.74309298818\n",
      "total_trades:  41020\n",
      "Sharpe:  0.9272977622545675\n",
      "=================================\n",
      "previous_total_asset:1000000\n",
      "end_total_asset:6312383.644194547\n",
      "total_reward:5312383.644194547\n",
      "total_cost:  23536.154325076797\n",
      "total_trades:  45458\n",
      "Sharpe:  1.12355448609739\n",
      "=================================\n",
      "previous_total_asset:1000000\n",
      "end_total_asset:5172603.216083085\n",
      "total_reward:4172603.216083085\n",
      "total_cost:  32221.126696426978\n",
      "total_trades:  44982\n",
      "Sharpe:  1.0985469649082866\n",
      "=================================\n",
      "previous_total_asset:1000000\n",
      "end_total_asset:6314860.433967897\n",
      "total_reward:5314860.433967897\n",
      "total_cost:  31277.82672781919\n",
      "total_trades:  44335\n",
      "Sharpe:  1.1006384488361125\n",
      "=================================\n",
      "previous_total_asset:1000000\n",
      "end_total_asset:4073826.1389666325\n",
      "total_reward:3073826.1389666325\n",
      "total_cost:  26916.589264225757\n",
      "total_trades:  39810\n",
      "Sharpe:  0.7981171574628607\n",
      "=================================\n",
      "previous_total_asset:1000000\n",
      "end_total_asset:4429507.234063293\n",
      "total_reward:3429507.234063293\n",
      "total_cost:  23838.431451140106\n",
      "total_trades:  42536\n",
      "Sharpe:  1.0322521708583792\n",
      "=================================\n",
      "previous_total_asset:1000000\n",
      "end_total_asset:4942957.910182452\n",
      "total_reward:3942957.910182452\n",
      "total_cost:  22468.681249836645\n",
      "total_trades:  40547\n",
      "Sharpe:  1.0729033163855999\n",
      "=================================\n",
      "previous_total_asset:1000000\n",
      "end_total_asset:5304047.330011157\n",
      "total_reward:4304047.330011157\n",
      "total_cost:  19471.312314340877\n",
      "total_trades:  38765\n",
      "Sharpe:  1.1231797040446765\n",
      "=================================\n",
      "previous_total_asset:1000000\n",
      "end_total_asset:5486830.588116016\n",
      "total_reward:4486830.588116016\n",
      "total_cost:  20590.744792730064\n",
      "total_trades:  40969\n",
      "Sharpe:  1.0046014033165942\n",
      "=================================\n",
      "previous_total_asset:1000000\n",
      "end_total_asset:4003954.487566444\n",
      "total_reward:3003954.487566444\n",
      "total_cost:  19041.223158526718\n",
      "total_trades:  37756\n",
      "Sharpe:  1.0675761904230565\n",
      "=================================\n",
      "previous_total_asset:1000000\n",
      "end_total_asset:5508504.875264914\n",
      "total_reward:4508504.875264914\n",
      "total_cost:  27526.008429083642\n",
      "total_trades:  46301\n",
      "Sharpe:  1.0852139696022454\n",
      "=================================\n",
      "previous_total_asset:1000000\n",
      "end_total_asset:4441618.765582957\n",
      "total_reward:3441618.7655829573\n",
      "total_cost:  23883.015309109916\n",
      "total_trades:  43637\n",
      "Sharpe:  0.8372733662560499\n",
      "=================================\n",
      "previous_total_asset:1000000\n",
      "end_total_asset:3997803.6345093376\n",
      "total_reward:2997803.6345093376\n",
      "total_cost:  36258.80583239373\n",
      "total_trades:  42686\n",
      "Sharpe:  0.8974759525307473\n",
      "=================================\n",
      "previous_total_asset:1000000\n",
      "end_total_asset:6397494.782383307\n",
      "total_reward:5397494.782383307\n",
      "total_cost:  30554.203612091587\n",
      "total_trades:  45118\n",
      "Sharpe:  1.163148270803249\n",
      "=================================\n",
      "previous_total_asset:1000000\n",
      "end_total_asset:4632805.5022079665\n",
      "total_reward:3632805.5022079665\n",
      "total_cost:  19371.73139547927\n",
      "total_trades:  46359\n",
      "Sharpe:  0.9643332737611163\n",
      "=================================\n",
      "previous_total_asset:1000000\n",
      "end_total_asset:5231110.644676718\n",
      "total_reward:4231110.644676718\n",
      "total_cost:  29364.396292053498\n",
      "total_trades:  44614\n",
      "Sharpe:  1.1160197868097699\n",
      "=================================\n",
      "previous_total_asset:1000000\n",
      "end_total_asset:3737244.1886901204\n",
      "total_reward:2737244.1886901204\n",
      "total_cost:  15226.67444451497\n",
      "total_trades:  40083\n",
      "Sharpe:  1.0117768122784647\n",
      "=================================\n",
      "previous_total_asset:1000000\n",
      "end_total_asset:6174522.656463514\n",
      "total_reward:5174522.656463514\n",
      "total_cost:  29819.03853018055\n",
      "total_trades:  43023\n",
      "Sharpe:  1.197716341316776\n",
      "=================================\n",
      "previous_total_asset:1000000\n",
      "end_total_asset:4068805.3436167724\n",
      "total_reward:3068805.3436167724\n",
      "total_cost:  13610.584215276807\n",
      "total_trades:  40257\n",
      "Sharpe:  0.945602960622788\n",
      "=================================\n",
      "previous_total_asset:1000000\n",
      "end_total_asset:3709390.3295467054\n",
      "total_reward:2709390.3295467054\n",
      "total_cost:  11386.441131635194\n",
      "total_trades:  46939\n",
      "Sharpe:  0.9121059477293767\n",
      "=================================\n",
      "previous_total_asset:1000000\n",
      "end_total_asset:3359865.2091283626\n",
      "total_reward:2359865.2091283626\n",
      "total_cost:  15305.588189369704\n",
      "total_trades:  41036\n",
      "Sharpe:  0.7158804163629157\n",
      "=================================\n",
      "previous_total_asset:1000000\n",
      "end_total_asset:4303177.44944591\n",
      "total_reward:3303177.44944591\n",
      "total_cost:  21387.21412810387\n",
      "total_trades:  47714\n",
      "Sharpe:  0.9326424633329661\n",
      "=================================\n",
      "previous_total_asset:1000000\n",
      "end_total_asset:4027840.100811412\n",
      "total_reward:3027840.100811412\n",
      "total_cost:  23522.289382912782\n",
      "total_trades:  44564\n",
      "Sharpe:  0.9304089900428055\n",
      "=================================\n",
      "previous_total_asset:1000000\n",
      "end_total_asset:4148789.6671692617\n",
      "total_reward:3148789.6671692617\n",
      "total_cost:  20215.474092671975\n",
      "total_trades:  39329\n",
      "Sharpe:  0.9430796285901052\n",
      "=================================\n",
      "previous_total_asset:1000000\n",
      "end_total_asset:4512130.501324894\n",
      "total_reward:3512130.501324894\n",
      "total_cost:  21611.529015011114\n",
      "total_trades:  44061\n",
      "Sharpe:  0.9971954367778807\n",
      "=================================\n",
      "previous_total_asset:1000000\n",
      "end_total_asset:4305970.03810141\n",
      "total_reward:3305970.0381014096\n",
      "total_cost:  27769.664910763408\n",
      "total_trades:  40254\n",
      "Sharpe:  0.9227767261005677\n",
      "=================================\n",
      "previous_total_asset:1000000\n",
      "end_total_asset:4130002.828180163\n",
      "total_reward:3130002.828180163\n",
      "total_cost:  24295.69434663266\n",
      "total_trades:  44081\n",
      "Sharpe:  0.9646038831439377\n",
      "=================================\n",
      "previous_total_asset:1000000\n",
      "end_total_asset:4695584.749942718\n",
      "total_reward:3695584.749942718\n",
      "total_cost:  27900.79133090684\n",
      "total_trades:  50547\n",
      "Sharpe:  0.9660694576567045\n",
      "=================================\n"
     ]
    },
    {
     "data": {
      "text/plain": [
       "<stable_baselines.ddpg.ddpg.DDPG at 0x7fa3671afd68>"
      ]
     },
     "execution_count": 58,
     "metadata": {
      "tags": []
     },
     "output_type": "execute_result"
    }
   ],
   "source": [
    "## tensorboard --logdir ./multiple_stock_tensorboard/\n",
    "# add noise to the action in DDPG helps in learning for better exploration\n",
    "n_actions = env_train.action_space.shape[-1]\n",
    "param_noise = None\n",
    "action_noise = OrnsteinUhlenbeckActionNoise(mean=np.zeros(n_actions), sigma=float(0.5) * np.ones(n_actions))\n",
    "\n",
    "# model settings\n",
    "model_ddpg = DDPG('MlpPolicy', \n",
    "                   env_train,\n",
    "                   batch_size=64,\n",
    "                   buffer_size=100000,\n",
    "                   param_noise=param_noise, \n",
    "                   action_noise=action_noise,\n",
    "                   verbose=0, \n",
    "                   tensorboard_log=\"./multiple_stock_tensorboard/\")\n",
    "\n",
    "## 250k timesteps: took about 20 mins to finish\n",
    "model_ddpg.learn(total_timesteps=250000, tb_log_name=\"DDPG_run_1\")"
   ]
  },
  {
   "cell_type": "markdown",
   "metadata": {
    "id": "f2wZgkQXh1jE"
   },
   "source": [
    "## Trading\n",
    "Assume that we have $1,000,000 initial capital at 2019-01-01. We use the DDPG model to trade Dow jones 30 stocks."
   ]
  },
  {
   "cell_type": "markdown",
   "metadata": {
    "id": "bEv5KGC8h1jE"
   },
   "source": [
    "### Set turbulence threshold\n",
    "Set the turbulence threshold to be the 99% quantile of insample turbulence data, if current turbulence index is greater than the threshold, then we assume that the current market is volatile"
   ]
  },
  {
   "cell_type": "code",
   "execution_count": 59,
   "metadata": {
    "id": "efwBi84ch1jE"
   },
   "outputs": [],
   "source": [
    "insample_turbulence = dow_30[(dow_30.datadate<'2019-01-01') & (dow_30.datadate>='2009-01-01')]\n",
    "insample_turbulence = insample_turbulence.drop_duplicates(subset=['datadate'])"
   ]
  },
  {
   "cell_type": "code",
   "execution_count": 60,
   "metadata": {
    "colab": {
     "base_uri": "https://localhost:8080/"
    },
    "id": "VHZMBpSqh1jG",
    "outputId": "422914c0-00f1-4ed1-c01f-08b0168715be"
   },
   "outputs": [
    {
     "data": {
      "text/plain": [
       "count    2516.000000\n",
       "mean       76.015337\n",
       "std        38.164470\n",
       "min         0.000000\n",
       "25%        58.170414\n",
       "50%        73.987104\n",
       "75%        97.036673\n",
       "max       230.745459\n",
       "Name: turbulence, dtype: float64"
      ]
     },
     "execution_count": 60,
     "metadata": {
      "tags": []
     },
     "output_type": "execute_result"
    }
   ],
   "source": [
    "insample_turbulence.turbulence.describe()"
   ]
  },
  {
   "cell_type": "code",
   "execution_count": 61,
   "metadata": {
    "id": "yuwDPkV9h1jL"
   },
   "outputs": [],
   "source": [
    "insample_turbulence_threshold = np.quantile(insample_turbulence.turbulence.values, 0.99)"
   ]
  },
  {
   "cell_type": "code",
   "execution_count": 62,
   "metadata": {
    "colab": {
     "base_uri": "https://localhost:8080/"
    },
    "id": "wwoz_7VSh1jO",
    "outputId": "1123da04-01e0-40eb-c419-79013942d59d"
   },
   "outputs": [
    {
     "data": {
      "text/plain": [
       "177.39111807427827"
      ]
     },
     "execution_count": 62,
     "metadata": {
      "tags": []
     },
     "output_type": "execute_result"
    }
   ],
   "source": [
    "insample_turbulence_threshold"
   ]
  },
  {
   "cell_type": "markdown",
   "metadata": {
    "id": "U5mmgQF_h1jQ"
   },
   "source": [
    "### Prepare test data and environment"
   ]
  },
  {
   "cell_type": "code",
   "execution_count": 63,
   "metadata": {
    "id": "eLOnL5eYh1jR"
   },
   "outputs": [],
   "source": [
    "# test data\n",
    "test = data_split(dow_30, start='2019-01-01', end='2020-10-30')\n",
    "# testing env\n",
    "env_test = DummyVecEnv([lambda: StockEnvTrade(test, turbulence_threshold=insample_turbulence_threshold)])\n",
    "obs_test = env_test.reset()"
   ]
  },
  {
   "cell_type": "markdown",
   "metadata": {
    "id": "8i1AF6DMh1jU"
   },
   "source": [
    "### Prediction "
   ]
  },
  {
   "cell_type": "code",
   "execution_count": 64,
   "metadata": {
    "id": "aRwQ84Zch1jU"
   },
   "outputs": [],
   "source": [
    "def DRL_prediction(model, data, env, obs):\n",
    "    print(\"==============Model Prediction===========\")\n",
    "    for i in range(len(data.index.unique())):\n",
    "        action, _states = model.predict(obs)\n",
    "        obs, rewards, dones, info = env.step(action)\n",
    "        env.render()"
   ]
  },
  {
   "cell_type": "code",
   "execution_count": 65,
   "metadata": {
    "colab": {
     "base_uri": "https://localhost:8080/"
    },
    "id": "2swWs0ybh1jX",
    "outputId": "6d4c7107-ce7d-4be9-8b85-92ee579a3e13"
   },
   "outputs": [
    {
     "name": "stdout",
     "output_type": "stream",
     "text": [
      "==============Model Prediction===========\n",
      "previous_total_asset:1000000\n",
      "end_total_asset:1355928.5577614377\n",
      "total_reward:355928.5577614377\n",
      "total_cost:  25209.989530353247\n",
      "total trades:  6428\n",
      "Sharpe:  1.1462130668402424\n"
     ]
    }
   ],
   "source": [
    "DRL_prediction(model=model_ddpg, \n",
    "               data=test,\n",
    "               env=env_test, \n",
    "               obs=obs_test)"
   ]
  },
  {
   "cell_type": "markdown",
   "metadata": {
    "id": "W6vvNSC6h1jZ"
   },
   "source": [
    "# Part 5: Backtest Our Strategy\n",
    "For simplicity purposes, in the article, we just calculate the Sharpe ratio and the annual return manually."
   ]
  },
  {
   "cell_type": "code",
   "execution_count": 67,
   "metadata": {
    "id": "poLh4vV4h1jZ"
   },
   "outputs": [],
   "source": [
    "def backtest_strat(df):\n",
    "    strategy_ret= df.copy()\n",
    "    strategy_ret['Date'] = pd.to_datetime(strategy_ret['Date'])\n",
    "    strategy_ret.set_index('Date', drop = False, inplace = True)\n",
    "    strategy_ret.index = strategy_ret.index.tz_localize('UTC')\n",
    "    del strategy_ret['Date']\n",
    "    ts = pd.Series(strategy_ret['daily_return'].values, index=strategy_ret.index)\n",
    "    return ts"
   ]
  },
  {
   "cell_type": "markdown",
   "metadata": {
    "id": "9U6Suru3h1jc"
   },
   "source": [
    "## Dow Jones Industrial Average\n"
   ]
  },
  {
   "cell_type": "code",
   "execution_count": 68,
   "metadata": {
    "colab": {
     "base_uri": "https://localhost:8080/"
    },
    "id": "YktexHcqh1jc",
    "outputId": "d5e50f54-3ba9-496a-851b-372c93516129"
   },
   "outputs": [
    {
     "name": "stdout",
     "output_type": "stream",
     "text": [
      "\r",
      "[*********************100%***********************]  1 of 1 completed\n"
     ]
    }
   ],
   "source": [
    "dji = yf.download(\"^DJI\", start=\"2019-01-01\", end=\"2020-10-30\")\n",
    "dji=dji.reset_index()\n",
    "dji.columns = ['Date', 'Open', 'High', 'Low', 'Close', 'adjcp', 'Volume']"
   ]
  },
  {
   "cell_type": "code",
   "execution_count": 69,
   "metadata": {
    "id": "t9y9KO42h1je"
   },
   "outputs": [],
   "source": [
    "def get_buy_and_hold_sharpe(test):\n",
    "    test['daily_return']=test['adjcp'].pct_change(1)\n",
    "    sharpe = (252**0.5)*test['daily_return'].mean()/ \\\n",
    "    test['daily_return'].std()\n",
    "    annual_return = ((test['daily_return'].mean()+1)**252-1)*100\n",
    "    print(\"annual return: \", annual_return)\n",
    "\n",
    "    print(\"sharpe ratio: \", sharpe)\n",
    "    #return sharpe"
   ]
  },
  {
   "cell_type": "code",
   "execution_count": 70,
   "metadata": {
    "colab": {
     "base_uri": "https://localhost:8080/"
    },
    "id": "QVj2d0KCh1jh",
    "outputId": "cc6ece78-40a5-4cce-f3a8-85b83b605d8c"
   },
   "outputs": [
    {
     "name": "stdout",
     "output_type": "stream",
     "text": [
      "annual return:  12.28712950381945\n",
      "sharpe ratio:  0.4088681653702324\n"
     ]
    }
   ],
   "source": [
    "## get manual results\n",
    "get_buy_and_hold_sharpe(dji)"
   ]
  },
  {
   "cell_type": "code",
   "execution_count": 71,
   "metadata": {
    "id": "VVS68MGqh1jk"
   },
   "outputs": [],
   "source": [
    "dji['daily_return']=dji['adjcp'].pct_change(1)"
   ]
  },
  {
   "cell_type": "code",
   "execution_count": 72,
   "metadata": {
    "id": "MW4fSXm_h1jn"
   },
   "outputs": [],
   "source": [
    "# input for pyfolio\n",
    "dow_strat = backtest_strat(dji)"
   ]
  },
  {
   "cell_type": "markdown",
   "metadata": {
    "id": "mg3F7457h1jr"
   },
   "source": [
    "## Our DRL trading strategy"
   ]
  },
  {
   "cell_type": "code",
   "execution_count": 73,
   "metadata": {
    "id": "zp0f60nrh1js"
   },
   "outputs": [],
   "source": [
    "def get_daily_return(df):\n",
    "    df['daily_return']=df.account_value.pct_change(1)\n",
    "    #df=df.dropna()\n",
    "    sharpe = (252**0.5)*df['daily_return'].mean()/ \\\n",
    "    df['daily_return'].std()\n",
    "    \n",
    "    annual_return = ((df['daily_return'].mean()+1)**252-1)*100\n",
    "    print(\"annual return: \", annual_return)\n",
    "    print(\"sharpe ratio: \", sharpe)    \n",
    "    return df"
   ]
  },
  {
   "cell_type": "code",
   "execution_count": 74,
   "metadata": {
    "id": "UnU9qA0Wh1ju"
   },
   "outputs": [],
   "source": [
    "## load results\n",
    "df_account_value = pd.read_csv('account_value_trade.csv',index_col=0)\n",
    "df_account_value = pd.DataFrame({'account_value':df_account_value['0']})\n"
   ]
  },
  {
   "cell_type": "code",
   "execution_count": 75,
   "metadata": {
    "colab": {
     "base_uri": "https://localhost:8080/"
    },
    "id": "Ub1ONkJ9h1jy",
    "outputId": "5d9b1de7-cfc2-43fd-98e8-1a92b0a4dfc9"
   },
   "outputs": [
    {
     "name": "stdout",
     "output_type": "stream",
     "text": [
      "annual return:  19.81035775555171\n",
      "sharpe ratio:  1.1462130668402417\n"
     ]
    }
   ],
   "source": [
    "## get manual results\n",
    "df_account_value=get_daily_return(df_account_value)"
   ]
  },
  {
   "cell_type": "code",
   "execution_count": 76,
   "metadata": {
    "id": "90mCnh-fh1j1"
   },
   "outputs": [],
   "source": [
    "# input for pyfolio\n",
    "df_account_value['Date'] = dji['Date']\n",
    "DRL_strat = backtest_strat(df_account_value)"
   ]
  },
  {
   "cell_type": "markdown",
   "metadata": {
    "id": "zdyVEkLKuDd-"
   },
   "source": [
    "## Plot the results using Quantopian pyfolio\n",
    "Backtesting plays a key role in evaluating the performance of a trading strategy. Automated backtesting tool is preferred because it reduces the human error. We usually use the Quantopian pyfolio package to backtest our trading strategies. It is easy to use and consists of various individual plots that provide a comprehensive image of the performance of a trading strategy."
   ]
  },
  {
   "cell_type": "code",
   "execution_count": 77,
   "metadata": {
    "colab": {
     "base_uri": "https://localhost:8080/",
     "height": 1000
    },
    "id": "9CIAlgQZh1j4",
    "outputId": "09d67096-761a-4e4f-b4a4-060cf66a5e0e"
   },
   "outputs": [
    {
     "data": {
      "text/html": [
       "<table border=\"1\" class=\"dataframe\">\n",
       "  <thead>\n",
       "    <tr style=\"text-align: right;\"><th>Start date</th><td colspan=2>2019-01-02</td></tr>\n",
       "    <tr style=\"text-align: right;\"><th>End date</th><td colspan=2>2020-10-22</td></tr>\n",
       "    <tr style=\"text-align: right;\"><th>Total months</th><td colspan=2>21</td></tr>\n",
       "    <tr style=\"text-align: right;\">\n",
       "      <th></th>\n",
       "      <th>Backtest</th>\n",
       "    </tr>\n",
       "  </thead>\n",
       "  <tbody>\n",
       "    <tr>\n",
       "      <th>Annual return</th>\n",
       "      <td>18.282%</td>\n",
       "    </tr>\n",
       "    <tr>\n",
       "      <th>Cumulative returns</th>\n",
       "      <td>35.593%</td>\n",
       "    </tr>\n",
       "    <tr>\n",
       "      <th>Annual volatility</th>\n",
       "      <td>15.774%</td>\n",
       "    </tr>\n",
       "    <tr>\n",
       "      <th>Sharpe ratio</th>\n",
       "      <td>1.15</td>\n",
       "    </tr>\n",
       "    <tr>\n",
       "      <th>Calmar ratio</th>\n",
       "      <td>1.50</td>\n",
       "    </tr>\n",
       "    <tr>\n",
       "      <th>Stability</th>\n",
       "      <td>0.77</td>\n",
       "    </tr>\n",
       "    <tr>\n",
       "      <th>Max drawdown</th>\n",
       "      <td>-12.201%</td>\n",
       "    </tr>\n",
       "    <tr>\n",
       "      <th>Omega ratio</th>\n",
       "      <td>1.27</td>\n",
       "    </tr>\n",
       "    <tr>\n",
       "      <th>Sortino ratio</th>\n",
       "      <td>1.60</td>\n",
       "    </tr>\n",
       "    <tr>\n",
       "      <th>Skew</th>\n",
       "      <td>NaN</td>\n",
       "    </tr>\n",
       "    <tr>\n",
       "      <th>Kurtosis</th>\n",
       "      <td>NaN</td>\n",
       "    </tr>\n",
       "    <tr>\n",
       "      <th>Tail ratio</th>\n",
       "      <td>1.19</td>\n",
       "    </tr>\n",
       "    <tr>\n",
       "      <th>Daily value at risk</th>\n",
       "      <td>-1.916%</td>\n",
       "    </tr>\n",
       "    <tr>\n",
       "      <th>Alpha</th>\n",
       "      <td>0.15</td>\n",
       "    </tr>\n",
       "    <tr>\n",
       "      <th>Beta</th>\n",
       "      <td>0.31</td>\n",
       "    </tr>\n",
       "  </tbody>\n",
       "</table>"
      ],
      "text/plain": [
       "<IPython.core.display.HTML object>"
      ]
     },
     "metadata": {
      "tags": []
     },
     "output_type": "display_data"
    },
    {
     "data": {
      "text/html": [
       "<table border=\"1\" class=\"dataframe\">\n",
       "  <thead>\n",
       "    <tr style=\"text-align: right;\">\n",
       "      <th>Worst drawdown periods</th>\n",
       "      <th>Net drawdown in %</th>\n",
       "      <th>Peak date</th>\n",
       "      <th>Valley date</th>\n",
       "      <th>Recovery date</th>\n",
       "      <th>Duration</th>\n",
       "    </tr>\n",
       "  </thead>\n",
       "  <tbody>\n",
       "    <tr>\n",
       "      <th>0</th>\n",
       "      <td>12.20</td>\n",
       "      <td>2020-01-17</td>\n",
       "      <td>2020-02-28</td>\n",
       "      <td>2020-06-08</td>\n",
       "      <td>102</td>\n",
       "    </tr>\n",
       "    <tr>\n",
       "      <th>1</th>\n",
       "      <td>11.61</td>\n",
       "      <td>2020-06-08</td>\n",
       "      <td>2020-09-23</td>\n",
       "      <td>NaT</td>\n",
       "      <td>NaN</td>\n",
       "    </tr>\n",
       "    <tr>\n",
       "      <th>2</th>\n",
       "      <td>5.63</td>\n",
       "      <td>2019-07-29</td>\n",
       "      <td>2019-08-05</td>\n",
       "      <td>2019-08-29</td>\n",
       "      <td>24</td>\n",
       "    </tr>\n",
       "    <tr>\n",
       "      <th>3</th>\n",
       "      <td>3.79</td>\n",
       "      <td>2019-09-12</td>\n",
       "      <td>2019-10-02</td>\n",
       "      <td>2019-10-11</td>\n",
       "      <td>22</td>\n",
       "    </tr>\n",
       "    <tr>\n",
       "      <th>4</th>\n",
       "      <td>3.22</td>\n",
       "      <td>2019-11-18</td>\n",
       "      <td>2019-12-03</td>\n",
       "      <td>2019-12-16</td>\n",
       "      <td>21</td>\n",
       "    </tr>\n",
       "  </tbody>\n",
       "</table>"
      ],
      "text/plain": [
       "<IPython.core.display.HTML object>"
      ]
     },
     "metadata": {
      "tags": []
     },
     "output_type": "display_data"
    },
    {
     "name": "stderr",
     "output_type": "stream",
     "text": [
      "/usr/local/lib/python3.6/dist-packages/pyfolio/tears.py:907: UserWarning: Passed returns do not overlap with anyinteresting times.\n",
      "  'interesting times.', UserWarning)\n"
     ]
    },
    {
     "data": {
      "image/png": "[encoded data removed]",
      "text/plain": [
       "<Figure size 1008x5184 with 13 Axes>"
      ]
     },
     "metadata": {
      "needs_background": "light",
      "tags": []
     },
     "output_type": "display_data"
    }
   ],
   "source": [
    "%matplotlib inline\n",
    "with pyfolio.plotting.plotting_context(font_scale=1.1):\n",
    "    pyfolio.create_full_tear_sheet(returns = DRL_strat,\n",
    "                                   benchmark_rets=dow_strat, set_context=False)"
   ]
  },
  {
   "cell_type": "code",
   "execution_count": null,
   "metadata": {
    "id": "A6W2J57ch1j9"
   },
   "outputs": [],
   "source": []
  }
 ],
 "metadata": {
  "colab": {
   "collapsed_sections": [],
   "include_colab_link": true,
   "name": "DRL_multiple_stock_trading.ipynb",
   "provenance": [],
   "toc_visible": true
  },
  "kernelspec": {
   "display_name": "Python 3",
   "language": "python",
   "name": "python3"
  },
  "language_info": {
   "codemirror_mode": {
    "name": "ipython",
    "version": 3
   },
   "file_extension": ".py",
   "mimetype": "text/x-python",
   "name": "python",
   "nbconvert_exporter": "python",
   "pygments_lexer": "ipython3",
   "version": "3.6.5"
  }
 },
 "nbformat": 4,
 "nbformat_minor": 1
}
